{
 "cells": [
  {
   "cell_type": "markdown",
   "id": "appropriate-remove",
   "metadata": {},
   "source": [
    "### UNSUPERVISED MACHINE LEARNING FOR THE CLASSIFICATION OF ASTROPHYSICAL X-RAY SOURCES"
   ]
  },
  {
   "cell_type": "code",
   "execution_count": 1,
   "id": "bulgarian-prompt",
   "metadata": {},
   "outputs": [],
   "source": [
    "import numpy as np\n",
    "import matplotlib.pyplot as plt\n",
    "import pandas as pd\n",
    "#import seaborn as sns\n",
    "from sklearn.cluster import KMeans\n",
    "from sklearn.metrics import pairwise_distances_argmin_min, silhouette_score\n",
    "from sklearn.preprocessing import MinMaxScaler\n",
    "from astropy import stats\n",
    "from astropy.io.votable import parse\n",
    "\n",
    "import time\n",
    "%matplotlib inline\n",
    "from mpl_toolkits.mplot3d import Axes3D\n",
    "#plt.rcParams['figure.figsize'] = (16, 16)\n",
    "#plt.style.use('ggplot')"
   ]
  },
  {
   "cell_type": "code",
   "execution_count": 2,
   "id": "liberal-happening",
   "metadata": {},
   "outputs": [],
   "source": [
    "def votable_to_pandas(votable_file):\n",
    "    votable = parse(votable_file)\n",
    "    table = votable.get_first_table().to_table(use_names_over_ids=True)\n",
    "    return table.to_pandas()"
   ]
  },
  {
   "cell_type": "code",
   "execution_count": 3,
   "id": "pressed-liberia",
   "metadata": {},
   "outputs": [],
   "source": [
    "data = votable_to_pandas(\"./data/corpus.vot\")"
   ]
  },
  {
   "cell_type": "markdown",
   "id": "detailed-frost",
   "metadata": {},
   "source": [
    "---\n",
    "# K-Means"
   ]
  },
  {
   "cell_type": "code",
   "execution_count": 4,
   "id": "sized-madison",
   "metadata": {},
   "outputs": [],
   "source": [
    "features_out = ['name', 'ra', 'dec', 'theta', 'significance', 'src_area_b', 'flux_aper_b', \n",
    "                'hard_hm', 'hard_hs',\n",
    "               'hard_ms', 'powlaw_gamma', 'bb_kt', 'var_prob_b', 'var_sigma_b',\n",
    "               'var_mean_b', 'var_min_b', 'var_max_b', 'var_prob_h', 'var_sigma_h',\n",
    "               'var_mean_h', 'var_min_h', 'var_max_h', 'var_prob_m', 'var_sigma_m',\n",
    "               'var_mean_m', 'var_min_m', 'var_max_m', 'var_prob_s', 'var_sigma_s',\n",
    "               'var_mean_s', 'var_min_s', 'var_max_s', 'ks_prob_b', 'ks_prob_h',\n",
    "               'ks_prob_m', 'ks_prob_s', 'kp_prob_b', 'kp_prob_h', 'kp_prob_m',\n",
    "               'kp_prob_s']\n",
    "\n",
    "features = ['theta', 'significance', 'src_area_b', 'flux_aper_b', \n",
    "            'hard_hm', 'hard_hs',\n",
    "           'hard_ms', 'powlaw_gamma', 'bb_kt', 'var_prob_b', 'var_sigma_b',\n",
    "           'var_mean_b', 'var_min_b', 'var_max_b', 'var_prob_h', 'var_sigma_h',\n",
    "           'var_mean_h', 'var_min_h', 'var_max_h', 'var_prob_m', 'var_sigma_m',\n",
    "           'var_mean_m', 'var_min_m', 'var_max_m', 'var_prob_s', 'var_sigma_s',\n",
    "           'var_mean_s', 'var_min_s', 'var_max_s', 'ks_prob_b', 'ks_prob_h',\n",
    "           'ks_prob_m', 'ks_prob_s', 'kp_prob_b', 'kp_prob_h', 'kp_prob_m',\n",
    "           'kp_prob_s']\n",
    "\n",
    "features_lognorm = ['theta', 'significance', 'src_area_b', 'flux_aper_b', \n",
    "            'hard_hm', 'hard_hs',\n",
    "           'hard_ms', 'bb_kt', 'var_prob_b', 'var_sigma_b',\n",
    "           'var_mean_b', 'var_min_b', 'var_max_b', 'var_prob_h', 'var_sigma_h',\n",
    "           'var_mean_h', 'var_min_h', 'var_max_h', 'var_prob_m', 'var_sigma_m',\n",
    "           'var_mean_m', 'var_min_m', 'var_max_m', 'var_prob_s', 'var_sigma_s',\n",
    "           'var_mean_s', 'var_min_s', 'var_max_s', 'ks_prob_b', 'ks_prob_h',\n",
    "           'ks_prob_m', 'ks_prob_s', 'kp_prob_b', 'kp_prob_h', 'kp_prob_m',\n",
    "           'kp_prob_s']\n",
    "\n",
    "features_norm = ['powlaw_gamma']\n",
    "\n",
    "X_df_out = data[features_out].dropna()\n",
    "X_df = X_df_out[features]\n",
    "X = X_df.copy().to_numpy()\n"
   ]
  },
  {
   "cell_type": "code",
   "execution_count": 5,
   "id": "intimate-register",
   "metadata": {},
   "outputs": [],
   "source": [
    "# WHITENING\n",
    "X_white = X_df.copy().to_numpy()\n",
    "X_white = (X_white - np.mean(X_white))/np.std(X_white)"
   ]
  },
  {
   "cell_type": "markdown",
   "id": "spiritual-discharge",
   "metadata": {},
   "source": [
    "## Applying log transform and normalizing."
   ]
  },
  {
   "cell_type": "code",
   "execution_count": 6,
   "id": "cellular-crack",
   "metadata": {},
   "outputs": [],
   "source": [
    "# FUNCTION lognorm\n",
    "# Apply log transform adding the minimum non-zero value divided by ten in order to preserve zero properties, then normalize.\n",
    "# INPUT:\n",
    "# X_df = data array\n",
    "# X = data array as np array\n",
    "# name_desc = string, name of the descriptor\n",
    "# log = boolean, True if apply log transform before norm\n",
    "\n",
    "# PROCEDURE:\n",
    "# Modifies X np array of data with the normalizated data\n",
    "def lognorm(X_df, X, name_desc, log):\n",
    "    \n",
    "    col = X_df.columns.get_loc(name_desc)\n",
    "    X_desc = X_df[name_desc]\n",
    "    \n",
    "    if log:\n",
    "        nonzero = X_desc[X_desc!=0]\n",
    "        minval = np.min(nonzero)/10\n",
    "\n",
    "        # print(minval)\n",
    "        X_desc = X_desc + minval\n",
    "\n",
    "        x = np.log(X_desc.values)  #returns a numpy array\n",
    "    else:\n",
    "        x = X_desc.to_numpy()\n",
    "    min_max_scaler = MinMaxScaler(feature_range=(0,1))\n",
    "    x_scaled = min_max_scaler.fit_transform(x.reshape(-1,1))\n",
    "    X[:,col] = x_scaled.flatten()\n",
    "    \n",
    "    return X"
   ]
  },
  {
   "cell_type": "code",
   "execution_count": 7,
   "id": "artistic-clearing",
   "metadata": {},
   "outputs": [],
   "source": [
    "# Log transformation\n",
    "\n",
    "for feature in features_lognorm:\n",
    "    if np.max(X_df[feature]) > 2:\n",
    "        X = lognorm(X_df, X, feature, True)\n",
    "        \n",
    "for feature in features_norm:\n",
    "    if np.max(X_df[feature]) > 2:\n",
    "        X = lognorm(X_df, X, feature, False)\n",
    "        \n",
    "# WHITENING\n",
    "for feature in features_lognorm:\n",
    "    if np.max(X_df[feature]) > 2:\n",
    "        X_white = lognorm(X_df, X_white, feature, True)\n",
    "        \n",
    "for feature in features_norm:\n",
    "    if np.max(X_df[feature]) > 2:\n",
    "        X_white = lognorm(X_df, X_white, feature, False)"
   ]
  },
  {
   "cell_type": "code",
   "execution_count": 8,
   "id": "genetic-jurisdiction",
   "metadata": {},
   "outputs": [],
   "source": [
    "X_df = pd.DataFrame(X, columns=X_df.columns)\n",
    "X_df = X_df.dropna()\n",
    "X_df_out = X_df_out.dropna()\n",
    "X = X_df.to_numpy()"
   ]
  },
  {
   "cell_type": "code",
   "execution_count": 9,
   "id": "excited-stewart",
   "metadata": {},
   "outputs": [],
   "source": [
    "X_white_df = pd.DataFrame(X_white, columns=X_df.columns)\n",
    "X_white_df = X_white_df.dropna()\n",
    "X_white = X_white_df.to_numpy()"
   ]
  },
  {
   "cell_type": "markdown",
   "id": "nervous-manufacturer",
   "metadata": {},
   "source": [
    "---\n",
    "# K-means iterative"
   ]
  },
  {
   "cell_type": "code",
   "execution_count": 10,
   "id": "european-modification",
   "metadata": {},
   "outputs": [],
   "source": [
    "def kmeans_iterative(X_df, X, n_cluster, n_it):\n",
    "    iterations = []\n",
    "    centroids = []\n",
    "    for i in range(n_it):\n",
    "        kmeans = KMeans(n_clusters=n_cluster).fit(X_df)\n",
    "        C_current = kmeans.cluster_centers_\n",
    "        centroids.append(np.linalg.norm(C_current))\n",
    "        print('here',i)\n",
    "        if i > 0:\n",
    "            clust = []\n",
    "            \n",
    "            for x in C_current:\n",
    "                dists = []\n",
    "                for y in C_prev:\n",
    "                    dist = np.linalg.norm(x-y)\n",
    "                    dists.append(dist)\n",
    "                mindist = min(dists)\n",
    "                ind = np.where(dists == mindist)\n",
    "                clust.append(dists[ind[0][0]])\n",
    "            iterations.append(clust)\n",
    "            \n",
    "        C_prev = kmeans.cluster_centers_\n",
    "            \n",
    "    return iterations, centroids"
   ]
  },
  {
   "cell_type": "code",
   "execution_count": 11,
   "id": "confirmed-transcription",
   "metadata": {},
   "outputs": [
    {
     "name": "stdout",
     "output_type": "stream",
     "text": [
      "here 0\n",
      "here 1\n",
      "here 2\n",
      "here 3\n",
      "here 4\n",
      "here 5\n",
      "here 6\n",
      "here 7\n",
      "here 8\n",
      "here 9\n",
      "here 10\n",
      "here 11\n",
      "here 12\n",
      "here 13\n",
      "here 14\n",
      "here 15\n",
      "here 16\n",
      "here 17\n",
      "here 18\n",
      "here 19\n",
      "here 20\n",
      "here 21\n",
      "here 22\n",
      "here 23\n",
      "here 24\n",
      "here 25\n",
      "here 26\n",
      "here 27\n",
      "here 28\n",
      "here 29\n",
      "here 30\n",
      "here 31\n",
      "here 32\n",
      "here 33\n",
      "here 34\n",
      "here 35\n",
      "here 36\n",
      "here 37\n",
      "here 38\n",
      "here 39\n",
      "here 40\n",
      "here 41\n",
      "here 42\n",
      "here 43\n",
      "here 44\n",
      "here 45\n",
      "here 46\n",
      "here 47\n",
      "here 48\n",
      "here 49\n",
      "time: 35.48857641220093\n"
     ]
    }
   ],
   "source": [
    "iterations = []\n",
    "centroids = []\n",
    "t0 = time.time()\n",
    "iterations, centroids = kmeans_iterative(X_df, X, 3, 50)\n",
    "t1 = time.time()\n",
    "\n",
    "total = t1-t0\n",
    "\n",
    "print('time:',total)"
   ]
  },
  {
   "cell_type": "code",
   "execution_count": 12,
   "id": "junior-european",
   "metadata": {},
   "outputs": [],
   "source": [
    "iterations = np.array(iterations)"
   ]
  },
  {
   "cell_type": "code",
   "execution_count": 13,
   "id": "absent-island",
   "metadata": {},
   "outputs": [
    {
     "data": {
      "text/plain": [
       "array([[4.92136389e-04, 2.57080090e-04, 2.31080701e-04],\n",
       "       [7.61277174e-04, 1.62909470e-04, 4.37653781e-04],\n",
       "       [7.61277174e-04, 1.62909470e-04, 4.37653781e-04],\n",
       "       [4.92136389e-04, 2.57080090e-04, 2.31080701e-04],\n",
       "       [0.00000000e+00, 8.32667268e-17, 2.26339869e-16],\n",
       "       [2.57080090e-04, 4.92136389e-04, 2.31080701e-04],\n",
       "       [7.91713256e-04, 3.02879581e-03, 1.75030238e-03],\n",
       "       [2.71738335e-03, 3.73081820e-03, 2.38223458e-03],\n",
       "       [4.65904854e-03, 4.40488777e-03, 4.01103038e-03],\n",
       "       [8.32667268e-17, 1.17961196e-16, 1.14439170e-16],\n",
       "       [1.65372928e-16, 1.15277563e-16, 6.79869978e-17],\n",
       "       [1.00074151e-16, 3.17980066e-17, 6.35960131e-17],\n",
       "       [4.11888967e-04, 1.03182636e-03, 1.64944648e-03],\n",
       "       [1.64944648e-03, 4.11888967e-04, 1.03182636e-03],\n",
       "       [6.20633538e-17, 5.76387817e-17, 5.72195850e-17],\n",
       "       [6.20633538e-17, 6.79869978e-17, 8.35553472e-17],\n",
       "       [6.79869978e-17, 8.32667268e-17, 2.77555756e-17],\n",
       "       [3.10316769e-17, 6.79869978e-17, 1.27946882e-16],\n",
       "       [1.03851855e-16, 1.76089387e-16, 1.69967494e-16],\n",
       "       [8.32667268e-17, 1.59594560e-16, 1.39470041e-16],\n",
       "       [3.91177257e-03, 2.99046651e-03, 2.66114098e-03],\n",
       "       [3.27263010e-03, 2.51389674e-03, 2.58826494e-03],\n",
       "       [3.81528027e-03, 4.30724758e-03, 4.23917408e-03],\n",
       "       [7.55134325e-04, 1.20729445e-03, 2.52243093e-04],\n",
       "       [3.94232115e-03, 3.62431320e-03, 4.28520026e-03],\n",
       "       [1.30922788e-16, 6.79869978e-17, 6.79869978e-17],\n",
       "       [2.77555756e-17, 1.17756934e-16, 2.59722345e-16],\n",
       "       [2.31080701e-04, 2.57080090e-04, 4.92136389e-04],\n",
       "       [2.57080090e-04, 4.92136389e-04, 2.31080701e-04],\n",
       "       [7.85046229e-17, 1.66533454e-16, 1.11886302e-16],\n",
       "       [2.29315277e-04, 1.66024029e-04, 1.55836559e-04],\n",
       "       [1.55836559e-04, 1.66024029e-04, 2.29315277e-04],\n",
       "       [1.57621370e-16, 1.11022302e-16, 6.20633538e-17],\n",
       "       [1.71096859e-16, 8.32667268e-17, 1.57621370e-16],\n",
       "       [1.79876688e-16, 8.32667268e-17, 6.20633538e-17],\n",
       "       [6.79869978e-17, 1.00974196e-28, 1.57009246e-16],\n",
       "       [6.79869978e-17, 1.27946882e-16, 6.20633538e-17],\n",
       "       [1.11022302e-16, 7.34343506e-17, 1.15277563e-16],\n",
       "       [2.29315277e-04, 2.67184967e-04, 3.79902233e-04],\n",
       "       [1.66533454e-16, 2.71947991e-16, 1.35973996e-16],\n",
       "       [2.67184967e-04, 3.79902233e-04, 2.29315277e-04],\n",
       "       [3.32626912e-03, 3.36944224e-03, 4.08307876e-03],\n",
       "       [4.08307876e-03, 3.32626912e-03, 3.36944224e-03],\n",
       "       [8.94899271e-05, 1.60046457e-16, 1.61112778e-04],\n",
       "       [3.92523115e-17, 1.61112778e-04, 8.94899271e-05],\n",
       "       [1.38777878e-17, 8.32667268e-17, 7.85046229e-17],\n",
       "       [7.85046229e-17, 8.44152877e-17, 1.24126708e-16],\n",
       "       [3.85691336e-03, 4.28520026e-03, 4.45147917e-03],\n",
       "       [4.19506615e-04, 4.68693560e-04, 7.55948146e-04]])"
      ]
     },
     "execution_count": 13,
     "metadata": {},
     "output_type": "execute_result"
    }
   ],
   "source": [
    "iterations"
   ]
  },
  {
   "cell_type": "code",
   "execution_count": 14,
   "id": "described-farmer",
   "metadata": {},
   "outputs": [
    {
     "data": {
      "text/plain": [
       "0.0008490188321586746"
      ]
     },
     "execution_count": 14,
     "metadata": {},
     "output_type": "execute_result"
    }
   ],
   "source": [
    "iterations.mean()"
   ]
  },
  {
   "cell_type": "code",
   "execution_count": 15,
   "id": "desperate-import",
   "metadata": {},
   "outputs": [
    {
     "data": {
      "text/plain": [
       "0.001406183114780649"
      ]
     },
     "execution_count": 15,
     "metadata": {},
     "output_type": "execute_result"
    }
   ],
   "source": [
    "iterations.std()"
   ]
  },
  {
   "cell_type": "code",
   "execution_count": 16,
   "id": "spanish-grammar",
   "metadata": {},
   "outputs": [
    {
     "data": {
      "text/plain": [
       "1.977350952294208e-06"
      ]
     },
     "execution_count": 16,
     "metadata": {},
     "output_type": "execute_result"
    }
   ],
   "source": [
    "iterations.var()"
   ]
  },
  {
   "cell_type": "code",
   "execution_count": 18,
   "id": "improving-neighbor",
   "metadata": {},
   "outputs": [
    {
     "data": {
      "text/plain": [
       "5.352168817882301"
      ]
     },
     "execution_count": 18,
     "metadata": {},
     "output_type": "execute_result"
    }
   ],
   "source": [
    "np.array(centroids).mean()"
   ]
  }
 ],
 "metadata": {
  "kernelspec": {
   "display_name": "Python 3",
   "language": "python",
   "name": "python3"
  },
  "language_info": {
   "codemirror_mode": {
    "name": "ipython",
    "version": 3
   },
   "file_extension": ".py",
   "mimetype": "text/x-python",
   "name": "python",
   "nbconvert_exporter": "python",
   "pygments_lexer": "ipython3",
   "version": "3.9.1"
  }
 },
 "nbformat": 4,
 "nbformat_minor": 5
}
