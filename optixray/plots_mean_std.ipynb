{
 "cells": [
  {
   "cell_type": "markdown",
   "id": "molecular-stylus",
   "metadata": {},
   "source": [
    "# Unsupervised Machine Learning for the Classification of Astrophysical X-ray Sources\n",
    "###### *Víctor Samuel Pérez Díaz<sup>1</sup>, Rafael Martinez-Galarza<sup>2</sup>, Alexander Caicedo-Dorado<sup>1</sup>, Raffaele D'Abrusco<sup>2</sup>*\n",
    "\n",
    "*1. Universidad del Rosario, 2. Center for Astrophysics | Harvard & Smithsonian*\n",
    "\n",
    "---"
   ]
  },
  {
   "cell_type": "code",
   "execution_count": null,
   "id": "intimate-shift",
   "metadata": {},
   "outputs": [],
   "source": [
    "import numpy as np\n",
    "import pandas as pd\n",
    "import matplotlib.pyplot as plt\n",
    "import matplotlib as mpl\n",
    "from pylab import cm\n",
    "import math\n",
    "import seaborn as sns"
   ]
  },
  {
   "cell_type": "code",
   "execution_count": null,
   "id": "48fe2036",
   "metadata": {},
   "outputs": [],
   "source": [
    "# Edit the font, font size, and axes width\n",
    "\n",
    "mpl.rcParams['font.family'] = 'Avenir LT Std'\n",
    "plt.rcParams['font.size'] = 14\n",
    "plt.rcParams['axes.linewidth'] = 2"
   ]
  },
  {
   "cell_type": "markdown",
   "id": "98a08978",
   "metadata": {},
   "source": [
    "#### Histogram plots\n",
    "\n",
    "Histogram plots for all features in X-ray only tables and X-ray + Optical."
   ]
  },
  {
   "cell_type": "code",
   "execution_count": null,
   "id": "controlled-begin",
   "metadata": {},
   "outputs": [],
   "source": [
    "df_xray_optical = pd.read_csv('new_sim_data_colors.csv')\n",
    "df_xray_optical.drop('Unnamed: 0.1', inplace=True, axis=1)\n",
    "df_xray_optical.drop('Unnamed: 0', inplace=True, axis=1)"
   ]
  },
  {
   "cell_type": "code",
   "execution_count": null,
   "id": "88da0179",
   "metadata": {},
   "outputs": [],
   "source": [
    "df_xray = pd.read_csv('gmm6_allvar_0_simbad.csv')\n",
    "df_xray.drop('col1', inplace=True, axis=1)\n",
    "features_xray = ['src_area_b', 'hard_hm', 'hard_hs', 'hard_ms', 'powlaw_gamma', 'bb_kt', 'var_prob_b','var_sigma_b', 'var_mean_b', 'var_min_b', 'var_max_b', 'var_prob_h', 'var_sigma_h', 'var_mean_h', 'var_min_h', 'var_max_h', 'var_prob_m', 'var_sigma_m', 'var_mean_m', 'var_min_m', 'var_max_m', 'var_prob_s', 'var_sigma_s',\n",
    "'var_mean_s', 'var_min_s', 'var_max_s', 'ks_prob_b', 'ks_prob_h', 'ks_prob_m', 'ks_prob_s', 'kp_prob_b', 'kp_prob_h', 'kp_prob_m', 'kp_prob_s']\n",
    "\n",
    "features_lognorm_xray = ['theta', 'src_area_b', 'bb_kt', 'var_sigma_b', 'var_mean_b', 'var_min_b', 'var_max_b', 'var_sigma_h', 'var_mean_h', 'var_min_h', 'var_max_h', 'var_sigma_m', 'var_mean_m', 'var_min_m', 'var_max_m',  'var_sigma_s', 'var_mean_s', 'var_min_s', 'var_max_s']\n"
   ]
  },
  {
   "cell_type": "code",
   "execution_count": null,
   "id": "464380d4",
   "metadata": {
    "scrolled": true
   },
   "outputs": [],
   "source": [
    "df_xray.head()"
   ]
  },
  {
   "cell_type": "code",
   "execution_count": null,
   "id": "4d45a732",
   "metadata": {},
   "outputs": [],
   "source": [
    "def move_legend(ax, new_loc, **kws):\n",
    "    '''https://github.com/mwaskom/seaborn/issues/2280'''\n",
    "    old_legend = ax.legend_\n",
    "    handles = old_legend.legendHandles\n",
    "    labels = [t.get_text() for t in old_legend.get_texts()]\n",
    "    title = old_legend.get_title().get_text()\n",
    "    ax.legend(handles, labels, loc=new_loc, title=title, **kws)\n",
    "\n",
    "def hist_plots(df):\n",
    "    colors = cm.get_cmap('Set1')\n",
    "    \n",
    "    features = ['theta', 'src_area_b', 'hard_hm', 'hard_hs', 'hard_ms', 'powlaw_gamma', 'bb_kt', 'var_prob_b','var_sigma_b', 'var_mean_b', 'var_min_b', 'var_max_b', 'var_prob_h', 'var_sigma_h', 'var_mean_h', 'var_min_h', 'var_max_h', 'var_prob_m', 'var_sigma_m', 'var_mean_m', 'var_min_m', 'var_max_m', 'var_prob_s', 'var_sigma_s',\n",
    "    'var_mean_s', 'var_min_s', 'var_max_s', 'ks_prob_b', 'ks_prob_h', 'ks_prob_m', 'ks_prob_s', 'kp_prob_b', 'kp_prob_h', 'kp_prob_m', 'kp_prob_s']\n",
    "\n",
    "    features_lognorm = ['theta', 'src_area_b', 'bb_kt', 'var_sigma_b', 'var_mean_b', 'var_min_b', 'var_max_b', 'var_sigma_h', 'var_mean_h', 'var_min_h', 'var_max_h', 'var_sigma_m', 'var_mean_m', 'var_min_m', 'var_max_m',  'var_sigma_s', 'var_mean_s', 'var_min_s', 'var_max_s']\n",
    "    \n",
    "    nrow = 12; ncol = 3;\n",
    "    fig, axs = plt.subplots(nrows=nrow, ncols=ncol, figsize=(16,60))\n",
    "    fig.tight_layout(h_pad=10, w_pad=2)\n",
    "    for i, ax in enumerate(axs.reshape(-1)): \n",
    "        if i >= len(features):\n",
    "            ax.set_axis_off()\n",
    "            continue\n",
    "        ax.yaxis.set_tick_params(which='major', size=6, width=0.5, direction='in')\n",
    "        ax.yaxis.set_tick_params(which='minor', size=3, width=0.5, direction='in')\n",
    "        ax.xaxis.set_tick_params(which='major', size=6, width=0.5, direction='out')\n",
    "        ax.xaxis.set_tick_params(which='minor', size=3, width=0.5, direction='out')\n",
    "        \n",
    "        if features[i] in features_lognorm:\n",
    "            X_desc = df[features[i]]\n",
    "            nonzero = X_desc[X_desc!=0]\n",
    "            minval = np.min(nonzero)/10\n",
    "\n",
    "            df[features[i]] = X_desc + minval\n",
    "            axsns = sns.histplot(data=df, x=features[i], hue='cluster', ax=ax , palette=colors, bins=30, element=\"step\", log_scale=True)\n",
    "            ax.set_xlabel('log({})'.format(features[i]))\n",
    "        else:\n",
    "            axsns = sns.histplot(data=df, x=features[i], hue='cluster', ax=ax , palette=colors, bins=30, element=\"step\")\n",
    "        move_legend(ax,\n",
    "            new_loc=\"lower center\",\n",
    "            bbox_to_anchor=(.5, 1), ncol=3\n",
    "        )\n",
    "        #ax.set_title(features[i], fontsize=12)\n",
    "        plt.setp(ax.xaxis.get_majorticklabels(), rotation=90)\n",
    "        \n",
    "        #handles, labels = ax.get_legend_handles_labels()\n",
    "    #fig.legend(handles, labels, bbox_to_anchor=(0.8, 1.01))\n",
    "    \n",
    "    #plt.savefig('figures/xray_hists.pdf', dpi=300, transparent=False, bbox_inches='tight')"
   ]
  },
  {
   "cell_type": "code",
   "execution_count": null,
   "id": "667cfbea",
   "metadata": {},
   "outputs": [],
   "source": [
    "# For saving just one plot.\n",
    "colors = cm.get_cmap('Set1')\n",
    "fig, ax = plt.subplots(nrows=1, ncols=1)\n",
    "ax.yaxis.set_tick_params(which='major', size=6, width=0.5, direction='in')\n",
    "ax.yaxis.set_tick_params(which='minor', size=3, width=0.5, direction='in')\n",
    "ax.xaxis.set_tick_params(which='major', size=6, width=0.5, direction='out')\n",
    "ax.xaxis.set_tick_params(which='minor', size=3, width=0.5, direction='out')\n",
    "axsns = sns.histplot(data=df_xray, x='powlaw_gamma_CI_per', hue='cluster', ax=ax , palette=colors, bins=30, element=\"step\")\n",
    "move_legend(ax,\n",
    "new_loc=\"lower center\",\n",
    "bbox_to_anchor=(.5, 1), ncol=3\n",
    ")\n",
    "#ax.set_title(features[i], fontsize=12)\n",
    "plt.setp(ax.xaxis.get_majorticklabels(), rotation=90)\n",
    "#plt.savefig('figures/xray_hist__.svg', dpi=300, transparent=False, bbox_inches='tight')"
   ]
  },
  {
   "cell_type": "code",
   "execution_count": null,
   "id": "a545a34b",
   "metadata": {
    "scrolled": false
   },
   "outputs": [],
   "source": [
    "#hist_plots(df_xray)"
   ]
  },
  {
   "cell_type": "markdown",
   "id": "db77530c",
   "metadata": {},
   "source": [
    "#### Mean and std tables\n",
    "\n",
    "Produce mean and std matrices for all features."
   ]
  },
  {
   "cell_type": "code",
   "execution_count": null,
   "id": "8a8ddd90",
   "metadata": {},
   "outputs": [],
   "source": [
    "features_xray = ['theta', 'src_area_b', 'hard_hm', 'hard_hs', 'hard_ms', 'powlaw_gamma', 'bb_kt', 'var_prob_b','var_sigma_b', 'var_mean_b', 'var_min_b', 'var_max_b', 'var_prob_h', 'var_sigma_h', 'var_mean_h', 'var_min_h', 'var_max_h', 'var_prob_m', 'var_sigma_m', 'var_mean_m', 'var_min_m', 'var_max_m', 'var_prob_s', 'var_sigma_s',\n",
    "    'var_mean_s', 'var_min_s', 'var_max_s', 'ks_prob_b', 'ks_prob_h', 'ks_prob_m', 'ks_prob_s', 'kp_prob_b', 'kp_prob_h', 'kp_prob_m', 'kp_prob_s']\n",
    "features_xray_optical = features_xray + ['u-g', 'g-r', 'r-i', 'i-z']"
   ]
  },
  {
   "cell_type": "code",
   "execution_count": null,
   "id": "22af8314",
   "metadata": {},
   "outputs": [],
   "source": [
    "xray_summary = df_xray.groupby(['cluster']).agg(['mean', 'std'])\n",
    "xray_summary = xray_summary[features_xray]"
   ]
  },
  {
   "cell_type": "code",
   "execution_count": null,
   "id": "4c8ef5c9",
   "metadata": {},
   "outputs": [],
   "source": [
    "xray_optical_summary = df_xray_optical.groupby(['cluster']).agg(['mean', 'std'])\n",
    "xray_optical_summary = xray_optical_summary[features_xray_optical]"
   ]
  },
  {
   "cell_type": "code",
   "execution_count": null,
   "id": "b5df11b0",
   "metadata": {},
   "outputs": [],
   "source": [
    "xray_optical_summary"
   ]
  }
 ],
 "metadata": {
  "interpreter": {
   "hash": "11d41d6631468f14d705776df5667f6bffd4ae088cf4427f5dbcbac068467dc6"
  },
  "kernelspec": {
   "display_name": "Python 3",
   "language": "python",
   "name": "python3"
  },
  "language_info": {
   "codemirror_mode": {
    "name": "ipython",
    "version": 3
   },
   "file_extension": ".py",
   "mimetype": "text/x-python",
   "name": "python",
   "nbconvert_exporter": "python",
   "pygments_lexer": "ipython3",
   "version": "3.9.4"
  }
 },
 "nbformat": 4,
 "nbformat_minor": 5
}
