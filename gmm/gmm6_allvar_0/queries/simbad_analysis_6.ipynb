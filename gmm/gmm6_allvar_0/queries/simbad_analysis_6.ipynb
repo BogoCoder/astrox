{
 "cells": [
  {
   "cell_type": "markdown",
   "id": "molecular-stylus",
   "metadata": {},
   "source": [
    "### UNSUPERVISED MACHINE LEARNING FOR THE CLASSIFICATION OF ASTROPHYSICAL X-RAY SOURCES"
   ]
  },
  {
   "cell_type": "code",
   "execution_count": null,
   "id": "intimate-shift",
   "metadata": {},
   "outputs": [],
   "source": [
    "import numpy as np\n",
    "import pandas as pd"
   ]
  },
  {
   "cell_type": "code",
   "execution_count": null,
   "id": "controlled-begin",
   "metadata": {},
   "outputs": [],
   "source": [
    "sim_data = pd.read_csv('gmm6_allvar_0_simbad.csv')"
   ]
  },
  {
   "cell_type": "code",
   "execution_count": null,
   "metadata": {},
   "outputs": [],
   "source": [
    "sim_df = sim_data[['col1', 'name', 'main_type', 'cluster', 'prob_0', 'prob_1', 'prob_2', 'prob_3', 'prob_4', 'prob_5']]\n",
    "prob_cols = ['prob_0', 'prob_1', 'prob_2', 'prob_3', 'prob_4', 'prob_5']"
   ]
  },
  {
   "cell_type": "code",
   "execution_count": null,
   "metadata": {
    "tags": []
   },
   "outputs": [],
   "source": [
    "sim_df_clean = sim_df.copy().fillna('NaN')"
   ]
  },
  {
   "cell_type": "code",
   "execution_count": null,
   "metadata": {},
   "outputs": [],
   "source": [
    "sim_df_clean.head()"
   ]
  },
  {
   "cell_type": "code",
   "execution_count": null,
   "metadata": {},
   "outputs": [],
   "source": [
    "def create_summary_tables(df):\n",
    "    tables = []\n",
    "    for n in np.unique(df.cluster):\n",
    "        data_n = df[sim_df_clean.cluster == n]\n",
    "        mean_probs = data_n.groupby(['main_type'])[prob_cols].agg(['mean'])\n",
    "        count_obs = data_n.groupby(['main_type']).size()\n",
    "        df_n = pd.concat([mean_probs, count_obs],axis=1)\n",
    "        df_n = df_n.rename(columns={0:'size'})\n",
    "        tables.append(df_n)\n",
    "    return tables"
   ]
  },
  {
   "cell_type": "code",
   "execution_count": null,
   "metadata": {},
   "outputs": [],
   "source": [
    "tables = create_summary_tables(sim_df_clean)"
   ]
  },
  {
   "cell_type": "code",
   "execution_count": null,
   "metadata": {},
   "outputs": [],
   "source": [
    "quer = tables[5].sort_values(by='size', ascending=False).head(10)"
   ]
  }
 ],
 "metadata": {
  "kernelspec": {
   "name": "python391jvsc74a57bd011d41d6631468f14d705776df5667f6bffd4ae088cf4427f5dbcbac068467dc6",
   "display_name": "Python 3.9.1 64-bit ('astrox': conda)"
  },
  "language_info": {
   "codemirror_mode": {
    "name": "ipython",
    "version": 3
   },
   "file_extension": ".py",
   "mimetype": "text/x-python",
   "name": "python",
   "nbconvert_exporter": "python",
   "pygments_lexer": "ipython3",
   "version": "3.9.1"
  }
 },
 "nbformat": 4,
 "nbformat_minor": 5
}