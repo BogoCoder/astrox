{
 "cells": [
  {
   "cell_type": "markdown",
   "id": "molecular-stylus",
   "metadata": {},
   "source": [
    "### UNSUPERVISED MACHINE LEARNING FOR THE CLASSIFICATION OF ASTROPHYSICAL X-RAY SOURCES"
   ]
  },
  {
   "cell_type": "code",
   "execution_count": 4,
   "id": "intimate-shift",
   "metadata": {},
   "outputs": [],
   "source": [
    "import numpy as np\n",
    "import pandas as pd"
   ]
  },
  {
   "cell_type": "code",
   "execution_count": 5,
   "id": "controlled-begin",
   "metadata": {},
   "outputs": [],
   "source": [
    "# Put the name of the data here\n",
    "sim_data = pd.read_csv('gmm10_allvar_0_simbad.csv')"
   ]
  },
  {
   "cell_type": "code",
   "execution_count": 6,
   "metadata": {},
   "outputs": [],
   "source": [
    "# Adjust the columns depending in the number of clusters\n",
    "sim_df = sim_data[['col1', 'main_type', 'cluster', 'prob_0', 'prob_1', 'prob_2', 'prob_3', 'prob_4', 'prob_5',\n",
    "       'prob_6', 'prob_7', 'prob_8', 'prob_9']]\n",
    "prob_cols = ['prob_0', 'prob_1', 'prob_2', 'prob_3', 'prob_4', 'prob_5',\n",
    "       'prob_6', 'prob_7', 'prob_8', 'prob_9']"
   ]
  },
  {
   "cell_type": "code",
   "execution_count": 7,
   "metadata": {
    "tags": []
   },
   "outputs": [],
   "source": [
    "sim_df_clean = sim_df.copy().fillna('NaN')"
   ]
  },
  {
   "cell_type": "code",
   "execution_count": 8,
   "metadata": {},
   "outputs": [],
   "source": [
    "def create_summary_tables(df):\n",
    "    tables = []\n",
    "    for n in np.unique(df.cluster):\n",
    "        data_n = df[sim_df_clean.cluster == n]\n",
    "        mean_probs = data_n.groupby(['main_type'])[prob_cols].agg(['mean'])\n",
    "        count_obs = data_n.groupby(['main_type']).size()\n",
    "        df_n = pd.concat([mean_probs, count_obs],axis=1)\n",
    "        df_n = df_n.rename(columns={0:'size'})\n",
    "        tables.append(df_n)\n",
    "    return tables"
   ]
  },
  {
   "cell_type": "code",
   "execution_count": 9,
   "metadata": {},
   "outputs": [],
   "source": [
    "tables = create_summary_tables(sim_df_clean)"
   ]
  },
  {
   "cell_type": "code",
   "execution_count": 12,
   "metadata": {},
   "outputs": [
    {
     "output_type": "execute_result",
     "data": {
      "text/plain": [
       "               (prob_0, mean)  (prob_1, mean)  (prob_2, mean)  (prob_3, mean)  \\\n",
       "main_type                                                                       \n",
       "NaN                       0.0    6.595989e-06        0.003853        0.000292   \n",
       "X                         0.0    5.837269e-05        0.005288        0.001545   \n",
       "QSO                       0.0    3.075321e-06        0.007793        0.002106   \n",
       "Star                      0.0    5.655070e-06        0.000425        0.000140   \n",
       "Candidate_XB*             0.0    2.867006e-07        0.008805        0.000085   \n",
       "Seyfert_1                 0.0    1.068174e-04        0.001832        0.000570   \n",
       "XB                        0.0    4.109530e-07        0.003188        0.002364   \n",
       "GlCl                      0.0    4.683071e-06        0.002986        0.000049   \n",
       "HMXB                      0.0    1.420968e-09        0.005180        0.008754   \n",
       "YSO                       0.0    1.555436e-09        0.002671        0.002333   \n",
       "\n",
       "               (prob_4, mean)  (prob_5, mean)  (prob_6, mean)  (prob_7, mean)  \\\n",
       "main_type                                                                       \n",
       "NaN                       0.0        0.994469    1.698566e-11        0.001039   \n",
       "X                         0.0        0.990599    1.617317e-15        0.001038   \n",
       "QSO                       0.0        0.985054    1.451201e-12        0.004395   \n",
       "Star                      0.0        0.998510    2.119556e-16        0.000661   \n",
       "Candidate_XB*             0.0        0.989376    1.103120e-18        0.001710   \n",
       "Seyfert_1                 0.0        0.992251    6.498771e-17        0.004528   \n",
       "XB                        0.0        0.990644    5.187286e-15        0.000039   \n",
       "GlCl                      0.0        0.996775    2.649626e-18        0.000002   \n",
       "HMXB                      0.0        0.980387    4.128994e-15        0.001760   \n",
       "YSO                       0.0        0.990074    1.439945e-17        0.004915   \n",
       "\n",
       "               (prob_8, mean)  (prob_9, mean)  size  \n",
       "main_type                                            \n",
       "NaN              1.453530e-12        0.000341  1048  \n",
       "X                2.011336e-13        0.001472   518  \n",
       "QSO              1.615223e-10        0.000648   494  \n",
       "Star             1.076770e-11        0.000259   399  \n",
       "Candidate_XB*    9.875158e-12        0.000023   201  \n",
       "Seyfert_1        2.995912e-13        0.000712   159  \n",
       "XB               1.144250e-08        0.003765   157  \n",
       "GlCl             1.371420e-13        0.000184   142  \n",
       "HMXB             1.944807e-11        0.003920   135  \n",
       "YSO              3.345649e-13        0.000006   132  "
      ],
      "text/html": "<div>\n<style scoped>\n    .dataframe tbody tr th:only-of-type {\n        vertical-align: middle;\n    }\n\n    .dataframe tbody tr th {\n        vertical-align: top;\n    }\n\n    .dataframe thead th {\n        text-align: right;\n    }\n</style>\n<table border=\"1\" class=\"dataframe\">\n  <thead>\n    <tr style=\"text-align: right;\">\n      <th></th>\n      <th>(prob_0, mean)</th>\n      <th>(prob_1, mean)</th>\n      <th>(prob_2, mean)</th>\n      <th>(prob_3, mean)</th>\n      <th>(prob_4, mean)</th>\n      <th>(prob_5, mean)</th>\n      <th>(prob_6, mean)</th>\n      <th>(prob_7, mean)</th>\n      <th>(prob_8, mean)</th>\n      <th>(prob_9, mean)</th>\n      <th>size</th>\n    </tr>\n    <tr>\n      <th>main_type</th>\n      <th></th>\n      <th></th>\n      <th></th>\n      <th></th>\n      <th></th>\n      <th></th>\n      <th></th>\n      <th></th>\n      <th></th>\n      <th></th>\n      <th></th>\n    </tr>\n  </thead>\n  <tbody>\n    <tr>\n      <th>NaN</th>\n      <td>0.0</td>\n      <td>6.595989e-06</td>\n      <td>0.003853</td>\n      <td>0.000292</td>\n      <td>0.0</td>\n      <td>0.994469</td>\n      <td>1.698566e-11</td>\n      <td>0.001039</td>\n      <td>1.453530e-12</td>\n      <td>0.000341</td>\n      <td>1048</td>\n    </tr>\n    <tr>\n      <th>X</th>\n      <td>0.0</td>\n      <td>5.837269e-05</td>\n      <td>0.005288</td>\n      <td>0.001545</td>\n      <td>0.0</td>\n      <td>0.990599</td>\n      <td>1.617317e-15</td>\n      <td>0.001038</td>\n      <td>2.011336e-13</td>\n      <td>0.001472</td>\n      <td>518</td>\n    </tr>\n    <tr>\n      <th>QSO</th>\n      <td>0.0</td>\n      <td>3.075321e-06</td>\n      <td>0.007793</td>\n      <td>0.002106</td>\n      <td>0.0</td>\n      <td>0.985054</td>\n      <td>1.451201e-12</td>\n      <td>0.004395</td>\n      <td>1.615223e-10</td>\n      <td>0.000648</td>\n      <td>494</td>\n    </tr>\n    <tr>\n      <th>Star</th>\n      <td>0.0</td>\n      <td>5.655070e-06</td>\n      <td>0.000425</td>\n      <td>0.000140</td>\n      <td>0.0</td>\n      <td>0.998510</td>\n      <td>2.119556e-16</td>\n      <td>0.000661</td>\n      <td>1.076770e-11</td>\n      <td>0.000259</td>\n      <td>399</td>\n    </tr>\n    <tr>\n      <th>Candidate_XB*</th>\n      <td>0.0</td>\n      <td>2.867006e-07</td>\n      <td>0.008805</td>\n      <td>0.000085</td>\n      <td>0.0</td>\n      <td>0.989376</td>\n      <td>1.103120e-18</td>\n      <td>0.001710</td>\n      <td>9.875158e-12</td>\n      <td>0.000023</td>\n      <td>201</td>\n    </tr>\n    <tr>\n      <th>Seyfert_1</th>\n      <td>0.0</td>\n      <td>1.068174e-04</td>\n      <td>0.001832</td>\n      <td>0.000570</td>\n      <td>0.0</td>\n      <td>0.992251</td>\n      <td>6.498771e-17</td>\n      <td>0.004528</td>\n      <td>2.995912e-13</td>\n      <td>0.000712</td>\n      <td>159</td>\n    </tr>\n    <tr>\n      <th>XB</th>\n      <td>0.0</td>\n      <td>4.109530e-07</td>\n      <td>0.003188</td>\n      <td>0.002364</td>\n      <td>0.0</td>\n      <td>0.990644</td>\n      <td>5.187286e-15</td>\n      <td>0.000039</td>\n      <td>1.144250e-08</td>\n      <td>0.003765</td>\n      <td>157</td>\n    </tr>\n    <tr>\n      <th>GlCl</th>\n      <td>0.0</td>\n      <td>4.683071e-06</td>\n      <td>0.002986</td>\n      <td>0.000049</td>\n      <td>0.0</td>\n      <td>0.996775</td>\n      <td>2.649626e-18</td>\n      <td>0.000002</td>\n      <td>1.371420e-13</td>\n      <td>0.000184</td>\n      <td>142</td>\n    </tr>\n    <tr>\n      <th>HMXB</th>\n      <td>0.0</td>\n      <td>1.420968e-09</td>\n      <td>0.005180</td>\n      <td>0.008754</td>\n      <td>0.0</td>\n      <td>0.980387</td>\n      <td>4.128994e-15</td>\n      <td>0.001760</td>\n      <td>1.944807e-11</td>\n      <td>0.003920</td>\n      <td>135</td>\n    </tr>\n    <tr>\n      <th>YSO</th>\n      <td>0.0</td>\n      <td>1.555436e-09</td>\n      <td>0.002671</td>\n      <td>0.002333</td>\n      <td>0.0</td>\n      <td>0.990074</td>\n      <td>1.439945e-17</td>\n      <td>0.004915</td>\n      <td>3.345649e-13</td>\n      <td>0.000006</td>\n      <td>132</td>\n    </tr>\n  </tbody>\n</table>\n</div>"
     },
     "metadata": {},
     "execution_count": 12
    }
   ],
   "source": [
    "# Adjust the number of the cluster that you want to see\n",
    "cluster = 5\n",
    "tables[cluster].sort_values(by='size', ascending=False).head(10)"
   ]
  }
 ],
 "metadata": {
  "kernelspec": {
   "name": "python391jvsc74a57bd011d41d6631468f14d705776df5667f6bffd4ae088cf4427f5dbcbac068467dc6",
   "display_name": "Python 3.9.1 64-bit ('astrox': conda)"
  },
  "language_info": {
   "codemirror_mode": {
    "name": "ipython",
    "version": 3
   },
   "file_extension": ".py",
   "mimetype": "text/x-python",
   "name": "python",
   "nbconvert_exporter": "python",
   "pygments_lexer": "ipython3",
   "version": "3.9.1"
  }
 },
 "nbformat": 4,
 "nbformat_minor": 5
}