{
 "cells": [
  {
   "cell_type": "markdown",
   "id": "molecular-stylus",
   "metadata": {},
   "source": [
    "### UNSUPERVISED MACHINE LEARNING FOR THE CLASSIFICATION OF ASTROPHYSICAL X-RAY SOURCES"
   ]
  },
  {
   "cell_type": "code",
   "execution_count": 1,
   "id": "intimate-shift",
   "metadata": {},
   "outputs": [],
   "source": [
    "import numpy as np\n",
    "import pandas as pd"
   ]
  },
  {
   "cell_type": "code",
   "execution_count": 2,
   "id": "controlled-begin",
   "metadata": {},
   "outputs": [],
   "source": [
    "sim_data = pd.read_csv('gmm10_allvar_0_simbad.csv')"
   ]
  },
  {
   "cell_type": "code",
   "execution_count": 3,
   "metadata": {},
   "outputs": [],
   "source": [
    "sim_df = sim_data[['col1', 'main_type', 'cluster', 'prob_0', 'prob_1', 'prob_2', 'prob_3', 'prob_4', 'prob_5',\n",
    "       'prob_6', 'prob_7', 'prob_8', 'prob_9']]\n",
    "prob_cols = ['prob_0', 'prob_1', 'prob_2', 'prob_3', 'prob_4', 'prob_5',\n",
    "       'prob_6', 'prob_7', 'prob_8', 'prob_9']"
   ]
  },
  {
   "cell_type": "code",
   "execution_count": 4,
   "metadata": {
    "tags": []
   },
   "outputs": [],
   "source": [
    "sim_df_clean = sim_df.copy().fillna('NaN')"
   ]
  },
  {
   "cell_type": "code",
   "execution_count": 8,
   "metadata": {},
   "outputs": [],
   "source": [
    "def create_summary_tables(df):\n",
    "    tables = []\n",
    "    for n in np.unique(df.cluster):\n",
    "        data_n = df[sim_df_clean.cluster == n]\n",
    "        mean_probs = data_n.groupby(['main_type'])[prob_cols].agg(['mean'])\n",
    "        count_obs = data_n.groupby(['main_type']).size()\n",
    "        df_n = pd.concat([mean_probs, count_obs],axis=1)\n",
    "        df_n = df_n.rename(columns={0:'size'}).sort_values(by='size', ascending=False)\n",
    "        tables.append(df_n)\n",
    "    return tables"
   ]
  },
  {
   "cell_type": "code",
   "execution_count": 9,
   "metadata": {},
   "outputs": [],
   "source": [
    "tables = create_summary_tables(sim_df_clean)"
   ]
  },
  {
   "cell_type": "code",
   "execution_count": 24,
   "metadata": {},
   "outputs": [
    {
     "output_type": "execute_result",
     "data": {
      "text/plain": [
       "           (prob_0, mean)  (prob_1, mean)  (prob_2, mean)  (prob_3, mean)  \\\n",
       "main_type                                                                   \n",
       "NaN                   0.0        0.024218        0.018404        0.006152   \n",
       "X                     0.0        0.025268        0.013587        0.011844   \n",
       "YSO                   0.0        0.017161        0.006959        0.006042   \n",
       "Orion_V*              0.0        0.011837        0.000402        0.005518   \n",
       "Star                  0.0        0.018008        0.006448        0.002757   \n",
       "QSO                   0.0        0.026785        0.016638        0.003945   \n",
       "HMXB                  0.0        0.004652        0.004250        0.023315   \n",
       "TTau*                 0.0        0.013140        0.007423        0.000019   \n",
       "AGN                   0.0        0.042021        0.014133        0.000051   \n",
       "Seyfert_1             0.0        0.022315        0.007766        0.000550   \n",
       "\n",
       "           (prob_4, mean)  (prob_5, mean)  (prob_6, mean)  (prob_7, mean)  \\\n",
       "main_type                                                                   \n",
       "NaN          2.224503e-04    1.806631e-03    2.614740e-06        0.005681   \n",
       "X            5.561839e-05    5.832449e-04    1.572163e-05        0.003529   \n",
       "YSO          3.302639e-04    1.232502e-05    7.021262e-08        0.003897   \n",
       "Orion_V*     1.829891e-03    1.061246e-03    2.311627e-09        0.006599   \n",
       "Star         7.028841e-04    6.583793e-04    4.887923e-04        0.004790   \n",
       "QSO          1.707936e-17    5.846150e-04    1.069311e-06        0.013129   \n",
       "HMXB         3.758668e-21    3.901069e-03    3.487432e-06        0.000384   \n",
       "TTau*        3.505930e-05    2.331577e-06    5.514435e-09        0.002801   \n",
       "AGN          1.083594e-09    5.238230e-03    1.198187e-04        0.000968   \n",
       "Seyfert_1    5.162626e-05    4.510460e-08    9.687642e-10        0.012545   \n",
       "\n",
       "           (prob_8, mean)  (prob_9, mean)  size  \n",
       "main_type                                        \n",
       "NaN              0.005806        0.937707   587  \n",
       "X                0.004633        0.940484   297  \n",
       "YSO              0.006359        0.959239   271  \n",
       "Orion_V*         0.007939        0.964813   237  \n",
       "Star             0.006695        0.959452   211  \n",
       "QSO              0.006227        0.932690   180  \n",
       "HMXB             0.002605        0.960889   130  \n",
       "TTau*            0.016006        0.960575    85  \n",
       "AGN              0.001547        0.935921    60  \n",
       "Seyfert_1        0.003019        0.953753    57  "
      ],
      "text/html": "<div>\n<style scoped>\n    .dataframe tbody tr th:only-of-type {\n        vertical-align: middle;\n    }\n\n    .dataframe tbody tr th {\n        vertical-align: top;\n    }\n\n    .dataframe thead th {\n        text-align: right;\n    }\n</style>\n<table border=\"1\" class=\"dataframe\">\n  <thead>\n    <tr style=\"text-align: right;\">\n      <th></th>\n      <th>(prob_0, mean)</th>\n      <th>(prob_1, mean)</th>\n      <th>(prob_2, mean)</th>\n      <th>(prob_3, mean)</th>\n      <th>(prob_4, mean)</th>\n      <th>(prob_5, mean)</th>\n      <th>(prob_6, mean)</th>\n      <th>(prob_7, mean)</th>\n      <th>(prob_8, mean)</th>\n      <th>(prob_9, mean)</th>\n      <th>size</th>\n    </tr>\n    <tr>\n      <th>main_type</th>\n      <th></th>\n      <th></th>\n      <th></th>\n      <th></th>\n      <th></th>\n      <th></th>\n      <th></th>\n      <th></th>\n      <th></th>\n      <th></th>\n      <th></th>\n    </tr>\n  </thead>\n  <tbody>\n    <tr>\n      <th>NaN</th>\n      <td>0.0</td>\n      <td>0.024218</td>\n      <td>0.018404</td>\n      <td>0.006152</td>\n      <td>2.224503e-04</td>\n      <td>1.806631e-03</td>\n      <td>2.614740e-06</td>\n      <td>0.005681</td>\n      <td>0.005806</td>\n      <td>0.937707</td>\n      <td>587</td>\n    </tr>\n    <tr>\n      <th>X</th>\n      <td>0.0</td>\n      <td>0.025268</td>\n      <td>0.013587</td>\n      <td>0.011844</td>\n      <td>5.561839e-05</td>\n      <td>5.832449e-04</td>\n      <td>1.572163e-05</td>\n      <td>0.003529</td>\n      <td>0.004633</td>\n      <td>0.940484</td>\n      <td>297</td>\n    </tr>\n    <tr>\n      <th>YSO</th>\n      <td>0.0</td>\n      <td>0.017161</td>\n      <td>0.006959</td>\n      <td>0.006042</td>\n      <td>3.302639e-04</td>\n      <td>1.232502e-05</td>\n      <td>7.021262e-08</td>\n      <td>0.003897</td>\n      <td>0.006359</td>\n      <td>0.959239</td>\n      <td>271</td>\n    </tr>\n    <tr>\n      <th>Orion_V*</th>\n      <td>0.0</td>\n      <td>0.011837</td>\n      <td>0.000402</td>\n      <td>0.005518</td>\n      <td>1.829891e-03</td>\n      <td>1.061246e-03</td>\n      <td>2.311627e-09</td>\n      <td>0.006599</td>\n      <td>0.007939</td>\n      <td>0.964813</td>\n      <td>237</td>\n    </tr>\n    <tr>\n      <th>Star</th>\n      <td>0.0</td>\n      <td>0.018008</td>\n      <td>0.006448</td>\n      <td>0.002757</td>\n      <td>7.028841e-04</td>\n      <td>6.583793e-04</td>\n      <td>4.887923e-04</td>\n      <td>0.004790</td>\n      <td>0.006695</td>\n      <td>0.959452</td>\n      <td>211</td>\n    </tr>\n    <tr>\n      <th>QSO</th>\n      <td>0.0</td>\n      <td>0.026785</td>\n      <td>0.016638</td>\n      <td>0.003945</td>\n      <td>1.707936e-17</td>\n      <td>5.846150e-04</td>\n      <td>1.069311e-06</td>\n      <td>0.013129</td>\n      <td>0.006227</td>\n      <td>0.932690</td>\n      <td>180</td>\n    </tr>\n    <tr>\n      <th>HMXB</th>\n      <td>0.0</td>\n      <td>0.004652</td>\n      <td>0.004250</td>\n      <td>0.023315</td>\n      <td>3.758668e-21</td>\n      <td>3.901069e-03</td>\n      <td>3.487432e-06</td>\n      <td>0.000384</td>\n      <td>0.002605</td>\n      <td>0.960889</td>\n      <td>130</td>\n    </tr>\n    <tr>\n      <th>TTau*</th>\n      <td>0.0</td>\n      <td>0.013140</td>\n      <td>0.007423</td>\n      <td>0.000019</td>\n      <td>3.505930e-05</td>\n      <td>2.331577e-06</td>\n      <td>5.514435e-09</td>\n      <td>0.002801</td>\n      <td>0.016006</td>\n      <td>0.960575</td>\n      <td>85</td>\n    </tr>\n    <tr>\n      <th>AGN</th>\n      <td>0.0</td>\n      <td>0.042021</td>\n      <td>0.014133</td>\n      <td>0.000051</td>\n      <td>1.083594e-09</td>\n      <td>5.238230e-03</td>\n      <td>1.198187e-04</td>\n      <td>0.000968</td>\n      <td>0.001547</td>\n      <td>0.935921</td>\n      <td>60</td>\n    </tr>\n    <tr>\n      <th>Seyfert_1</th>\n      <td>0.0</td>\n      <td>0.022315</td>\n      <td>0.007766</td>\n      <td>0.000550</td>\n      <td>5.162626e-05</td>\n      <td>4.510460e-08</td>\n      <td>9.687642e-10</td>\n      <td>0.012545</td>\n      <td>0.003019</td>\n      <td>0.953753</td>\n      <td>57</td>\n    </tr>\n  </tbody>\n</table>\n</div>"
     },
     "metadata": {},
     "execution_count": 24
    }
   ],
   "source": [
    "tables[9].head(10)"
   ]
  },
  {
   "cell_type": "code",
   "execution_count": 12,
   "metadata": {},
   "outputs": [
    {
     "output_type": "execute_result",
     "data": {
      "text/plain": [
       "           (prob_0, mean)  (prob_1, mean)  (prob_2, mean)  (prob_3, mean)  \\\n",
       "main_type                                                                   \n",
       "NaN                   0.0        0.966608        0.009020        0.001197   \n",
       "X                     0.0        0.954766        0.013811        0.002693   \n",
       "QSO                   0.0        0.967685        0.013149        0.000035   \n",
       "YSO                   0.0        0.955048        0.006397        0.000835   \n",
       "AGN                   0.0        0.961041        0.008013        0.000039   \n",
       "Star                  0.0        0.945519        0.008542        0.002730   \n",
       "Orion_V*              0.0        0.941423        0.008726        0.001177   \n",
       "Galaxy                0.0        0.967342        0.006801        0.000689   \n",
       "LMXB                  0.0        0.962871        0.008390        0.001281   \n",
       "HMXB                  0.0        0.952656        0.007154        0.001865   \n",
       "\n",
       "           (prob_4, mean)  (prob_5, mean)  (prob_6, mean)  (prob_7, mean)  \\\n",
       "main_type                                                                   \n",
       "NaN          5.743966e-04    4.282606e-05    2.373105e-04    2.387582e-05   \n",
       "X            1.869783e-03    1.438967e-04    1.159400e-04    8.007061e-04   \n",
       "QSO          3.880471e-08    4.303428e-14    1.187410e-05    2.363180e-04   \n",
       "YSO          9.626843e-08    6.471447e-46    3.928806e-07    3.515779e-04   \n",
       "AGN          3.556895e-19    2.638929e-03    7.480558e-07    2.604931e-03   \n",
       "Star         2.230499e-06    1.630829e-04    1.128477e-08    3.843771e-04   \n",
       "Orion_V*     1.621415e-07    2.010730e-14    8.784672e-10    3.156941e-03   \n",
       "Galaxy       3.384682e-09    3.511757e-37    3.642854e-06    1.023275e-10   \n",
       "LMXB         4.006548e-42    1.989359e-15    1.233967e-12    3.307285e-09   \n",
       "HMXB         1.623567e-09    1.825841e-29    1.824961e-03    5.475559e-06   \n",
       "\n",
       "           (prob_8, mean)  (prob_9, mean)  size  \n",
       "main_type                                        \n",
       "NaN              0.001549        0.020748   769  \n",
       "X                0.004970        0.020830   305  \n",
       "QSO              0.000747        0.018136   264  \n",
       "YSO              0.006872        0.030497   125  \n",
       "AGN              0.006187        0.019476   108  \n",
       "Star             0.001038        0.041622   105  \n",
       "Orion_V*         0.001363        0.044155    91  \n",
       "Galaxy           0.006939        0.018226    58  \n",
       "LMXB             0.000494        0.026964    55  \n",
       "HMXB             0.007515        0.028979    55  "
      ],
      "text/html": "<div>\n<style scoped>\n    .dataframe tbody tr th:only-of-type {\n        vertical-align: middle;\n    }\n\n    .dataframe tbody tr th {\n        vertical-align: top;\n    }\n\n    .dataframe thead th {\n        text-align: right;\n    }\n</style>\n<table border=\"1\" class=\"dataframe\">\n  <thead>\n    <tr style=\"text-align: right;\">\n      <th></th>\n      <th>(prob_0, mean)</th>\n      <th>(prob_1, mean)</th>\n      <th>(prob_2, mean)</th>\n      <th>(prob_3, mean)</th>\n      <th>(prob_4, mean)</th>\n      <th>(prob_5, mean)</th>\n      <th>(prob_6, mean)</th>\n      <th>(prob_7, mean)</th>\n      <th>(prob_8, mean)</th>\n      <th>(prob_9, mean)</th>\n      <th>size</th>\n    </tr>\n    <tr>\n      <th>main_type</th>\n      <th></th>\n      <th></th>\n      <th></th>\n      <th></th>\n      <th></th>\n      <th></th>\n      <th></th>\n      <th></th>\n      <th></th>\n      <th></th>\n      <th></th>\n    </tr>\n  </thead>\n  <tbody>\n    <tr>\n      <th>NaN</th>\n      <td>0.0</td>\n      <td>0.966608</td>\n      <td>0.009020</td>\n      <td>0.001197</td>\n      <td>5.743966e-04</td>\n      <td>4.282606e-05</td>\n      <td>2.373105e-04</td>\n      <td>2.387582e-05</td>\n      <td>0.001549</td>\n      <td>0.020748</td>\n      <td>769</td>\n    </tr>\n    <tr>\n      <th>X</th>\n      <td>0.0</td>\n      <td>0.954766</td>\n      <td>0.013811</td>\n      <td>0.002693</td>\n      <td>1.869783e-03</td>\n      <td>1.438967e-04</td>\n      <td>1.159400e-04</td>\n      <td>8.007061e-04</td>\n      <td>0.004970</td>\n      <td>0.020830</td>\n      <td>305</td>\n    </tr>\n    <tr>\n      <th>QSO</th>\n      <td>0.0</td>\n      <td>0.967685</td>\n      <td>0.013149</td>\n      <td>0.000035</td>\n      <td>3.880471e-08</td>\n      <td>4.303428e-14</td>\n      <td>1.187410e-05</td>\n      <td>2.363180e-04</td>\n      <td>0.000747</td>\n      <td>0.018136</td>\n      <td>264</td>\n    </tr>\n    <tr>\n      <th>YSO</th>\n      <td>0.0</td>\n      <td>0.955048</td>\n      <td>0.006397</td>\n      <td>0.000835</td>\n      <td>9.626843e-08</td>\n      <td>6.471447e-46</td>\n      <td>3.928806e-07</td>\n      <td>3.515779e-04</td>\n      <td>0.006872</td>\n      <td>0.030497</td>\n      <td>125</td>\n    </tr>\n    <tr>\n      <th>AGN</th>\n      <td>0.0</td>\n      <td>0.961041</td>\n      <td>0.008013</td>\n      <td>0.000039</td>\n      <td>3.556895e-19</td>\n      <td>2.638929e-03</td>\n      <td>7.480558e-07</td>\n      <td>2.604931e-03</td>\n      <td>0.006187</td>\n      <td>0.019476</td>\n      <td>108</td>\n    </tr>\n    <tr>\n      <th>Star</th>\n      <td>0.0</td>\n      <td>0.945519</td>\n      <td>0.008542</td>\n      <td>0.002730</td>\n      <td>2.230499e-06</td>\n      <td>1.630829e-04</td>\n      <td>1.128477e-08</td>\n      <td>3.843771e-04</td>\n      <td>0.001038</td>\n      <td>0.041622</td>\n      <td>105</td>\n    </tr>\n    <tr>\n      <th>Orion_V*</th>\n      <td>0.0</td>\n      <td>0.941423</td>\n      <td>0.008726</td>\n      <td>0.001177</td>\n      <td>1.621415e-07</td>\n      <td>2.010730e-14</td>\n      <td>8.784672e-10</td>\n      <td>3.156941e-03</td>\n      <td>0.001363</td>\n      <td>0.044155</td>\n      <td>91</td>\n    </tr>\n    <tr>\n      <th>Galaxy</th>\n      <td>0.0</td>\n      <td>0.967342</td>\n      <td>0.006801</td>\n      <td>0.000689</td>\n      <td>3.384682e-09</td>\n      <td>3.511757e-37</td>\n      <td>3.642854e-06</td>\n      <td>1.023275e-10</td>\n      <td>0.006939</td>\n      <td>0.018226</td>\n      <td>58</td>\n    </tr>\n    <tr>\n      <th>LMXB</th>\n      <td>0.0</td>\n      <td>0.962871</td>\n      <td>0.008390</td>\n      <td>0.001281</td>\n      <td>4.006548e-42</td>\n      <td>1.989359e-15</td>\n      <td>1.233967e-12</td>\n      <td>3.307285e-09</td>\n      <td>0.000494</td>\n      <td>0.026964</td>\n      <td>55</td>\n    </tr>\n    <tr>\n      <th>HMXB</th>\n      <td>0.0</td>\n      <td>0.952656</td>\n      <td>0.007154</td>\n      <td>0.001865</td>\n      <td>1.623567e-09</td>\n      <td>1.825841e-29</td>\n      <td>1.824961e-03</td>\n      <td>5.475559e-06</td>\n      <td>0.007515</td>\n      <td>0.028979</td>\n      <td>55</td>\n    </tr>\n  </tbody>\n</table>\n</div>"
     },
     "metadata": {},
     "execution_count": 12
    }
   ],
   "source": [
    "tables[1].head(10)"
   ]
  }
 ],
 "metadata": {
  "kernelspec": {
   "name": "python391jvsc74a57bd011d41d6631468f14d705776df5667f6bffd4ae088cf4427f5dbcbac068467dc6",
   "display_name": "Python 3.9.1 64-bit"
  },
  "language_info": {
   "codemirror_mode": {
    "name": "ipython",
    "version": 3
   },
   "file_extension": ".py",
   "mimetype": "text/x-python",
   "name": "python",
   "nbconvert_exporter": "python",
   "pygments_lexer": "ipython3",
   "version": "3.9.1"
  }
 },
 "nbformat": 4,
 "nbformat_minor": 5
}