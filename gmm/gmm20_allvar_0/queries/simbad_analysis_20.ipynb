{
 "cells": [
  {
   "cell_type": "markdown",
   "id": "molecular-stylus",
   "metadata": {},
   "source": [
    "### UNSUPERVISED MACHINE LEARNING FOR THE CLASSIFICATION OF ASTROPHYSICAL X-RAY SOURCES"
   ]
  },
  {
   "cell_type": "code",
   "execution_count": 1,
   "id": "intimate-shift",
   "metadata": {},
   "outputs": [],
   "source": [
    "import numpy as np\n",
    "import pandas as pd"
   ]
  },
  {
   "cell_type": "code",
   "execution_count": 2,
   "id": "controlled-begin",
   "metadata": {},
   "outputs": [],
   "source": [
    "sim_data = pd.read_csv('gmm20_allvar_0_simbad.csv')"
   ]
  },
  {
   "cell_type": "code",
   "execution_count": 3,
   "metadata": {},
   "outputs": [],
   "source": [
    "sim_df = sim_data[['col1', 'main_type', 'cluster', 'prob_0', 'prob_1', 'prob_2', 'prob_3', 'prob_4', 'prob_5',\n",
    "       'prob_6', 'prob_7', 'prob_8', 'prob_9']]\n",
    "prob_cols = ['prob_0', 'prob_1', 'prob_2', 'prob_3', 'prob_4', 'prob_5',\n",
    "       'prob_6', 'prob_7', 'prob_8', 'prob_9']"
   ]
  },
  {
   "cell_type": "code",
   "execution_count": 4,
   "metadata": {
    "tags": []
   },
   "outputs": [],
   "source": [
    "sim_df_clean = sim_df.copy().fillna('NaN')"
   ]
  },
  {
   "cell_type": "code",
   "execution_count": 5,
   "metadata": {},
   "outputs": [],
   "source": [
    "def create_summary_tables(df):\n",
    "    tables = []\n",
    "    for n in np.unique(df.cluster):\n",
    "        data_n = df[sim_df_clean.cluster == n]\n",
    "        mean_probs = data_n.groupby(['main_type'])[prob_cols].agg(['mean'])\n",
    "        count_obs = data_n.groupby(['main_type']).size()\n",
    "        df_n = pd.concat([mean_probs, count_obs],axis=1)\n",
    "        df_n = df_n.rename(columns={0:'size'})\n",
    "        tables.append(df_n)\n",
    "    return tables"
   ]
  },
  {
   "cell_type": "code",
   "execution_count": 6,
   "metadata": {},
   "outputs": [],
   "source": [
    "tables = create_summary_tables(sim_df_clean)"
   ]
  },
  {
   "cell_type": "code",
   "execution_count": 31,
   "metadata": {},
   "outputs": [
    {
     "output_type": "execute_result",
     "data": {
      "text/plain": [
       "               (prob_0, mean)  (prob_1, mean)  (prob_2, mean)  (prob_3, mean)  \\\n",
       "main_type                                                                       \n",
       "NaN                       0.0        0.001925        0.029553    5.018238e-05   \n",
       "QSO                       0.0        0.002122        0.022951    7.883762e-04   \n",
       "X                         0.0        0.001080        0.035620    6.578486e-07   \n",
       "Star                      0.0        0.001513        0.009491    2.249225e-07   \n",
       "YSO                       0.0        0.000003        0.007496    2.523033e-06   \n",
       "Orion_V*                  0.0        0.002759        0.011072    1.326369e-08   \n",
       "Candidate_XB*             0.0        0.000144        0.006231    1.476655e-08   \n",
       "AGN                       0.0        0.005676        0.040059    1.035760e-06   \n",
       "GlCl                      0.0        0.000013        0.010665    2.083625e-10   \n",
       "AGN_Candidate             0.0        0.000135        0.027523    4.430659e-08   \n",
       "\n",
       "               (prob_4, mean)  (prob_5, mean)  (prob_6, mean)  (prob_7, mean)  \\\n",
       "main_type                                                                       \n",
       "NaN              3.627537e-08    4.940447e-18    1.355349e-04        0.004265   \n",
       "QSO              2.681552e-13    2.346897e-17    1.692937e-07        0.006266   \n",
       "X                4.410385e-12    1.004829e-16    2.596344e-05        0.004930   \n",
       "Star             3.575288e-12    6.485292e-21    1.231854e-13        0.004007   \n",
       "YSO              2.950205e-11    4.015490e-19    5.823435e-09        0.018219   \n",
       "Orion_V*         4.511888e-13    1.216266e-28    2.966997e-21        0.019020   \n",
       "Candidate_XB*    6.490170e-12    1.008603e-16    4.850915e-07        0.002926   \n",
       "AGN              8.310262e-14    8.490262e-21    4.693641e-07        0.000062   \n",
       "GlCl             1.805419e-09    1.400029e-12    1.899877e-09        0.001088   \n",
       "AGN_Candidate    2.949567e-13    5.936312e-16    1.038030e-17        0.001932   \n",
       "\n",
       "               (prob_8, mean)  (prob_9, mean)  size  \n",
       "main_type                                            \n",
       "NaN              1.550741e-04        0.000921   704  \n",
       "QSO              1.286700e-03        0.002476   386  \n",
       "X                7.484265e-06        0.002895   305  \n",
       "Star             1.321617e-08        0.004858   105  \n",
       "YSO              9.255378e-06        0.001577   101  \n",
       "Orion_V*         4.534931e-04        0.004207    82  \n",
       "Candidate_XB*    1.818800e-05        0.007607    81  \n",
       "AGN              1.476443e-06        0.000158    77  \n",
       "GlCl             8.959866e-04        0.000423    53  \n",
       "AGN_Candidate    9.343199e-04        0.003008    49  "
      ],
      "text/html": "<div>\n<style scoped>\n    .dataframe tbody tr th:only-of-type {\n        vertical-align: middle;\n    }\n\n    .dataframe tbody tr th {\n        vertical-align: top;\n    }\n\n    .dataframe thead th {\n        text-align: right;\n    }\n</style>\n<table border=\"1\" class=\"dataframe\">\n  <thead>\n    <tr style=\"text-align: right;\">\n      <th></th>\n      <th>(prob_0, mean)</th>\n      <th>(prob_1, mean)</th>\n      <th>(prob_2, mean)</th>\n      <th>(prob_3, mean)</th>\n      <th>(prob_4, mean)</th>\n      <th>(prob_5, mean)</th>\n      <th>(prob_6, mean)</th>\n      <th>(prob_7, mean)</th>\n      <th>(prob_8, mean)</th>\n      <th>(prob_9, mean)</th>\n      <th>size</th>\n    </tr>\n    <tr>\n      <th>main_type</th>\n      <th></th>\n      <th></th>\n      <th></th>\n      <th></th>\n      <th></th>\n      <th></th>\n      <th></th>\n      <th></th>\n      <th></th>\n      <th></th>\n      <th></th>\n    </tr>\n  </thead>\n  <tbody>\n    <tr>\n      <th>NaN</th>\n      <td>0.0</td>\n      <td>0.001925</td>\n      <td>0.029553</td>\n      <td>5.018238e-05</td>\n      <td>3.627537e-08</td>\n      <td>4.940447e-18</td>\n      <td>1.355349e-04</td>\n      <td>0.004265</td>\n      <td>1.550741e-04</td>\n      <td>0.000921</td>\n      <td>704</td>\n    </tr>\n    <tr>\n      <th>QSO</th>\n      <td>0.0</td>\n      <td>0.002122</td>\n      <td>0.022951</td>\n      <td>7.883762e-04</td>\n      <td>2.681552e-13</td>\n      <td>2.346897e-17</td>\n      <td>1.692937e-07</td>\n      <td>0.006266</td>\n      <td>1.286700e-03</td>\n      <td>0.002476</td>\n      <td>386</td>\n    </tr>\n    <tr>\n      <th>X</th>\n      <td>0.0</td>\n      <td>0.001080</td>\n      <td>0.035620</td>\n      <td>6.578486e-07</td>\n      <td>4.410385e-12</td>\n      <td>1.004829e-16</td>\n      <td>2.596344e-05</td>\n      <td>0.004930</td>\n      <td>7.484265e-06</td>\n      <td>0.002895</td>\n      <td>305</td>\n    </tr>\n    <tr>\n      <th>Star</th>\n      <td>0.0</td>\n      <td>0.001513</td>\n      <td>0.009491</td>\n      <td>2.249225e-07</td>\n      <td>3.575288e-12</td>\n      <td>6.485292e-21</td>\n      <td>1.231854e-13</td>\n      <td>0.004007</td>\n      <td>1.321617e-08</td>\n      <td>0.004858</td>\n      <td>105</td>\n    </tr>\n    <tr>\n      <th>YSO</th>\n      <td>0.0</td>\n      <td>0.000003</td>\n      <td>0.007496</td>\n      <td>2.523033e-06</td>\n      <td>2.950205e-11</td>\n      <td>4.015490e-19</td>\n      <td>5.823435e-09</td>\n      <td>0.018219</td>\n      <td>9.255378e-06</td>\n      <td>0.001577</td>\n      <td>101</td>\n    </tr>\n    <tr>\n      <th>Orion_V*</th>\n      <td>0.0</td>\n      <td>0.002759</td>\n      <td>0.011072</td>\n      <td>1.326369e-08</td>\n      <td>4.511888e-13</td>\n      <td>1.216266e-28</td>\n      <td>2.966997e-21</td>\n      <td>0.019020</td>\n      <td>4.534931e-04</td>\n      <td>0.004207</td>\n      <td>82</td>\n    </tr>\n    <tr>\n      <th>Candidate_XB*</th>\n      <td>0.0</td>\n      <td>0.000144</td>\n      <td>0.006231</td>\n      <td>1.476655e-08</td>\n      <td>6.490170e-12</td>\n      <td>1.008603e-16</td>\n      <td>4.850915e-07</td>\n      <td>0.002926</td>\n      <td>1.818800e-05</td>\n      <td>0.007607</td>\n      <td>81</td>\n    </tr>\n    <tr>\n      <th>AGN</th>\n      <td>0.0</td>\n      <td>0.005676</td>\n      <td>0.040059</td>\n      <td>1.035760e-06</td>\n      <td>8.310262e-14</td>\n      <td>8.490262e-21</td>\n      <td>4.693641e-07</td>\n      <td>0.000062</td>\n      <td>1.476443e-06</td>\n      <td>0.000158</td>\n      <td>77</td>\n    </tr>\n    <tr>\n      <th>GlCl</th>\n      <td>0.0</td>\n      <td>0.000013</td>\n      <td>0.010665</td>\n      <td>2.083625e-10</td>\n      <td>1.805419e-09</td>\n      <td>1.400029e-12</td>\n      <td>1.899877e-09</td>\n      <td>0.001088</td>\n      <td>8.959866e-04</td>\n      <td>0.000423</td>\n      <td>53</td>\n    </tr>\n    <tr>\n      <th>AGN_Candidate</th>\n      <td>0.0</td>\n      <td>0.000135</td>\n      <td>0.027523</td>\n      <td>4.430659e-08</td>\n      <td>2.949567e-13</td>\n      <td>5.936312e-16</td>\n      <td>1.038030e-17</td>\n      <td>0.001932</td>\n      <td>9.343199e-04</td>\n      <td>0.003008</td>\n      <td>49</td>\n    </tr>\n  </tbody>\n</table>\n</div>"
     },
     "metadata": {},
     "execution_count": 31
    }
   ],
   "source": [
    "tables[19].sort_values(by='size', ascending=False).head(10)"
   ]
  }
 ],
 "metadata": {
  "kernelspec": {
   "name": "python391jvsc74a57bd011d41d6631468f14d705776df5667f6bffd4ae088cf4427f5dbcbac068467dc6",
   "display_name": "Python 3.9.1 64-bit ('astrox': conda)"
  },
  "language_info": {
   "codemirror_mode": {
    "name": "ipython",
    "version": 3
   },
   "file_extension": ".py",
   "mimetype": "text/x-python",
   "name": "python",
   "nbconvert_exporter": "python",
   "pygments_lexer": "ipython3",
   "version": "3.9.1"
  }
 },
 "nbformat": 4,
 "nbformat_minor": 5
}