{
 "cells": [
  {
   "cell_type": "markdown",
   "id": "molecular-stylus",
   "metadata": {},
   "source": [
    "### UNSUPERVISED MACHINE LEARNING FOR THE CLASSIFICATION OF ASTROPHYSICAL X-RAY SOURCES"
   ]
  },
  {
   "cell_type": "code",
   "execution_count": 1,
   "id": "intimate-shift",
   "metadata": {},
   "outputs": [],
   "source": [
    "import numpy as np\n",
    "import pandas as pd"
   ]
  },
  {
   "cell_type": "code",
   "execution_count": 2,
   "id": "controlled-begin",
   "metadata": {},
   "outputs": [],
   "source": [
    "sim_data = pd.read_csv('gmm6_allvar_0_simbad.csv')"
   ]
  },
  {
   "cell_type": "code",
   "execution_count": 3,
   "metadata": {},
   "outputs": [],
   "source": [
    "sim_df = sim_data[['col1', 'main_type', 'cluster', 'prob_0', 'prob_1', 'prob_2', 'prob_3', 'prob_4', 'prob_5']]\n",
    "prob_cols = ['prob_0', 'prob_1', 'prob_2', 'prob_3', 'prob_4', 'prob_5']"
   ]
  },
  {
   "cell_type": "code",
   "execution_count": 4,
   "metadata": {
    "tags": []
   },
   "outputs": [],
   "source": [
    "sim_df_clean = sim_df.copy().fillna('NaN')"
   ]
  },
  {
   "cell_type": "code",
   "execution_count": 5,
   "metadata": {},
   "outputs": [],
   "source": [
    "def create_summary_tables(df):\n",
    "    tables = []\n",
    "    for n in np.unique(df.cluster):\n",
    "        data_n = df[sim_df_clean.cluster == n]\n",
    "        mean_probs = data_n.groupby(['main_type'])[prob_cols].agg(['mean'])\n",
    "        count_obs = data_n.groupby(['main_type']).size()\n",
    "        df_n = pd.concat([mean_probs, count_obs],axis=1)\n",
    "        df_n = df_n.rename(columns={0:'size'})\n",
    "        tables.append(df_n)\n",
    "    return tables"
   ]
  },
  {
   "cell_type": "code",
   "execution_count": 6,
   "metadata": {},
   "outputs": [],
   "source": [
    "tables = create_summary_tables(sim_df_clean)"
   ]
  },
  {
   "cell_type": "code",
   "execution_count": 27,
   "metadata": {},
   "outputs": [
    {
     "output_type": "execute_result",
     "data": {
      "text/plain": [
       "               (prob_0, mean)  (prob_1, mean)  (prob_2, mean)  (prob_3, mean)  \\\n",
       "main_type                                                                       \n",
       "Orion_V*             0.997347   5.579455e-173    8.309096e-04   5.183606e-112   \n",
       "YSO                  0.998720   1.031020e-182    1.061785e-03   2.524560e-113   \n",
       "Star                 0.999105   3.185937e-176    3.829788e-04   5.366784e-102   \n",
       "NaN                  0.998410   5.672763e-175    1.248979e-03   2.193443e-107   \n",
       "TTau*                0.999787   8.098203e-180    2.116855e-04   5.188253e-114   \n",
       "X                    0.999999   4.562482e-188    1.025778e-07   1.735842e-117   \n",
       "BYDra                0.998821   1.163338e-188    1.163581e-03   6.438276e-129   \n",
       "Candidate_YSO        1.000000   1.862164e-229    2.412958e-12   5.025250e-153   \n",
       "HMXB                 0.996395   2.569262e-191    3.523619e-03   4.298096e-108   \n",
       "PM*                  0.999999   5.750395e-213    1.510455e-26   1.521807e-157   \n",
       "\n",
       "               (prob_4, mean)  (prob_5, mean)  size  \n",
       "main_type                                            \n",
       "Orion_V*         1.822422e-03    1.607945e-10   495  \n",
       "YSO              2.184040e-04    2.308121e-07   418  \n",
       "Star             5.123462e-04    7.149969e-13   298  \n",
       "NaN              3.405971e-04    1.260349e-09   274  \n",
       "TTau*            1.138341e-06    3.841382e-13   103  \n",
       "X                2.845040e-07    1.431328e-07    82  \n",
       "BYDra            1.519426e-05    1.165960e-18    45  \n",
       "Candidate_YSO    8.228976e-12    6.819014e-29    44  \n",
       "HMXB             1.869903e-07    8.138928e-05    33  \n",
       "PM*              7.160761e-07    9.106673e-23    18  "
      ],
      "text/html": "<div>\n<style scoped>\n    .dataframe tbody tr th:only-of-type {\n        vertical-align: middle;\n    }\n\n    .dataframe tbody tr th {\n        vertical-align: top;\n    }\n\n    .dataframe thead th {\n        text-align: right;\n    }\n</style>\n<table border=\"1\" class=\"dataframe\">\n  <thead>\n    <tr style=\"text-align: right;\">\n      <th></th>\n      <th>(prob_0, mean)</th>\n      <th>(prob_1, mean)</th>\n      <th>(prob_2, mean)</th>\n      <th>(prob_3, mean)</th>\n      <th>(prob_4, mean)</th>\n      <th>(prob_5, mean)</th>\n      <th>size</th>\n    </tr>\n    <tr>\n      <th>main_type</th>\n      <th></th>\n      <th></th>\n      <th></th>\n      <th></th>\n      <th></th>\n      <th></th>\n      <th></th>\n    </tr>\n  </thead>\n  <tbody>\n    <tr>\n      <th>Orion_V*</th>\n      <td>0.997347</td>\n      <td>5.579455e-173</td>\n      <td>8.309096e-04</td>\n      <td>5.183606e-112</td>\n      <td>1.822422e-03</td>\n      <td>1.607945e-10</td>\n      <td>495</td>\n    </tr>\n    <tr>\n      <th>YSO</th>\n      <td>0.998720</td>\n      <td>1.031020e-182</td>\n      <td>1.061785e-03</td>\n      <td>2.524560e-113</td>\n      <td>2.184040e-04</td>\n      <td>2.308121e-07</td>\n      <td>418</td>\n    </tr>\n    <tr>\n      <th>Star</th>\n      <td>0.999105</td>\n      <td>3.185937e-176</td>\n      <td>3.829788e-04</td>\n      <td>5.366784e-102</td>\n      <td>5.123462e-04</td>\n      <td>7.149969e-13</td>\n      <td>298</td>\n    </tr>\n    <tr>\n      <th>NaN</th>\n      <td>0.998410</td>\n      <td>5.672763e-175</td>\n      <td>1.248979e-03</td>\n      <td>2.193443e-107</td>\n      <td>3.405971e-04</td>\n      <td>1.260349e-09</td>\n      <td>274</td>\n    </tr>\n    <tr>\n      <th>TTau*</th>\n      <td>0.999787</td>\n      <td>8.098203e-180</td>\n      <td>2.116855e-04</td>\n      <td>5.188253e-114</td>\n      <td>1.138341e-06</td>\n      <td>3.841382e-13</td>\n      <td>103</td>\n    </tr>\n    <tr>\n      <th>X</th>\n      <td>0.999999</td>\n      <td>4.562482e-188</td>\n      <td>1.025778e-07</td>\n      <td>1.735842e-117</td>\n      <td>2.845040e-07</td>\n      <td>1.431328e-07</td>\n      <td>82</td>\n    </tr>\n    <tr>\n      <th>BYDra</th>\n      <td>0.998821</td>\n      <td>1.163338e-188</td>\n      <td>1.163581e-03</td>\n      <td>6.438276e-129</td>\n      <td>1.519426e-05</td>\n      <td>1.165960e-18</td>\n      <td>45</td>\n    </tr>\n    <tr>\n      <th>Candidate_YSO</th>\n      <td>1.000000</td>\n      <td>1.862164e-229</td>\n      <td>2.412958e-12</td>\n      <td>5.025250e-153</td>\n      <td>8.228976e-12</td>\n      <td>6.819014e-29</td>\n      <td>44</td>\n    </tr>\n    <tr>\n      <th>HMXB</th>\n      <td>0.996395</td>\n      <td>2.569262e-191</td>\n      <td>3.523619e-03</td>\n      <td>4.298096e-108</td>\n      <td>1.869903e-07</td>\n      <td>8.138928e-05</td>\n      <td>33</td>\n    </tr>\n    <tr>\n      <th>PM*</th>\n      <td>0.999999</td>\n      <td>5.750395e-213</td>\n      <td>1.510455e-26</td>\n      <td>1.521807e-157</td>\n      <td>7.160761e-07</td>\n      <td>9.106673e-23</td>\n      <td>18</td>\n    </tr>\n  </tbody>\n</table>\n</div>"
     },
     "metadata": {},
     "execution_count": 27
    }
   ],
   "source": [
    "tables[0].sort_values(by='size', ascending=False).head(10)"
   ]
  }
 ],
 "metadata": {
  "kernelspec": {
   "name": "python391jvsc74a57bd011d41d6631468f14d705776df5667f6bffd4ae088cf4427f5dbcbac068467dc6",
   "display_name": "Python 3.9.1 64-bit ('astrox': conda)"
  },
  "language_info": {
   "codemirror_mode": {
    "name": "ipython",
    "version": 3
   },
   "file_extension": ".py",
   "mimetype": "text/x-python",
   "name": "python",
   "nbconvert_exporter": "python",
   "pygments_lexer": "ipython3",
   "version": "3.9.1"
  }
 },
 "nbformat": 4,
 "nbformat_minor": 5
}