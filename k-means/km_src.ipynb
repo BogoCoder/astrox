{
 "cells": [
  {
   "cell_type": "markdown",
   "id": "appropriate-remove",
   "metadata": {},
   "source": [
    "### UNSUPERVISED MACHINE LEARNING FOR THE CLASSIFICATION OF ASTROPHYSICAL X-RAY SOURCES"
   ]
  },
  {
   "cell_type": "code",
   "execution_count": null,
   "id": "bulgarian-prompt",
   "metadata": {},
   "outputs": [],
   "source": [
    "import numpy as np\n",
    "import matplotlib.pyplot as plt\n",
    "import pandas as pd\n",
    "import seaborn as sns\n",
    "from sklearn.cluster import KMeans\n",
    "from sklearn.metrics import pairwise_distances_argmin_min, silhouette_score, silhouette_samples, calinski_harabasz_score\n",
    "from sklearn.preprocessing import MinMaxScaler\n",
    "from astropy import stats\n",
    "from astropy.io.votable import parse\n",
    "\n",
    "%matplotlib inline\n",
    "from mpl_toolkits.mplot3d import Axes3D\n",
    "#plt.rcParams['figure.figsize'] = (16, 16)\n",
    "#plt.style.use('ggplot')"
   ]
  },
  {
   "cell_type": "code",
   "execution_count": null,
   "id": "liberal-happening",
   "metadata": {},
   "outputs": [],
   "source": [
    "def votable_to_pandas(votable_file):\n",
    "    votable = parse(votable_file)\n",
    "    table = votable.get_first_table().to_table(use_names_over_ids=True)\n",
    "    return table.to_pandas()"
   ]
  },
  {
   "cell_type": "code",
   "execution_count": null,
   "id": "pressed-liberia",
   "metadata": {},
   "outputs": [],
   "source": [
    "data = votable_to_pandas(\"../data/corpus.vot\")"
   ]
  },
  {
   "cell_type": "markdown",
   "id": "still-whale",
   "metadata": {},
   "source": [
    "#### Exploración"
   ]
  },
  {
   "cell_type": "code",
   "execution_count": null,
   "id": "lucky-carroll",
   "metadata": {},
   "outputs": [],
   "source": [
    "data.describe()"
   ]
  },
  {
   "cell_type": "code",
   "execution_count": null,
   "id": "unexpected-amount",
   "metadata": {},
   "outputs": [],
   "source": [
    "data.head()"
   ]
  },
  {
   "cell_type": "code",
   "execution_count": null,
   "id": "floral-framing",
   "metadata": {},
   "outputs": [],
   "source": [
    "data.columns"
   ]
  },
  {
   "cell_type": "markdown",
   "id": "detailed-frost",
   "metadata": {},
   "source": [
    "#### K-Means"
   ]
  },
  {
   "cell_type": "code",
   "execution_count": null,
   "id": "sized-madison",
   "metadata": {},
   "outputs": [],
   "source": [
    "# features_out = ['name', 'ra', 'dec', 'src_area_b','hard_hm','hard_hs', 'hard_ms', 'var_prob_b', 'var_sigma_b',\n",
    "#             'var_prob_h', 'var_sigma_h',\n",
    "#         'var_prob_m', 'var_sigma_m', 'var_prob_s', 'var_sigma_s', 'ks_prob_b', 'ks_prob_h',\n",
    "#        'ks_prob_m', 'ks_prob_s', 'kp_prob_b', 'kp_prob_h', 'kp_prob_m',\n",
    "#        'kp_prob_s', 'bb_kt']\n",
    "\n",
    "features = ['src_area_b', 'hard_hm', 'hard_hs', 'hard_ms','powlaw_gamma', 'var_prob_b', 'var_sigma_b',\n",
    "            'var_prob_h', 'var_sigma_h',\n",
    "        'var_prob_m', 'var_sigma_m', 'var_prob_s', 'var_sigma_s', 'ks_prob_b', 'ks_prob_h',\n",
    "       'ks_prob_m', 'ks_prob_s', 'kp_prob_b', 'kp_prob_h', 'kp_prob_m',\n",
    "       'kp_prob_s', 'bb_kt']\n",
    "\n",
    "features_lognorm = ['src_area_b', 'bb_kt', 'var_sigma_b', 'var_sigma_h',                              'var_sigma_m', 'var_sigma_s']\n",
    "\n",
    "features_norm = ['powlaw_gamma']\n",
    "\n",
    "\n",
    "X_df_out = data.dropna()\n",
    "X_df = X_df_out[features]\n",
    "X = X_df.copy().to_numpy()"
   ]
  },
  {
   "cell_type": "code",
   "execution_count": null,
   "id": "arctic-parking",
   "metadata": {
    "scrolled": true
   },
   "outputs": [],
   "source": [
    "X_df.min()"
   ]
  },
  {
   "cell_type": "code",
   "execution_count": null,
   "metadata": {},
   "outputs": [],
   "source": [
    "def lognorm(X_df, X, name_desc, log):\n",
    "    \"\"\"Normalize data. If log = True, it applies\n",
    "    a log transform before.\n",
    "\n",
    "    Args:\n",
    "        X_df (pandas.DataFrame) = data array\n",
    "        X (np.array) = X_df converted\n",
    "        name_desc (string) = name of the descriptor\n",
    "        log (bool) = True if apply log transform before norm\n",
    "    \n",
    "    Returns:\n",
    "        [np.array]: Normalized (or lognorm) array.\n",
    "    \"\"\"\n",
    "       \n",
    "    col = X_df.columns.get_loc(name_desc)\n",
    "    X_desc = X_df[name_desc]\n",
    "    \n",
    "    if log:\n",
    "        nonzero = X_desc[X_desc!=0]\n",
    "        minval = np.min(nonzero)/10\n",
    "\n",
    "        # print(minval)\n",
    "        X_desc = X_desc + minval\n",
    "\n",
    "        x = np.log(X_desc.values)  #returns a numpy array\n",
    "    else:\n",
    "        x = X_desc.to_numpy()\n",
    "    min_max_scaler = MinMaxScaler(feature_range=(0,1))\n",
    "    x_scaled = min_max_scaler.fit_transform(x.reshape(-1,1))\n",
    "    X[:,col] = x_scaled.flatten()\n",
    "    \n",
    "    return X"
   ]
  },
  {
   "cell_type": "code",
   "execution_count": null,
   "metadata": {},
   "outputs": [],
   "source": [
    "for feature in features_lognorm:\n",
    "    X = lognorm(X_df, X, feature, True)\n",
    "           \n",
    "for feature in features_norm:\n",
    "    X = lognorm(X_df, X, feature, False)"
   ]
  },
  {
   "cell_type": "code",
   "execution_count": null,
   "id": "genetic-jurisdiction",
   "metadata": {},
   "outputs": [],
   "source": [
    "X_df = pd.DataFrame(X, columns=X_df.columns).dropna()\n",
    "X = X_df.to_numpy()"
   ]
  },
  {
   "cell_type": "code",
   "execution_count": null,
   "id": "plastic-worst",
   "metadata": {},
   "outputs": [],
   "source": [
    "from sklearn.cluster import KMeans\n",
    "from sklearn.datasets import make_blobs\n",
    "from yellowbrick.cluster import KElbowVisualizer, SilhouetteVisualizer\n",
    "\n",
    "# Instantiate the clustering model and visualizer\n",
    "model = KMeans()\n",
    "visualizer = KElbowVisualizer(model, k=(1,20))\n",
    "\n",
    "# Fit the data to the visualizer\n",
    "visualizer.fit(X_df)\n",
    "visualizer.show()"
   ]
  },
  {
   "cell_type": "code",
   "execution_count": null,
   "id": "original-hanging",
   "metadata": {
    "scrolled": true
   },
   "outputs": [],
   "source": [
    "kmeans = KMeans(n_clusters=3).fit(X_df)\n",
    "visualizer = SilhouetteVisualizer(kmeans, colors='yellowbrick')\n",
    "visualizer.fit(X_df)\n",
    "visualizer.show()  "
   ]
  },
  {
   "cell_type": "code",
   "execution_count": null,
   "id": "bizarre-capture",
   "metadata": {},
   "outputs": [],
   "source": [
    "kmeans = KMeans(n_clusters=6).fit(X_df)\n",
    "visualizer = SilhouetteVisualizer(kmeans, colors='yellowbrick')\n",
    "visualizer.fit(X_df)\n",
    "visualizer.show()  "
   ]
  },
  {
   "cell_type": "code",
   "execution_count": null,
   "id": "moved-scanner",
   "metadata": {},
   "outputs": [],
   "source": [
    "kmeans = KMeans(n_clusters=9).fit(X_df)\n",
    "visualizer = SilhouetteVisualizer(kmeans, colors='yellowbrick')\n",
    "visualizer.fit(X_df)\n",
    "visualizer.show()  "
   ]
  },
  {
   "cell_type": "code",
   "execution_count": null,
   "id": "embedded-xerox",
   "metadata": {},
   "outputs": [],
   "source": [
    "kmeans = KMeans(n_clusters=6).fit(X)\n",
    "centroids = kmeans.cluster_centers_\n",
    "print(centroids)\n",
    "\n",
    "# Predicting the clusters\n",
    "labels = kmeans.predict(X)\n",
    "# Getting the cluster centers\n",
    "C = kmeans.cluster_centers_"
   ]
  },
  {
   "cell_type": "code",
   "execution_count": null,
   "id": "falling-variance",
   "metadata": {},
   "outputs": [],
   "source": [
    "#%matplotlib notebook\n",
    "plt.rcParams['figure.figsize'] = (10, 10)\n",
    "#plt.style.use('ggplot')\n",
    "\n",
    "colx = X_df.columns.get_loc(\"hard_hm\")\n",
    "coly = X_df.columns.get_loc(\"ks_prob_h\")\n",
    "colz = X_df.columns.get_loc(\"src_area_b\")\n",
    "\n",
    "#colores=['red','blue', 'green', 'k', 'forestgreen', 'darkviolet', 'darkgoldenrod', 'cyan', 'pink'] # 9\n",
    "colores=['red', 'forestgreen', 'darkviolet', 'darkgoldenrod', 'darkblue', 'pink'] # 6\n",
    "#colores=['red', 'forestgreen', 'blue'] # 3\n",
    "asignar=[]\n",
    "for row in labels:\n",
    "    asignar.append(colores[row])\n",
    "\n",
    "fig = plt.figure()\n",
    "ax = Axes3D(fig)\n",
    "ax.scatter(X[:, colx], X[:, coly], X[:, colz], c=asignar,s=20)\n",
    "ax.scatter(C[:, colx], C[:, coly], C[:, colz], marker='*', c=colores, s=1000)\n",
    "ax.set(xlabel = X_df.columns[colx])\n",
    "ax.set(ylabel = X_df.columns[coly])\n",
    "ax.set(zlabel = X_df.columns[colz])"
   ]
  },
  {
   "cell_type": "code",
   "execution_count": null,
   "id": "harmful-characteristic",
   "metadata": {},
   "outputs": [],
   "source": [
    "colx = X_df.columns.get_loc(\"hard_hm\")\n",
    "coly = X_df.columns.get_loc(\"ks_prob_h\")\n",
    "fig = plt.figure()\n",
    "plt.scatter(X[:, colx], X[:, coly], c=asignar,s=20)\n",
    "plt.scatter(C[:, colx], C[:, coly], marker='*', c=colores, s=1000)\n",
    "plt.xlabel(X_df.columns[colx]);\n",
    "plt.ylabel(X_df.columns[coly]);"
   ]
  },
  {
   "cell_type": "code",
   "execution_count": null,
   "id": "upset-planning",
   "metadata": {},
   "outputs": [],
   "source": [
    "colx = X_df.columns.get_loc(\"hard_hs\")\n",
    "coly = X_df.columns.get_loc(\"kp_prob_h\")\n",
    "fig = plt.figure()\n",
    "plt.scatter(X[:, colx], X[:, coly], c=asignar,s=20)\n",
    "plt.scatter(C[:, colx], C[:, coly], marker='*', c=colores, s=1000)\n",
    "plt.xlabel(X_df.columns[colx]);\n",
    "plt.ylabel(X_df.columns[coly]);"
   ]
  },
  {
   "cell_type": "code",
   "execution_count": null,
   "id": "maritime-location",
   "metadata": {},
   "outputs": [],
   "source": [
    "colx = X_df.columns.get_loc(\"hard_hm\")\n",
    "coly = X_df.columns.get_loc(\"hard_hs\")\n",
    "fig = plt.figure()\n",
    "plt.scatter(X[:, colx], X[:, coly], c=asignar,s=20)\n",
    "plt.scatter(C[:, colx], C[:, coly], marker='*', c=colores, s=1000)\n",
    "plt.xlabel(X_df.columns[colx]);\n",
    "plt.ylabel(X_df.columns[coly]);"
   ]
  },
  {
   "cell_type": "code",
   "execution_count": null,
   "id": "seven-favor",
   "metadata": {},
   "outputs": [],
   "source": [
    "colx = X_df.columns.get_loc(\"hard_hm\")\n",
    "coly = X_df.columns.get_loc(\"src_area_b\")\n",
    "fig = plt.figure()\n",
    "plt.scatter(X[:, colx], X[:, coly], c=asignar,s=20)\n",
    "plt.scatter(C[:, colx], C[:, coly], marker='*', c=colores, s=1000)\n",
    "plt.xlabel(X_df.columns[colx]);\n",
    "plt.ylabel(X_df.columns[coly]);"
   ]
  },
  {
   "cell_type": "code",
   "execution_count": null,
   "metadata": {},
   "outputs": [],
   "source": [
    "sil_samples = silhouette_samples(X, labels)\n",
    "prob_sil_samples = (1 + sil_samples)/2"
   ]
  },
  {
   "cell_type": "code",
   "execution_count": null,
   "metadata": {},
   "outputs": [],
   "source": [
    "X_df_out_final = X_df_out.copy()\n",
    "X_df_out_final['cluster'] = labels\n",
    "X_df_out_final['silhouette_prob'] = prob_sil_samples\n",
    "X_df_out_final['silhouette'] = sil_samples"
   ]
  },
  {
   "cell_type": "code",
   "execution_count": null,
   "id": "particular-watson",
   "metadata": {},
   "outputs": [],
   "source": [
    "X_np_out=X_df_out.to_numpy()\n",
    "\n",
    "colx = X_df_out.columns.get_loc(\"ra\")\n",
    "coly = X_df_out.columns.get_loc(\"dec\")\n",
    "fig = plt.figure()\n",
    "plt.scatter(X_np_out[:, colx], X_np_out[:, coly], c=asignar,s=20)\n",
    "plt.xlabel(X_df_out.columns[colx]);\n",
    "plt.ylabel(X_df_out.columns[coly]);\n",
    "plt.show()"
   ]
  },
  {
   "cell_type": "code",
   "execution_count": null,
   "id": "geographic-labor",
   "metadata": {},
   "outputs": [],
   "source": [
    "X_np_out=X_df_out.to_numpy()\n",
    "colors = sns.color_palette()[0:6]\n",
    "\n",
    "colx = X_df_out.columns.get_loc(\"ra\")\n",
    "coly = X_df_out.columns.get_loc(\"dec\")\n",
    "fig = plt.figure()\n",
    "s = sns.scatterplot(data=X_df_out, x='ra', y='dec', hue=X_df_out[\"cluster\"], palette=colores, s=40);\n",
    "s.legend(loc='center left', bbox_to_anchor=(1, 0.5), ncol=1, title='cluster')\n",
    "plt.xlabel(X_df_out.columns[colx]);\n",
    "plt.ylabel(X_df_out.columns[coly]);\n",
    "plt.show()"
   ]
  },
  {
   "source": [
    "## Probability alternatives:"
   ],
   "cell_type": "markdown",
   "metadata": {}
  },
  {
   "source": [
    "### Distancias:"
   ],
   "cell_type": "markdown",
   "metadata": {}
  },
  {
   "cell_type": "code",
   "execution_count": null,
   "metadata": {},
   "outputs": [],
   "source": [
    "dists = kmeans.transform(X)"
   ]
  },
  {
   "cell_type": "code",
   "execution_count": null,
   "metadata": {},
   "outputs": [],
   "source": [
    "dists"
   ]
  },
  {
   "source": [
    "### c-means"
   ],
   "cell_type": "markdown",
   "metadata": {}
  },
  {
   "cell_type": "code",
   "execution_count": null,
   "metadata": {},
   "outputs": [],
   "source": [
    "import numpy.matlib\n",
    "\n",
    "def soft_clustering_weights(data, cluster_centres, **kwargs):\n",
    "    \n",
    "    \"\"\"\n",
    "    Function to calculate the weights from soft k-means\n",
    "    data: Array of data. shape = N x F, for N data points and F Features\n",
    "    cluster_centres: Array of cluster centres. shape = Nc x F, for Nc number of clusters. Input kmeans.cluster_centres_ directly.\n",
    "    param: m - keyword argument, fuzziness of the clustering. Default 2\n",
    "    \"\"\"\n",
    "    \n",
    "    # Fuzziness parameter m>=1. Where m=1 => hard segmentation\n",
    "    m = 2\n",
    "    if 'm' in kwargs:\n",
    "        m = kwargs['m']\n",
    "    \n",
    "    Nclusters = cluster_centres.shape[0]\n",
    "    Ndp = data.shape[0]\n",
    "    Nfeatures = data.shape[1]\n",
    "\n",
    "    # Get distances from the cluster centres for each data point and each cluster\n",
    "    EuclidDist = np.zeros((Ndp, Nclusters))\n",
    "    for i in range(Nclusters):\n",
    "        EuclidDist[:,i] = np.sum((data-np.matlib.repmat(cluster_centres[i], Ndp, 1))**2,axis=1)\n",
    "    \n",
    "\n",
    "    \n",
    "    # Denominator of the weight from wikipedia:\n",
    "    invWeight = EuclidDist**(2/(m-1))*np.matlib.repmat(np.sum((1./EuclidDist)**(2/(m-1)),axis=1).reshape(-1,1),1,Nclusters)\n",
    "    Weight = 1./invWeight\n",
    "    \n",
    "    return Weight"
   ]
  },
  {
   "cell_type": "code",
   "execution_count": null,
   "metadata": {},
   "outputs": [],
   "source": [
    "soft_clustering_weights(X, centroids)"
   ]
  },
  {
   "cell_type": "code",
   "execution_count": null,
   "metadata": {},
   "outputs": [],
   "source": [
    "np.max(soft_clustering_weights(X, centroids), axis = 1)"
   ]
  },
  {
   "source": [
    "### Silhoutte: "
   ],
   "cell_type": "markdown",
   "metadata": {}
  },
  {
   "cell_type": "code",
   "execution_count": null,
   "metadata": {},
   "outputs": [],
   "source": [
    "sil = []\n",
    "CH = []\n",
    "for i in range(2, 11):\n",
    "    kmeans = KMeans(n_clusters=i).fit(X_df)\n",
    "    labels = kmeans.predict(X)\n",
    "\n",
    "    sil.append(silhouette_score(X, labels, metric = 'euclidean'))\n",
    "    CH.append(calinski_harabasz_score(X, labels))"
   ]
  },
  {
   "cell_type": "code",
   "execution_count": null,
   "metadata": {},
   "outputs": [],
   "source": [
    "plt.plot(sil, color='blue')"
   ]
  },
  {
   "cell_type": "code",
   "execution_count": null,
   "metadata": {},
   "outputs": [],
   "source": [
    "plt.plot(CH, color='red')"
   ]
  },
  {
   "cell_type": "code",
   "execution_count": null,
   "metadata": {},
   "outputs": [],
   "source": [
    "sil_samples = silhouette_samples(X, labels)"
   ]
  },
  {
   "cell_type": "code",
   "execution_count": null,
   "metadata": {},
   "outputs": [],
   "source": [
    "sil_samples"
   ]
  }
 ],
 "metadata": {
  "kernelspec": {
   "name": "python391jvsc74a57bd011d41d6631468f14d705776df5667f6bffd4ae088cf4427f5dbcbac068467dc6",
   "display_name": "Python 3.9.1 64-bit ('astrox': conda)"
  },
  "language_info": {
   "codemirror_mode": {
    "name": "ipython",
    "version": 3
   },
   "file_extension": ".py",
   "mimetype": "text/x-python",
   "name": "python",
   "nbconvert_exporter": "python",
   "pygments_lexer": "ipython3",
   "version": "3.9.1"
  }
 },
 "nbformat": 4,
 "nbformat_minor": 5
}