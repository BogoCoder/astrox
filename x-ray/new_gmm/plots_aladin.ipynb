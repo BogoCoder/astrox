{
 "cells": [
  {
   "cell_type": "code",
   "execution_count": 1,
   "id": "1520aa98",
   "metadata": {},
   "outputs": [],
   "source": [
    "import pandas as pd\n",
    "from ipywidgets import Layout, Box, widgets\n",
    "from astropy.io.votable import parse\n",
    "from astroquery.simbad import Simbad\n",
    "import astropy.units as u\n",
    "from astropy.table import QTable\n",
    "from ipyaladin import Aladin\n",
    "from ipywidgets import Layout, Box, widgets\n",
    "from astropy.samp import SAMPIntegratedClient\n",
    "from urllib.parse import urljoin\n",
    "import os\n",
    "from astropy.io.votable.tree import VOTableFile\n",
    "from astropy.table import Table"
   ]
  },
  {
   "cell_type": "code",
   "execution_count": 2,
   "id": "1e413f63",
   "metadata": {},
   "outputs": [],
   "source": [
    "def votable_to_pandas(votable_file):\n",
    "    '''\n",
    "    Converts votable to pandas dataframe.\n",
    "    '''\n",
    "    votable = parse(votable_file)\n",
    "    table = votable.get_first_table().to_table(use_names_over_ids=True)\n",
    "    return table.to_pandas()"
   ]
  },
  {
   "cell_type": "code",
   "execution_count": 3,
   "id": "7dd05045",
   "metadata": {},
   "outputs": [],
   "source": [
    "data = votable_to_pandas(\"../../data/cscresults.vot\")"
   ]
  },
  {
   "cell_type": "code",
   "execution_count": 4,
   "id": "77f1dcc5",
   "metadata": {},
   "outputs": [],
   "source": [
    "cl_0 = pd.read_csv('./class_data/cl0.csv', index_col=0)\n",
    "cl_1 = pd.read_csv('./class_data/cl1.csv', index_col=0)\n",
    "cl_2 = pd.read_csv('./class_data/cl2.csv', index_col=0)\n",
    "cl_3 = pd.read_csv('./class_data/cl3.csv', index_col=0)\n",
    "cl_4 = pd.read_csv('./class_data/cl4.csv', index_col=0)\n",
    "cl_5 = pd.read_csv('./class_data/cl5.csv', index_col=0)"
   ]
  },
  {
   "cell_type": "code",
   "execution_count": 5,
   "id": "a1705f07",
   "metadata": {},
   "outputs": [],
   "source": [
    "cl_all = pd.concat([cl_0, cl_1, cl_2, cl_4, cl_5])\n",
    "cl_all_with_coords = cl_all.merge(data[['name','obsid', 'ra', 'dec']], how='left', on=['name', 'obsid'])"
   ]
  },
  {
   "cell_type": "code",
   "execution_count": 6,
   "id": "8d42f702",
   "metadata": {},
   "outputs": [
    {
     "data": {
      "text/plain": [
       "Index(['name', 'obsid', 'hard_hm', 'hard_hs', 'hard_ms', 'powlaw_gamma',\n",
       "       'bb_kt', 'var_prob_b', 'var_ratio_b', 'var_prob_h', 'var_ratio_h',\n",
       "       'var_prob_s', 'var_ratio_s', 'var_newq_b', 'main_type', 'Orion_V*',\n",
       "       'PartofG', 'QSO', 'TTau*', 'YSO', 'AGN', 'HMXB', 'Candidate_XB*',\n",
       "       'Seyfert_1', 'Seyfert_2', 'ra', 'dec'],\n",
       "      dtype='object')"
      ]
     },
     "execution_count": 6,
     "metadata": {},
     "output_type": "execute_result"
    }
   ],
   "source": [
    "cl_all_with_coords.columns"
   ]
  },
  {
   "cell_type": "code",
   "execution_count": 7,
   "id": "94be5884",
   "metadata": {},
   "outputs": [],
   "source": [
    "def confident_detections(source_type, confidence=None):\n",
    "    if confidence is not None:\n",
    "        q_res = cl_all_with_coords[cl_all_with_coords[source_type] > confidence]\n",
    "        print(f'{len(q_res)} source detections found of class {source_type} with a confidence of {confidence}...')\n",
    "    else:\n",
    "        q_res = cl_all_with_coords[cl_all_with_coords['main_type'] == source_type]\n",
    "        print(f'{len(q_res)} source detections found of class {source_type}...')\n",
    "    q_res_astro = Table.from_pandas(q_res)\n",
    "    q_res_vot = VOTableFile.from_table(q_res_astro)\n",
    "    #q_res_vot.to_xml('confident/{}.xml'.format(source_type.replace('*','_')))\n",
    "    #q_res.to_csv(f'confident/{source_type}.csv')\n",
    "    return q_res_astro"
   ]
  },
  {
   "cell_type": "code",
   "execution_count": 8,
   "id": "1f8fffd8",
   "metadata": {},
   "outputs": [
    {
     "ename": "SAMPHubError",
     "evalue": "Unable to find a running SAMP Hub.",
     "output_type": "error",
     "traceback": [
      "\u001b[1;31m---------------------------------------------------------------------------\u001b[0m",
      "\u001b[1;31mSAMPHubError\u001b[0m                              Traceback (most recent call last)",
      "\u001b[1;32m<ipython-input-8-e4160a8ab768>\u001b[0m in \u001b[0;36m<module>\u001b[1;34m\u001b[0m\n\u001b[0;32m      1\u001b[0m \u001b[1;31m# For sending data to Aladin through SAMP\u001b[0m\u001b[1;33m\u001b[0m\u001b[1;33m\u001b[0m\u001b[1;33m\u001b[0m\u001b[0m\n\u001b[0;32m      2\u001b[0m \u001b[0mclient\u001b[0m \u001b[1;33m=\u001b[0m \u001b[0mSAMPIntegratedClient\u001b[0m\u001b[1;33m(\u001b[0m\u001b[1;33m)\u001b[0m\u001b[1;33m\u001b[0m\u001b[1;33m\u001b[0m\u001b[0m\n\u001b[1;32m----> 3\u001b[1;33m \u001b[0mclient\u001b[0m\u001b[1;33m.\u001b[0m\u001b[0mconnect\u001b[0m\u001b[1;33m(\u001b[0m\u001b[1;33m)\u001b[0m\u001b[1;33m\u001b[0m\u001b[1;33m\u001b[0m\u001b[0m\n\u001b[0m",
      "\u001b[1;32m~\\miniconda3\\envs\\astrox\\lib\\site-packages\\astropy\\samp\\integrated_client.py\u001b[0m in \u001b[0;36mconnect\u001b[1;34m(self, hub, hub_params, pool_size)\u001b[0m\n\u001b[0;32m    101\u001b[0m             \u001b[0mHub\u001b[0m\u001b[1;33m.\u001b[0m\u001b[1;33m\u001b[0m\u001b[1;33m\u001b[0m\u001b[0m\n\u001b[0;32m    102\u001b[0m         \"\"\"\n\u001b[1;32m--> 103\u001b[1;33m         \u001b[0mself\u001b[0m\u001b[1;33m.\u001b[0m\u001b[0mhub\u001b[0m\u001b[1;33m.\u001b[0m\u001b[0mconnect\u001b[0m\u001b[1;33m(\u001b[0m\u001b[0mhub\u001b[0m\u001b[1;33m,\u001b[0m \u001b[0mhub_params\u001b[0m\u001b[1;33m,\u001b[0m \u001b[0mpool_size\u001b[0m\u001b[1;33m)\u001b[0m\u001b[1;33m\u001b[0m\u001b[1;33m\u001b[0m\u001b[0m\n\u001b[0m\u001b[0;32m    104\u001b[0m \u001b[1;33m\u001b[0m\u001b[0m\n\u001b[0;32m    105\u001b[0m         \u001b[1;31m# The client has to be instantiated here and not in __init__() because\u001b[0m\u001b[1;33m\u001b[0m\u001b[1;33m\u001b[0m\u001b[1;33m\u001b[0m\u001b[0m\n",
      "\u001b[1;32m~\\miniconda3\\envs\\astrox\\lib\\site-packages\\astropy\\samp\\hub_proxy.py\u001b[0m in \u001b[0;36mconnect\u001b[1;34m(self, hub, hub_params, pool_size)\u001b[0m\n\u001b[0;32m     63\u001b[0m                     \u001b[0mhub_params\u001b[0m \u001b[1;33m=\u001b[0m \u001b[0mhub\u001b[0m\u001b[1;33m.\u001b[0m\u001b[0mparams\u001b[0m\u001b[1;33m\u001b[0m\u001b[1;33m\u001b[0m\u001b[0m\n\u001b[0;32m     64\u001b[0m             \u001b[1;32melse\u001b[0m\u001b[1;33m:\u001b[0m\u001b[1;33m\u001b[0m\u001b[1;33m\u001b[0m\u001b[0m\n\u001b[1;32m---> 65\u001b[1;33m                 \u001b[0mhub_params\u001b[0m \u001b[1;33m=\u001b[0m \u001b[0mget_main_running_hub\u001b[0m\u001b[1;33m(\u001b[0m\u001b[1;33m)\u001b[0m\u001b[1;33m\u001b[0m\u001b[1;33m\u001b[0m\u001b[0m\n\u001b[0m\u001b[0;32m     66\u001b[0m \u001b[1;33m\u001b[0m\u001b[0m\n\u001b[0;32m     67\u001b[0m         \u001b[1;32mtry\u001b[0m\u001b[1;33m:\u001b[0m\u001b[1;33m\u001b[0m\u001b[1;33m\u001b[0m\u001b[0m\n",
      "\u001b[1;32m~\\miniconda3\\envs\\astrox\\lib\\site-packages\\astropy\\samp\\lockfile_helpers.py\u001b[0m in \u001b[0;36mget_main_running_hub\u001b[1;34m()\u001b[0m\n\u001b[0;32m    127\u001b[0m \u001b[1;33m\u001b[0m\u001b[0m\n\u001b[0;32m    128\u001b[0m     \u001b[1;32mif\u001b[0m \u001b[1;32mnot\u001b[0m \u001b[0mhubs\u001b[0m\u001b[1;33m:\u001b[0m\u001b[1;33m\u001b[0m\u001b[1;33m\u001b[0m\u001b[0m\n\u001b[1;32m--> 129\u001b[1;33m         \u001b[1;32mraise\u001b[0m \u001b[0mSAMPHubError\u001b[0m\u001b[1;33m(\u001b[0m\u001b[1;34m\"Unable to find a running SAMP Hub.\"\u001b[0m\u001b[1;33m)\u001b[0m\u001b[1;33m\u001b[0m\u001b[1;33m\u001b[0m\u001b[0m\n\u001b[0m\u001b[0;32m    130\u001b[0m \u001b[1;33m\u001b[0m\u001b[0m\n\u001b[0;32m    131\u001b[0m     \u001b[1;31m# CHECK FOR SAMP_HUB ENVIRONMENT VARIABLE\u001b[0m\u001b[1;33m\u001b[0m\u001b[1;33m\u001b[0m\u001b[1;33m\u001b[0m\u001b[0m\n",
      "\u001b[1;31mSAMPHubError\u001b[0m: Unable to find a running SAMP Hub."
     ]
    }
   ],
   "source": [
    "# For sending data to Aladin through SAMP\n",
    "client = SAMPIntegratedClient()\n",
    "client.connect()"
   ]
  },
  {
   "cell_type": "code",
   "execution_count": null,
   "id": "0b41c7e1",
   "metadata": {},
   "outputs": [],
   "source": [
    "# Plot all\n",
    "available_types = ['Orion_V*',\n",
    "       'PartofG', 'QSO', 'TTau*', 'YSO', 'AGN', 'HMXB', 'Candidate_XB*',\n",
    "       'Seyfert_1', 'Seyfert_2']\n",
    "\n",
    "for at in available_types:\n",
    "    source_type = at\n",
    "    #q_res_astro = confident_detections(source_type)\n",
    "\n",
    "    params = {}\n",
    "    params[\"name\"] = source_type\n",
    "    params[\"url\"] = 'file:' + urljoin('file:', os.path.abspath('confident/{}.xml'.format(source_type.replace('*','_'))))\n",
    "\n",
    "    message = {}\n",
    "    message[\"samp.mtype\"] = \"table.load.votable\"\n",
    "    message[\"samp.params\"] = params\n",
    "\n",
    "    client.notify_all(message)"
   ]
  },
  {
   "cell_type": "markdown",
   "id": "5e80ca6f",
   "metadata": {},
   "source": [
    "## Aladin"
   ]
  },
  {
   "cell_type": "markdown",
   "id": "7ed18544",
   "metadata": {},
   "source": [
    "#### YSO"
   ]
  },
  {
   "cell_type": "code",
   "execution_count": 35,
   "id": "6c8b7df3",
   "metadata": {},
   "outputs": [],
   "source": [
    "a = Aladin(target='M42', fov=10, coo_frame=\"galactic\", survey='P/allWISE/color')"
   ]
  },
  {
   "cell_type": "code",
   "execution_count": 36,
   "id": "6bf74ce0",
   "metadata": {},
   "outputs": [
    {
     "data": {
      "application/vnd.jupyter.widget-view+json": {
       "model_id": "f90001dd75574d42ad37584546543274",
       "version_major": 2,
       "version_minor": 0
      },
      "text/plain": [
       "Aladin(coo_frame='galactic', fov=10.0, options=['allow_full_zoomout', 'coo_frame', 'fov', 'full_screen', 'log'…"
      ]
     },
     "metadata": {},
     "output_type": "display_data"
    }
   ],
   "source": [
    "a"
   ]
  },
  {
   "cell_type": "code",
   "execution_count": 37,
   "id": "2e65bc48",
   "metadata": {},
   "outputs": [
    {
     "name": "stdout",
     "output_type": "stream",
     "text": [
      "2047 source detections found of class YSO...\n"
     ]
    }
   ],
   "source": [
    "source_type = 'YSO'\n",
    "q_res_astro = confident_detections(source_type)\n",
    "a.add_table(q_res_astro)"
   ]
  },
  {
   "cell_type": "code",
   "execution_count": 38,
   "id": "4d9753b6",
   "metadata": {},
   "outputs": [
    {
     "name": "stdout",
     "output_type": "stream",
     "text": [
      "450 source detections found of class TTau*...\n"
     ]
    }
   ],
   "source": [
    "source_type = 'TTau*'\n",
    "q_res_astro = confident_detections(source_type)\n",
    "a.add_table(q_res_astro)"
   ]
  },
  {
   "cell_type": "code",
   "execution_count": 39,
   "id": "9168ce79",
   "metadata": {},
   "outputs": [
    {
     "name": "stdout",
     "output_type": "stream",
     "text": [
      "1217 source detections found of class Orion_V*...\n"
     ]
    }
   ],
   "source": [
    "source_type = 'Orion_V*'\n",
    "q_res_astro = confident_detections(source_type)\n",
    "a.add_table(q_res_astro)"
   ]
  },
  {
   "cell_type": "markdown",
   "id": "23213492",
   "metadata": {},
   "source": [
    "#### XB"
   ]
  },
  {
   "cell_type": "code",
   "execution_count": 87,
   "id": "8310f457",
   "metadata": {},
   "outputs": [
    {
     "data": {
      "application/vnd.jupyter.widget-view+json": {
       "model_id": "5c33b4af7f73483c8ec771012817cbee",
       "version_major": 2,
       "version_minor": 0
      },
      "text/plain": [
       "Aladin(coo_frame='galactic', fov=10.0, options=['allow_full_zoomout', 'coo_frame', 'fov', 'full_screen', 'log'…"
      ]
     },
     "metadata": {},
     "output_type": "display_data"
    }
   ],
   "source": [
    "a = Aladin(target='M33', fov=10, coo_frame=\"galactic\", survey='P/allWISE/color')\n",
    "a"
   ]
  },
  {
   "cell_type": "code",
   "execution_count": 88,
   "id": "d114e1ca",
   "metadata": {},
   "outputs": [
    {
     "name": "stdout",
     "output_type": "stream",
     "text": [
      "3656 source detections found of class HMXB...\n"
     ]
    }
   ],
   "source": [
    "source_type = 'HMXB'\n",
    "q_res_astro = confident_detections(source_type)\n",
    "a.add_table(q_res_astro)"
   ]
  },
  {
   "cell_type": "code",
   "execution_count": 89,
   "id": "fc07b3c4",
   "metadata": {},
   "outputs": [
    {
     "name": "stdout",
     "output_type": "stream",
     "text": [
      "385 source detections found of class Candidate_XB*...\n"
     ]
    }
   ],
   "source": [
    "source_type = 'Candidate_XB*'\n",
    "q_res_astro = confident_detections(source_type)\n",
    "a.add_table(q_res_astro)"
   ]
  },
  {
   "cell_type": "markdown",
   "id": "33c746ec",
   "metadata": {},
   "source": [
    "#### AGN"
   ]
  },
  {
   "cell_type": "code",
   "execution_count": 90,
   "id": "f1c3109c",
   "metadata": {},
   "outputs": [
    {
     "data": {
      "application/vnd.jupyter.widget-view+json": {
       "model_id": "2f56b273b1d34a498369338a299fe9bf",
       "version_major": 2,
       "version_minor": 0
      },
      "text/plain": [
       "Aladin(coo_frame='galactic', fov=10.0, options=['allow_full_zoomout', 'coo_frame', 'fov', 'full_screen', 'log'…"
      ]
     },
     "metadata": {},
     "output_type": "display_data"
    }
   ],
   "source": [
    "a = Aladin(target='M33', fov=10, coo_frame=\"galactic\", survey='P/allWISE/color')\n",
    "a"
   ]
  },
  {
   "cell_type": "code",
   "execution_count": 91,
   "id": "d5ac2cb5",
   "metadata": {},
   "outputs": [
    {
     "name": "stdout",
     "output_type": "stream",
     "text": [
      "1400 source detections found of class AGN...\n"
     ]
    }
   ],
   "source": [
    "source_type = 'AGN'\n",
    "q_res_astro = confident_detections(source_type)\n",
    "a.add_table(q_res_astro)"
   ]
  },
  {
   "cell_type": "code",
   "execution_count": 92,
   "id": "6abe8223",
   "metadata": {},
   "outputs": [
    {
     "name": "stdout",
     "output_type": "stream",
     "text": [
      "2766 source detections found of class QSO...\n"
     ]
    }
   ],
   "source": [
    "source_type = 'QSO'\n",
    "q_res_astro = confident_detections(source_type)\n",
    "a.add_table(q_res_astro)"
   ]
  },
  {
   "cell_type": "code",
   "execution_count": null,
   "id": "1424cb5e",
   "metadata": {},
   "outputs": [],
   "source": []
  }
 ],
 "metadata": {
  "kernelspec": {
   "display_name": "Python 3",
   "language": "python",
   "name": "python3"
  },
  "language_info": {
   "codemirror_mode": {
    "name": "ipython",
    "version": 3
   },
   "file_extension": ".py",
   "mimetype": "text/x-python",
   "name": "python",
   "nbconvert_exporter": "python",
   "pygments_lexer": "ipython3",
   "version": "3.9.4"
  }
 },
 "nbformat": 4,
 "nbformat_minor": 5
}
