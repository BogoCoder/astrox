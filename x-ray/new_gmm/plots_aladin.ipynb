{
 "cells": [
  {
   "cell_type": "code",
   "execution_count": 1,
   "id": "1520aa98",
   "metadata": {},
   "outputs": [],
   "source": [
    "import pandas as pd\n",
    "from ipywidgets import Layout, Box, widgets\n",
    "from astropy.io.votable import parse\n",
    "from astroquery.simbad import Simbad\n",
    "import astropy.units as u\n",
    "from astropy.table import QTable\n",
    "from ipyaladin import Aladin\n",
    "from ipywidgets import Layout, Box, widgets\n",
    "from astropy.samp import SAMPIntegratedClient\n",
    "from urllib.parse import urljoin\n",
    "import os\n",
    "from astropy.io.votable.tree import VOTableFile\n",
    "from astropy.table import Table"
   ]
  },
  {
   "cell_type": "code",
   "execution_count": 2,
   "id": "1e413f63",
   "metadata": {},
   "outputs": [],
   "source": [
    "def votable_to_pandas(votable_file):\n",
    "    '''\n",
    "    Converts votable to pandas dataframe.\n",
    "    '''\n",
    "    votable = parse(votable_file)\n",
    "    table = votable.get_first_table().to_table(use_names_over_ids=True)\n",
    "    return table.to_pandas()"
   ]
  },
  {
   "cell_type": "code",
   "execution_count": 3,
   "id": "7dd05045",
   "metadata": {},
   "outputs": [],
   "source": [
    "data = votable_to_pandas(\"../../data/cscresults.vot\")"
   ]
  },
  {
   "cell_type": "code",
   "execution_count": 4,
   "id": "77f1dcc5",
   "metadata": {},
   "outputs": [],
   "source": [
    "cl_0 = pd.read_csv('./class_data/cl0.csv', index_col=0)\n",
    "cl_1 = pd.read_csv('./class_data/cl1.csv', index_col=0)\n",
    "cl_2 = pd.read_csv('./class_data/cl2.csv', index_col=0)\n",
    "cl_3 = pd.read_csv('./class_data/cl3.csv', index_col=0)\n",
    "cl_4 = pd.read_csv('./class_data/cl4.csv', index_col=0)\n",
    "cl_5 = pd.read_csv('./class_data/cl5.csv', index_col=0)"
   ]
  },
  {
   "cell_type": "code",
   "execution_count": 5,
   "id": "a1705f07",
   "metadata": {},
   "outputs": [],
   "source": [
    "cl_all = pd.concat([cl_0, cl_1, cl_2, cl_4, cl_5])\n",
    "cl_all_with_coords = cl_all.merge(data[['name','obsid', 'ra', 'dec']], how='left', on=['name', 'obsid'])"
   ]
  },
  {
   "cell_type": "code",
   "execution_count": 6,
   "id": "94be5884",
   "metadata": {},
   "outputs": [],
   "source": [
    "def confident_detections(source_type, confidence=None):\n",
    "    if confidence is not None:\n",
    "        q_res = cl_all_with_coords[cl_all_with_coords[source_type] > confidence]\n",
    "        print(f'{len(q_res)} source detections found of class {source_type} with a confidence of {confidence}...')\n",
    "    else:\n",
    "        q_res = cl_all_with_coords[cl_all_with_coords['main_type'] == source_type]\n",
    "        print(f'{len(q_res)} source detections found of class {source_type}...')\n",
    "    q_res_astro = Table.from_pandas(q_res)\n",
    "    q_res_vot = VOTableFile.from_table(q_res_astro)\n",
    "    #q_res_vot.to_xml('confident/{}.xml'.format(source_type.replace('*','_')))\n",
    "    #q_res.to_csv(f'confident/{source_type}.csv')\n",
    "    return q_res_astro"
   ]
  },
  {
   "cell_type": "code",
   "execution_count": 8,
   "id": "2c1afe7a",
   "metadata": {},
   "outputs": [],
   "source": [
    "# Plot all\n",
    "available_types = ['Orion_V*',\n",
    "       'PartofG', 'QSO', 'TTau*', 'YSO', 'AGN', 'HMXB', 'Candidate_XB*',\n",
    "       'Seyfert_1', 'Seyfert_2']"
   ]
  },
  {
   "cell_type": "raw",
   "id": "102a9b85",
   "metadata": {},
   "source": [
    "# For sending data to Aladin through SAMP\n",
    "client = SAMPIntegratedClient()\n",
    "client.connect()\n",
    "\n",
    "for at in available_types:\n",
    "    source_type = at\n",
    "    #q_res_astro = confident_detections(source_type)\n",
    "\n",
    "    params = {}\n",
    "    params[\"name\"] = source_type\n",
    "    params[\"url\"] = 'file:' + urljoin('file:', os.path.abspath('confident/{}.xml'.format(source_type.replace('*','_'))))\n",
    "\n",
    "    message = {}\n",
    "    message[\"samp.mtype\"] = \"table.load.votable\"\n",
    "    message[\"samp.params\"] = params\n",
    "\n",
    "    client.notify_all(message)"
   ]
  },
  {
   "cell_type": "markdown",
   "id": "5e80ca6f",
   "metadata": {},
   "source": [
    "## Aladin"
   ]
  },
  {
   "cell_type": "markdown",
   "id": "7ed18544",
   "metadata": {},
   "source": [
    "#### YSO"
   ]
  },
  {
   "cell_type": "code",
   "execution_count": 27,
   "id": "6c8b7df3",
   "metadata": {},
   "outputs": [],
   "source": [
    "a = Aladin(target='M42', fov=10, coo_frame=\"galactic\", survey='P/allWISE/color')"
   ]
  },
  {
   "cell_type": "code",
   "execution_count": 28,
   "id": "6bf74ce0",
   "metadata": {},
   "outputs": [
    {
     "data": {
      "application/vnd.jupyter.widget-view+json": {
       "model_id": "17131cbc158e4ec4995cba81db52fbc5",
       "version_major": 2,
       "version_minor": 0
      },
      "text/plain": [
       "Aladin(coo_frame='galactic', fov=10.0, options=['allow_full_zoomout', 'coo_frame', 'fov', 'full_screen', 'log'…"
      ]
     },
     "metadata": {},
     "output_type": "display_data"
    }
   ],
   "source": [
    "a"
   ]
  },
  {
   "cell_type": "code",
   "execution_count": 29,
   "id": "2e65bc48",
   "metadata": {},
   "outputs": [
    {
     "name": "stdout",
     "output_type": "stream",
     "text": [
      "2047 source detections found of class YSO...\n"
     ]
    }
   ],
   "source": [
    "source_type = 'YSO'\n",
    "q_res_astro = confident_detections(source_type)\n",
    "a.add_table(q_res_astro)"
   ]
  },
  {
   "cell_type": "code",
   "execution_count": 30,
   "id": "4d9753b6",
   "metadata": {},
   "outputs": [
    {
     "name": "stdout",
     "output_type": "stream",
     "text": [
      "450 source detections found of class TTau*...\n"
     ]
    }
   ],
   "source": [
    "source_type = 'TTau*'\n",
    "q_res_astro = confident_detections(source_type)\n",
    "a.add_table(q_res_astro)"
   ]
  },
  {
   "cell_type": "code",
   "execution_count": 31,
   "id": "9168ce79",
   "metadata": {},
   "outputs": [
    {
     "name": "stdout",
     "output_type": "stream",
     "text": [
      "1217 source detections found of class Orion_V*...\n"
     ]
    }
   ],
   "source": [
    "source_type = 'Orion_V*'\n",
    "q_res_astro = confident_detections(source_type)\n",
    "a.add_table(q_res_astro)"
   ]
  },
  {
   "cell_type": "markdown",
   "id": "23213492",
   "metadata": {},
   "source": [
    "#### XB"
   ]
  },
  {
   "cell_type": "code",
   "execution_count": 41,
   "id": "8310f457",
   "metadata": {},
   "outputs": [
    {
     "data": {
      "application/vnd.jupyter.widget-view+json": {
       "model_id": "3191bd5d4c8748eebbdd66b215382442",
       "version_major": 2,
       "version_minor": 0
      },
      "text/plain": [
       "Aladin(coo_frame='galactic', fov=10.0, options=['allow_full_zoomout', 'coo_frame', 'fov', 'full_screen', 'log'…"
      ]
     },
     "metadata": {},
     "output_type": "display_data"
    }
   ],
   "source": [
    "a = Aladin(target='M33', fov=10, coo_frame=\"galactic\", survey='P/galex/color')\n",
    "a"
   ]
  },
  {
   "cell_type": "code",
   "execution_count": 42,
   "id": "d114e1ca",
   "metadata": {},
   "outputs": [
    {
     "name": "stdout",
     "output_type": "stream",
     "text": [
      "3656 source detections found of class HMXB...\n"
     ]
    }
   ],
   "source": [
    "source_type = 'HMXB'\n",
    "q_res_astro = confident_detections(source_type)\n",
    "a.add_table(q_res_astro)"
   ]
  },
  {
   "cell_type": "code",
   "execution_count": 38,
   "id": "fc07b3c4",
   "metadata": {},
   "outputs": [
    {
     "name": "stdout",
     "output_type": "stream",
     "text": [
      "385 source detections found of class Candidate_XB*...\n"
     ]
    }
   ],
   "source": [
    "source_type = 'Candidate_XB*'\n",
    "q_res_astro = confident_detections(source_type)\n",
    "a.add_table(q_res_astro)"
   ]
  },
  {
   "cell_type": "code",
   "execution_count": 43,
   "id": "0b70c004",
   "metadata": {},
   "outputs": [
    {
     "name": "stdout",
     "output_type": "stream",
     "text": [
      "1400 source detections found of class AGN...\n"
     ]
    }
   ],
   "source": [
    "source_type = 'AGN'\n",
    "q_res_astro = confident_detections(source_type)\n",
    "a.add_table(q_res_astro)"
   ]
  },
  {
   "cell_type": "markdown",
   "id": "33c746ec",
   "metadata": {},
   "source": [
    "#### AGN"
   ]
  },
  {
   "cell_type": "code",
   "execution_count": 14,
   "id": "f1c3109c",
   "metadata": {},
   "outputs": [
    {
     "data": {
      "application/vnd.jupyter.widget-view+json": {
       "model_id": "416a119903a44edfbf55b80e7193f109",
       "version_major": 2,
       "version_minor": 0
      },
      "text/plain": [
       "Aladin(coo_frame='galactic', fov=10.0, options=['allow_full_zoomout', 'coo_frame', 'fov', 'full_screen', 'log'…"
      ]
     },
     "metadata": {},
     "output_type": "display_data"
    }
   ],
   "source": [
    "a = Aladin(target='M33', fov=10, coo_frame=\"galactic\", survey='P/allWISE/color')\n",
    "a"
   ]
  },
  {
   "cell_type": "code",
   "execution_count": 15,
   "id": "d5ac2cb5",
   "metadata": {},
   "outputs": [
    {
     "name": "stdout",
     "output_type": "stream",
     "text": [
      "1400 source detections found of class AGN...\n"
     ]
    }
   ],
   "source": [
    "source_type = 'AGN'\n",
    "q_res_astro = confident_detections(source_type)\n",
    "a.add_table(q_res_astro)"
   ]
  },
  {
   "cell_type": "code",
   "execution_count": 16,
   "id": "6abe8223",
   "metadata": {},
   "outputs": [
    {
     "name": "stdout",
     "output_type": "stream",
     "text": [
      "2766 source detections found of class QSO...\n"
     ]
    }
   ],
   "source": [
    "source_type = 'QSO'\n",
    "q_res_astro = confident_detections(source_type)\n",
    "a.add_table(q_res_astro)"
   ]
  }
 ],
 "metadata": {
  "kernelspec": {
   "display_name": "Python 3",
   "language": "python",
   "name": "python3"
  },
  "language_info": {
   "codemirror_mode": {
    "name": "ipython",
    "version": 3
   },
   "file_extension": ".py",
   "mimetype": "text/x-python",
   "name": "python",
   "nbconvert_exporter": "python",
   "pygments_lexer": "ipython3",
   "version": "3.9.4"
  }
 },
 "nbformat": 4,
 "nbformat_minor": 5
}
