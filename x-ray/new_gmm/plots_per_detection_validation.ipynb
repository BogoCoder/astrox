{
 "cells": [
  {
   "cell_type": "code",
   "execution_count": 86,
   "id": "7df8468f",
   "metadata": {},
   "outputs": [],
   "source": [
    "import pandas as pd\n",
    "import matplotlib.pyplot as plt\n",
    "import matplotlib as mpl\n",
    "from astropy.io.votable import parse\n",
    "import numpy as np\n",
    "import math\n",
    "from pylab import cm\n",
    "from statsmodels.stats import inter_rater as irr\n",
    "import itertools"
   ]
  },
  {
   "cell_type": "code",
   "execution_count": 2,
   "id": "becbf0b6",
   "metadata": {},
   "outputs": [],
   "source": [
    "# Edit the font, font size, and axes width\n",
    "\n",
    "mpl.rcParams['font.family'] = 'Avenir LT Std'\n",
    "plt.rcParams['font.size'] = 14\n",
    "plt.rcParams['axes.linewidth'] = 2"
   ]
  },
  {
   "cell_type": "code",
   "execution_count": 3,
   "id": "31907ce8",
   "metadata": {},
   "outputs": [],
   "source": [
    "def votable_to_pandas(votable_file):\n",
    "    '''\n",
    "    Converts votable to pandas dataframe.\n",
    "    '''\n",
    "    votable = parse(votable_file)\n",
    "    table = votable.get_first_table().to_table(use_names_over_ids=True)\n",
    "    return table.to_pandas()"
   ]
  },
  {
   "cell_type": "code",
   "execution_count": 4,
   "id": "579d94ff",
   "metadata": {},
   "outputs": [],
   "source": [
    "data = votable_to_pandas(\"../../data/cscresults.vot\")"
   ]
  },
  {
   "cell_type": "code",
   "execution_count": 5,
   "id": "ffc6cbfb",
   "metadata": {},
   "outputs": [],
   "source": [
    "cl_0 = pd.read_csv('./class_data/cl0.csv', index_col=0)\n",
    "cl_1 = pd.read_csv('./class_data/cl1.csv', index_col=0)\n",
    "cl_2 = pd.read_csv('./class_data/cl2.csv', index_col=0)\n",
    "cl_3 = pd.read_csv('./class_data/cl3.csv', index_col=0)\n",
    "cl_4 = pd.read_csv('./class_data/cl4.csv', index_col=0)\n",
    "cl_5 = pd.read_csv('./class_data/cl5.csv', index_col=0)"
   ]
  },
  {
   "cell_type": "code",
   "execution_count": 6,
   "id": "014f2110",
   "metadata": {},
   "outputs": [],
   "source": [
    "cl_all = pd.concat([cl_0, cl_1, cl_2, cl_4, cl_5])\n",
    "cl_all_with_coords = cl_all.merge(data[['name','obsid', 'ra', 'dec']], how='left', on=['name', 'obsid'])"
   ]
  },
  {
   "cell_type": "code",
   "execution_count": 7,
   "id": "c5687a3a",
   "metadata": {},
   "outputs": [
    {
     "data": {
      "text/plain": [
       "Index(['name', 'obsid', 'hard_hm', 'hard_hs', 'hard_ms', 'powlaw_gamma',\n",
       "       'bb_kt', 'var_prob_b', 'var_ratio_b', 'var_prob_h', 'var_ratio_h',\n",
       "       'var_prob_s', 'var_ratio_s', 'var_newq_b', 'main_type', 'Orion_V*',\n",
       "       'PartofG', 'QSO', 'TTau*', 'YSO', 'AGN', 'HMXB', 'Candidate_XB*',\n",
       "       'Seyfert_1', 'Seyfert_2', 'ra', 'dec'],\n",
       "      dtype='object')"
      ]
     },
     "execution_count": 7,
     "metadata": {},
     "output_type": "execute_result"
    }
   ],
   "source": [
    "cl_all_with_coords.columns"
   ]
  },
  {
   "cell_type": "code",
   "execution_count": 8,
   "id": "aa5e7bae",
   "metadata": {},
   "outputs": [
    {
     "name": "stdout",
     "output_type": "stream",
     "text": [
      "There are 8159 unique classified sources...\n"
     ]
    }
   ],
   "source": [
    "print(f'There are {len(np.unique(cl_all_with_coords.name))} unique classified sources...')"
   ]
  },
  {
   "cell_type": "code",
   "execution_count": 9,
   "id": "526e44bf",
   "metadata": {},
   "outputs": [
    {
     "data": {
      "text/html": [
       "<div>\n",
       "<style scoped>\n",
       "    .dataframe tbody tr th:only-of-type {\n",
       "        vertical-align: middle;\n",
       "    }\n",
       "\n",
       "    .dataframe tbody tr th {\n",
       "        vertical-align: top;\n",
       "    }\n",
       "\n",
       "    .dataframe thead th {\n",
       "        text-align: right;\n",
       "    }\n",
       "</style>\n",
       "<table border=\"1\" class=\"dataframe\">\n",
       "  <thead>\n",
       "    <tr style=\"text-align: right;\">\n",
       "      <th></th>\n",
       "      <th>index</th>\n",
       "      <th>count</th>\n",
       "    </tr>\n",
       "  </thead>\n",
       "  <tbody>\n",
       "    <tr>\n",
       "      <th>0</th>\n",
       "      <td>2CXO J004231.1+411621</td>\n",
       "      <td>97</td>\n",
       "    </tr>\n",
       "    <tr>\n",
       "      <th>1</th>\n",
       "      <td>2CXO J004248.5+411521</td>\n",
       "      <td>93</td>\n",
       "    </tr>\n",
       "    <tr>\n",
       "      <th>2</th>\n",
       "      <td>2CXO J004254.9+411603</td>\n",
       "      <td>84</td>\n",
       "    </tr>\n",
       "    <tr>\n",
       "      <th>3</th>\n",
       "      <td>2CXO J004232.0+411314</td>\n",
       "      <td>80</td>\n",
       "    </tr>\n",
       "    <tr>\n",
       "      <th>4</th>\n",
       "      <td>2CXO J004213.1+411836</td>\n",
       "      <td>71</td>\n",
       "    </tr>\n",
       "    <tr>\n",
       "      <th>...</th>\n",
       "      <td>...</td>\n",
       "      <td>...</td>\n",
       "    </tr>\n",
       "    <tr>\n",
       "      <th>1833</th>\n",
       "      <td>2CXO J203341.8-472134</td>\n",
       "      <td>2</td>\n",
       "    </tr>\n",
       "    <tr>\n",
       "      <th>1834</th>\n",
       "      <td>2CXO J123513.0+620805</td>\n",
       "      <td>2</td>\n",
       "    </tr>\n",
       "    <tr>\n",
       "      <th>1835</th>\n",
       "      <td>2CXO J171220.8-382930</td>\n",
       "      <td>2</td>\n",
       "    </tr>\n",
       "    <tr>\n",
       "      <th>1836</th>\n",
       "      <td>2CXO J214402.3+193640</td>\n",
       "      <td>2</td>\n",
       "    </tr>\n",
       "    <tr>\n",
       "      <th>1837</th>\n",
       "      <td>2CXO J065853.5-560048</td>\n",
       "      <td>2</td>\n",
       "    </tr>\n",
       "  </tbody>\n",
       "</table>\n",
       "<p>1838 rows × 2 columns</p>\n",
       "</div>"
      ],
      "text/plain": [
       "                      index  count\n",
       "0     2CXO J004231.1+411621     97\n",
       "1     2CXO J004248.5+411521     93\n",
       "2     2CXO J004254.9+411603     84\n",
       "3     2CXO J004232.0+411314     80\n",
       "4     2CXO J004213.1+411836     71\n",
       "...                     ...    ...\n",
       "1833  2CXO J203341.8-472134      2\n",
       "1834  2CXO J123513.0+620805      2\n",
       "1835  2CXO J171220.8-382930      2\n",
       "1836  2CXO J214402.3+193640      2\n",
       "1837  2CXO J065853.5-560048      2\n",
       "\n",
       "[1838 rows x 2 columns]"
      ]
     },
     "execution_count": 9,
     "metadata": {},
     "output_type": "execute_result"
    }
   ],
   "source": [
    "cl_all_with_coords.name.value_counts().reset_index(name=\"count\").query(\"count > 1\")"
   ]
  },
  {
   "cell_type": "markdown",
   "id": "a84d896b",
   "metadata": {},
   "source": [
    "#### Validation"
   ]
  },
  {
   "cell_type": "code",
   "execution_count": 83,
   "id": "e9565c0d",
   "metadata": {},
   "outputs": [],
   "source": [
    "classes_names = cl_all_with_coords.iloc[:,cl_all_with_coords.columns.get_loc('main_type')+1:-2].columns\n",
    "cl_all_with_coords.fillna(0, inplace=True)\n",
    "summ_table = cl_all_with_coords.groupby('name')[classes_names].agg(['mean', 'std'])\n",
    "summ_table['count'] = cl_all_with_coords.groupby(['name']).size()\n",
    "class_mean_names = [list(tup) for tup in itertools.product(classes_names, ['mean'], repeat=1)]\n",
    "names_comp = summ_table[class_mean_names].idxmax(axis=1).to_list()\n",
    "master_names = [name[0] for name in names_comp]\n",
    "summ_table['master_names'] = master_names"
   ]
  },
  {
   "cell_type": "code",
   "execution_count": 22,
   "id": "9f9f1782",
   "metadata": {},
   "outputs": [],
   "source": [
    "src = cl_all_with_coords.sample(1).name.to_numpy()[0]\n",
    "tgt_obs = cl_all_with_coords[cl_all_with_coords.name == src]"
   ]
  },
  {
   "cell_type": "code",
   "execution_count": 105,
   "id": "028d282b",
   "metadata": {},
   "outputs": [
    {
     "data": {
      "text/plain": [
       "'2CXO J132528.3-430103'"
      ]
     },
     "execution_count": 105,
     "metadata": {},
     "output_type": "execute_result"
    }
   ],
   "source": [
    "src"
   ]
  },
  {
   "cell_type": "code",
   "execution_count": 152,
   "id": "b1f3ef9b",
   "metadata": {},
   "outputs": [
    {
     "data": {
      "text/plain": [
       "array([['YSO', 'YSO', 'Orion_V*', 'YSO', 'Orion_V*', 'YSO', 'YSO',\n",
       "        'HMXB', 'HMXB', 'HMXB', 'HMXB', 'HMXB', 'HMXB', 'HMXB', 'HMXB',\n",
       "        'HMXB', 'Candidate_XB*', 'HMXB', 'HMXB', 'HMXB', 'HMXB', 'HMXB',\n",
       "        'HMXB', 'HMXB', 'HMXB', 'HMXB', 'HMXB', 'HMXB', 'HMXB', 'HMXB',\n",
       "        'HMXB', 'HMXB', 'HMXB', 'HMXB', 'Candidate_XB*', 'HMXB', 'HMXB',\n",
       "        'HMXB', 'HMXB', 'HMXB', 'HMXB', 'HMXB', 'HMXB', 'YSO',\n",
       "        'Orion_V*', 'YSO', 'Orion_V*', 'Orion_V*', 'YSO', 'YSO', 'YSO',\n",
       "        'Orion_V*', 'Orion_V*', 'QSO', 'Orion_V*', 'Orion_V*',\n",
       "        'Orion_V*', 'YSO', 'YSO', 'YSO', 'YSO', 'Orion_V*', 'Orion_V*',\n",
       "        'YSO', 'YSO', 'YSO', 'YSO', 'YSO', 'YSO', 'YSO', 'YSO']],\n",
       "      dtype=object)"
      ]
     },
     "execution_count": 152,
     "metadata": {},
     "output_type": "execute_result"
    }
   ],
   "source": [
    "dumm = tgt_obs[['obsid', 'main_type']].set_index(keys='obsid').T.to_numpy()\n",
    "dumm"
   ]
  },
  {
   "cell_type": "code",
   "execution_count": 153,
   "id": "fad8026c",
   "metadata": {},
   "outputs": [
    {
     "data": {
      "text/html": [
       "<div>\n",
       "<style scoped>\n",
       "    .dataframe tbody tr th:only-of-type {\n",
       "        vertical-align: middle;\n",
       "    }\n",
       "\n",
       "    .dataframe tbody tr th {\n",
       "        vertical-align: top;\n",
       "    }\n",
       "\n",
       "    .dataframe thead th {\n",
       "        text-align: right;\n",
       "    }\n",
       "</style>\n",
       "<table border=\"1\" class=\"dataframe\">\n",
       "  <thead>\n",
       "    <tr style=\"text-align: right;\">\n",
       "      <th></th>\n",
       "      <th>Orion_V*</th>\n",
       "      <th>PartofG</th>\n",
       "      <th>QSO</th>\n",
       "      <th>TTau*</th>\n",
       "      <th>YSO</th>\n",
       "      <th>AGN</th>\n",
       "      <th>HMXB</th>\n",
       "      <th>Candidate_XB*</th>\n",
       "      <th>Seyfert_1</th>\n",
       "      <th>Seyfert_2</th>\n",
       "    </tr>\n",
       "  </thead>\n",
       "  <tbody>\n",
       "    <tr>\n",
       "      <th>mean</th>\n",
       "      <td>0.182072</td>\n",
       "      <td>0.000268</td>\n",
       "      <td>0.032304</td>\n",
       "      <td>0.041132</td>\n",
       "      <td>0.194534</td>\n",
       "      <td>0.056741</td>\n",
       "      <td>0.321112</td>\n",
       "      <td>0.162627</td>\n",
       "      <td>0.001809</td>\n",
       "      <td>0.007401</td>\n",
       "    </tr>\n",
       "    <tr>\n",
       "      <th>std</th>\n",
       "      <td>0.200769</td>\n",
       "      <td>0.001065</td>\n",
       "      <td>0.043154</td>\n",
       "      <td>0.073531</td>\n",
       "      <td>0.208976</td>\n",
       "      <td>0.066304</td>\n",
       "      <td>0.244883</td>\n",
       "      <td>0.169806</td>\n",
       "      <td>0.005531</td>\n",
       "      <td>0.017272</td>\n",
       "    </tr>\n",
       "  </tbody>\n",
       "</table>\n",
       "</div>"
      ],
      "text/plain": [
       "      Orion_V*   PartofG       QSO     TTau*       YSO       AGN      HMXB  \\\n",
       "mean  0.182072  0.000268  0.032304  0.041132  0.194534  0.056741  0.321112   \n",
       "std   0.200769  0.001065  0.043154  0.073531  0.208976  0.066304  0.244883   \n",
       "\n",
       "      Candidate_XB*  Seyfert_1  Seyfert_2  \n",
       "mean       0.162627   0.001809   0.007401  \n",
       "std        0.169806   0.005531   0.017272  "
      ]
     },
     "execution_count": 153,
     "metadata": {},
     "output_type": "execute_result"
    }
   ],
   "source": [
    "tgt_obs.iloc[:,tgt_obs.columns.get_loc('main_type')+1:-2].fillna(0).agg([\"mean\", \"std\"])"
   ]
  },
  {
   "cell_type": "code",
   "execution_count": 22,
   "id": "ed1f2171",
   "metadata": {},
   "outputs": [
    {
     "data": {
      "text/plain": [
       "(array([[1, 1]]), array(['AGN', 'Orion_V*'], dtype=object))"
      ]
     },
     "execution_count": 22,
     "metadata": {},
     "output_type": "execute_result"
    }
   ],
   "source": [
    "agg = irr.aggregate_raters(dumm.reshape(1, -1)) \n",
    "agg"
   ]
  },
  {
   "cell_type": "code",
   "execution_count": 59,
   "id": "7fc077ef",
   "metadata": {},
   "outputs": [],
   "source": [
    "probas_max = tgt_obs[agg[1][agg[0].argmax()]].fillna(0).to_numpy()"
   ]
  },
  {
   "cell_type": "code",
   "execution_count": 60,
   "id": "8b922f8e",
   "metadata": {},
   "outputs": [],
   "source": [
    "probas_total = tgt_obs.iloc[:, tgt_obs.columns.get_loc('main_type')+1:-2].max(axis=1).to_numpy()"
   ]
  },
  {
   "cell_type": "code",
   "execution_count": 61,
   "id": "73cb380e",
   "metadata": {},
   "outputs": [
    {
     "name": "stdout",
     "output_type": "stream",
     "text": [
      "Percentage agreement for HMXB: 0.6412723770184106\n"
     ]
    }
   ],
   "source": [
    "print(f'Percentage agreement for {agg[1][agg[0].argmax()]}: {probas_max.sum()/probas_total.sum()}')"
   ]
  },
  {
   "cell_type": "code",
   "execution_count": 62,
   "id": "e900111a",
   "metadata": {},
   "outputs": [
    {
     "data": {
      "text/plain": [
       "array([0.        , 0.        , 0.        , 0.        , 0.        ,\n",
       "       0.        , 0.        , 0.46809887, 0.52754473, 0.53956492,\n",
       "       0.6379339 , 0.5228447 , 0.53030967, 0.55860279, 0.44780936,\n",
       "       0.44972682, 0.27493971, 0.62065196, 0.60588266, 0.53813163,\n",
       "       0.47844666, 0.66690838, 0.65515185, 0.68996855, 0.45060537,\n",
       "       0.41995281, 0.61332726, 0.50471443, 0.65218447, 0.53617372,\n",
       "       0.55924847, 0.50915305, 0.7209123 , 0.57745551, 0.21360719,\n",
       "       0.47519842, 0.5222971 , 0.49770597, 0.5645759 , 0.56745597,\n",
       "       0.68845456, 0.59200137, 0.64771991, 0.0848039 , 0.1254849 ,\n",
       "       0.13214607, 0.04482221, 0.01343461, 0.14897557, 0.15224248,\n",
       "       0.05972696, 0.06075616, 0.01518061, 0.23617327, 0.02956854,\n",
       "       0.06254534, 0.06772062, 0.07980839, 0.06746078, 0.19306795,\n",
       "       0.10014492, 0.07793334, 0.13762346, 0.22920104, 0.18613604,\n",
       "       0.06727513, 0.19603791, 0.33486263, 0.13581414, 0.12993032,\n",
       "       0.1048156 ])"
      ]
     },
     "execution_count": 62,
     "metadata": {},
     "output_type": "execute_result"
    }
   ],
   "source": [
    "probas_max"
   ]
  },
  {
   "cell_type": "code",
   "execution_count": 178,
   "id": "5f88ae5e",
   "metadata": {},
   "outputs": [
    {
     "name": "stdout",
     "output_type": "stream",
     "text": [
      "Percentage agreement for HMXB: 0.6625000000000001\n"
     ]
    }
   ],
   "source": [
    "if len(agg[1]) < 2:\n",
    "    print(f'Percentage agreement for {agg[1][agg[0].argmax()]}: {1}')\n",
    "else:\n",
    "    print(f'Percentage agreement for {agg[1][agg[0].argmax()]}: {agg[0].max()/agg[0].sum() - agg[0].min()/agg[0].sum()}')"
   ]
  },
  {
   "cell_type": "markdown",
   "id": "f9216490",
   "metadata": {},
   "source": [
    "#### Plots"
   ]
  },
  {
   "cell_type": "code",
   "execution_count": null,
   "id": "4b3cdb3e",
   "metadata": {},
   "outputs": [],
   "source": [
    "def plots_per_detection(query, multi=True):\n",
    "    colors = cm.get_cmap('tab10', 4)\n",
    "    target_sources = cl_all_with_coords.name.value_counts().reset_index(name=\"count\").query(query)\n",
    "    src_list = target_sources['index'].to_list()\n",
    "    \n",
    "    for src in src_list:\n",
    "        tgt_obs = cl_all_with_coords[cl_all_with_coords.name == src]\n",
    "        \n",
    "        nrow = math.ceil(tgt_obs.shape[0]/3) ; ncol = 3;\n",
    "        fig, axs = plt.subplots(nrows=nrow, ncols=ncol, figsize=(16,3*nrow))\n",
    "        fig.tight_layout(h_pad=8, w_pad=2)\n",
    "        \n",
    "        for i, ax in enumerate(axs.reshape(-1)): \n",
    "            \n",
    "            if i >= tgt_obs.shape[0]:\n",
    "                ax.set_axis_off()\n",
    "                continue\n",
    "\n",
    "            ax.yaxis.set_tick_params(which='major', size=6, width=0.5, direction='in')\n",
    "            ax.yaxis.set_tick_params(which='minor', size=3, width=0.5, direction='in')\n",
    "            ax.xaxis.set_tick_params(which='major', size=6, width=0.5, direction='out')\n",
    "            ax.xaxis.set_tick_params(which='minor', size=3, width=0.5, direction='out')\n",
    "            ax.yaxis.set_major_locator(mpl.ticker.MultipleLocator(0.25))\n",
    "            ax.yaxis.set_minor_locator(mpl.ticker.MultipleLocator(0.125))\n",
    "            \n",
    "            row = tgt_obs.iloc[i]\n",
    "            probas = row[tgt_obs.columns.get_loc('main_type')+1:tgt_obs.columns.get_loc('ra')]\n",
    "            classes = row.index[tgt_obs.columns.get_loc('main_type')+1:tgt_obs.columns.get_loc('ra')]\n",
    "            \n",
    "            p_in = [x for x in probas.index if ~np.isnan(probas[x])]\n",
    "            p_val = [x for x in probas.values if ~np.isnan(x)]\n",
    "            ax.plot(p_in, p_val, marker='o', color=colors(0), lw=4, ms=10, label='CSC')\n",
    "            if probas.max() > 0.5:\n",
    "                ax.set_ylim(0, 1)\n",
    "            if probas.max() <= 0.5:\n",
    "                ax.set_ylim(0, 0.5)\n",
    "            \n",
    "            ax.set_title(row['name']+', '+str(row['obsid']) + ', ' + str(row['main_type']), fontsize=12)\n",
    "            \n",
    "            plt.setp(ax.xaxis.get_majorticklabels(), rotation=90)\n",
    "        print('Printing detections for source {}...'.format(row['name']))\n",
    "        plt.savefig('plots_per_detection/{}.pdf'.format(row['name']), dpi=300, transparent=False, bbox_inches='tight')"
   ]
  },
  {
   "cell_type": "code",
   "execution_count": null,
   "id": "3425d933",
   "metadata": {},
   "outputs": [],
   "source": [
    "plots_per_detection(\"index == '2CXO J033827.6-352648'\");"
   ]
  }
 ],
 "metadata": {
  "kernelspec": {
   "display_name": "Python 3",
   "language": "python",
   "name": "python3"
  },
  "language_info": {
   "codemirror_mode": {
    "name": "ipython",
    "version": 3
   },
   "file_extension": ".py",
   "mimetype": "text/x-python",
   "name": "python",
   "nbconvert_exporter": "python",
   "pygments_lexer": "ipython3",
   "version": "3.9.4"
  }
 },
 "nbformat": 4,
 "nbformat_minor": 5
}
