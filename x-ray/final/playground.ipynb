{
 "cells": [
  {
   "cell_type": "markdown",
   "id": "67f3c34a",
   "metadata": {},
   "source": [
    "# Unsupervised Machine Learning for the Classification of Astrophysical X-ray Sources\n",
    "###### *Víctor Samuel Pérez Díaz<sup>1,2</sup>, Rafael Martinez-Galarza<sup>1</sup>, Alexander Caicedo-Dorado<sup>3</sup>, Raffaele D'Abrusco<sup>1</sup>*\n",
    "\n",
    "*1. Center for Astrophysics | Harvard & Smithsonian, 2. Universidad del Rosario, 3. Pontificia Universidad Javeriana*\n",
    "\n",
    "Contact ```vperezdiaz@cfa.harvard.edu``` for questions or comments.\n",
    "\n",
    "\n",
    "#### Playground\n",
    "\n",
    "---"
   ]
  },
  {
   "cell_type": "markdown",
   "id": "65fe134e",
   "metadata": {},
   "source": [
    "#### Aladin"
   ]
  },
  {
   "cell_type": "code",
   "execution_count": 1,
   "id": "745376b6",
   "metadata": {},
   "outputs": [],
   "source": [
    "import pandas as pd\n",
    "from ipyaladin import Aladin\n",
    "from umlcaxs_lib import extract_sources_aladin"
   ]
  },
  {
   "cell_type": "code",
   "execution_count": 2,
   "id": "8c4c80b0",
   "metadata": {},
   "outputs": [],
   "source": [
    "df_class_confident = pd.read_csv('./out_data/confident_classification.csv').sort_values(by='name')\n",
    "df_classified_cscs = pd.read_csv('./out_data/classified_cscs.csv', index_col=0).sort_values(by='name')\n",
    "\n",
    "ltypes = ['QSO', 'AGN', 'Seyfert_1', 'Seyfert_2', 'HMXB', 'LMXB', 'XB', 'YSO', 'TTau*', 'Orion_V*']\n",
    "agg_types = ['AGN', 'Seyfert', 'XB', 'YSO']\n",
    "\n",
    "df_class_confident_with_coords = df_class_confident.merge(df_classified_cscs[['name', 'ra', 'dec']].drop_duplicates('name'), on='name', how='left')"
   ]
  },
  {
   "cell_type": "code",
   "execution_count": 36,
   "id": "ca27e208",
   "metadata": {},
   "outputs": [
    {
     "data": {
      "application/vnd.jupyter.widget-view+json": {
       "model_id": "a4a8920b0cec48218fbdf3ec589744cb",
       "version_major": 2,
       "version_minor": 0
      },
      "text/plain": [
       "Aladin(fov=30.0, options=['allow_full_zoomout', 'coo_frame', 'fov', 'full_screen', 'log', 'overlay_survey', 'o…"
      ]
     },
     "metadata": {},
     "output_type": "display_data"
    }
   ],
   "source": [
    "#a = Aladin(target='03 38 00 -35 27 00', fov=30, survey='P/allWISE/color')\n",
    "a = Aladin(target='M33', fov=30, survey='P/allWISE/color')\n",
    "a"
   ]
  },
  {
   "cell_type": "code",
   "execution_count": 29,
   "id": "e71469b8",
   "metadata": {},
   "outputs": [
    {
     "name": "stdout",
     "output_type": "stream",
     "text": [
      "2322 source detections found of aggregated class AGN\n"
     ]
    }
   ],
   "source": [
    "source_type = 'AGN'\n",
    "q_res_astro = extract_sources_aladin(df_class_confident_with_coords, source_type, agg_type=True)\n",
    "a.add_table(q_res_astro[['name', 'ra', 'dec']])"
   ]
  },
  {
   "cell_type": "code",
   "execution_count": 30,
   "id": "38db1b83",
   "metadata": {},
   "outputs": [
    {
     "name": "stdout",
     "output_type": "stream",
     "text": [
      "1141 source detections found of aggregated class Seyfert\n"
     ]
    }
   ],
   "source": [
    "source_type = 'Seyfert'\n",
    "q_res_astro = extract_sources_aladin(df_class_confident_with_coords, source_type, agg_type=True)\n",
    "a.add_table(q_res_astro[['name', 'ra', 'dec']])"
   ]
  },
  {
   "cell_type": "code",
   "execution_count": 31,
   "id": "087180c5",
   "metadata": {},
   "outputs": [
    {
     "name": "stdout",
     "output_type": "stream",
     "text": [
      "2277 source detections found of aggregated class YSO\n"
     ]
    }
   ],
   "source": [
    "source_type = 'YSO'\n",
    "q_res_astro = extract_sources_aladin(df_class_confident_with_coords, source_type, agg_type=True)\n",
    "a.add_table(q_res_astro[['name', 'ra', 'dec']])"
   ]
  },
  {
   "cell_type": "code",
   "execution_count": 37,
   "id": "6bddedf1",
   "metadata": {},
   "outputs": [
    {
     "name": "stdout",
     "output_type": "stream",
     "text": [
      "2525 source detections found of aggregated class XB\n"
     ]
    }
   ],
   "source": [
    "source_type = 'XB'\n",
    "q_res_astro = extract_sources_aladin(df_class_confident_with_coords, source_type, agg_type=True)\n",
    "a.add_table(q_res_astro[['name', 'ra', 'dec']])"
   ]
  },
  {
   "cell_type": "code",
   "execution_count": 54,
   "id": "2e925c90",
   "metadata": {},
   "outputs": [
    {
     "data": {
      "text/html": [
       "<div>\n",
       "<style scoped>\n",
       "    .dataframe tbody tr th:only-of-type {\n",
       "        vertical-align: middle;\n",
       "    }\n",
       "\n",
       "    .dataframe tbody tr th {\n",
       "        vertical-align: top;\n",
       "    }\n",
       "\n",
       "    .dataframe thead th {\n",
       "        text-align: right;\n",
       "    }\n",
       "</style>\n",
       "<table border=\"1\" class=\"dataframe\">\n",
       "  <thead>\n",
       "    <tr style=\"text-align: right;\">\n",
       "      <th></th>\n",
       "      <th>dec_sexa</th>\n",
       "      <th>dec_simbad</th>\n",
       "      <th>flux_aper_b</th>\n",
       "      <th>g</th>\n",
       "      <th>gti_elapse</th>\n",
       "      <th>gti_start</th>\n",
       "      <th>gti_stop</th>\n",
       "      <th>hard_hm</th>\n",
       "      <th>hard_hs</th>\n",
       "      <th>hard_ms</th>\n",
       "      <th>...</th>\n",
       "      <th>var_prob_h</th>\n",
       "      <th>var_prob_m</th>\n",
       "      <th>var_prob_s</th>\n",
       "      <th>var_ratio_b</th>\n",
       "      <th>var_ratio_h</th>\n",
       "      <th>var_ratio_s</th>\n",
       "      <th>var_sigma_b</th>\n",
       "      <th>var_sigma_h</th>\n",
       "      <th>var_sigma_m</th>\n",
       "      <th>var_sigma_s</th>\n",
       "    </tr>\n",
       "  </thead>\n",
       "  <tbody>\n",
       "    <tr>\n",
       "      <th>3060</th>\n",
       "      <td>-35 27 01.6960</td>\n",
       "      <td>-35.450471</td>\n",
       "      <td>1.394594e-12</td>\n",
       "      <td>NaN</td>\n",
       "      <td>21569.80016</td>\n",
       "      <td>3.151066e+08</td>\n",
       "      <td>3.151281e+08</td>\n",
       "      <td>-0.563398</td>\n",
       "      <td>-0.899438</td>\n",
       "      <td>-0.682074</td>\n",
       "      <td>...</td>\n",
       "      <td>0.187061</td>\n",
       "      <td>0.300533</td>\n",
       "      <td>0.054615</td>\n",
       "      <td>0.000098</td>\n",
       "      <td>0.088607</td>\n",
       "      <td>0.001371</td>\n",
       "      <td>0.000020</td>\n",
       "      <td>0.001070</td>\n",
       "      <td>0.001061</td>\n",
       "      <td>0.000187</td>\n",
       "    </tr>\n",
       "    <tr>\n",
       "      <th>3056</th>\n",
       "      <td>-35 27 01.6960</td>\n",
       "      <td>-35.450471</td>\n",
       "      <td>1.903958e-12</td>\n",
       "      <td>NaN</td>\n",
       "      <td>29619.19989</td>\n",
       "      <td>1.614829e+08</td>\n",
       "      <td>1.615125e+08</td>\n",
       "      <td>-0.555903</td>\n",
       "      <td>-0.888195</td>\n",
       "      <td>-0.657089</td>\n",
       "      <td>...</td>\n",
       "      <td>0.122812</td>\n",
       "      <td>0.026117</td>\n",
       "      <td>0.025330</td>\n",
       "      <td>0.000072</td>\n",
       "      <td>0.011217</td>\n",
       "      <td>0.000318</td>\n",
       "      <td>0.000021</td>\n",
       "      <td>0.000191</td>\n",
       "      <td>0.000006</td>\n",
       "      <td>0.000061</td>\n",
       "    </tr>\n",
       "    <tr>\n",
       "      <th>3057</th>\n",
       "      <td>-35 27 01.6960</td>\n",
       "      <td>-35.450471</td>\n",
       "      <td>9.695439e-13</td>\n",
       "      <td>NaN</td>\n",
       "      <td>46279.89991</td>\n",
       "      <td>1.705486e+08</td>\n",
       "      <td>1.705949e+08</td>\n",
       "      <td>-0.619613</td>\n",
       "      <td>-0.911930</td>\n",
       "      <td>-0.669582</td>\n",
       "      <td>...</td>\n",
       "      <td>0.126087</td>\n",
       "      <td>0.018908</td>\n",
       "      <td>0.039496</td>\n",
       "      <td>0.000282</td>\n",
       "      <td>0.020732</td>\n",
       "      <td>0.000722</td>\n",
       "      <td>0.000046</td>\n",
       "      <td>0.000157</td>\n",
       "      <td>0.000008</td>\n",
       "      <td>0.000082</td>\n",
       "    </tr>\n",
       "    <tr>\n",
       "      <th>3058</th>\n",
       "      <td>-35 27 01.6960</td>\n",
       "      <td>-35.450471</td>\n",
       "      <td>2.451785e-13</td>\n",
       "      <td>NaN</td>\n",
       "      <td>60108.79978</td>\n",
       "      <td>3.293245e+08</td>\n",
       "      <td>3.293846e+08</td>\n",
       "      <td>-0.568395</td>\n",
       "      <td>-0.893192</td>\n",
       "      <td>-0.659588</td>\n",
       "      <td>...</td>\n",
       "      <td>0.145909</td>\n",
       "      <td>0.043529</td>\n",
       "      <td>0.022539</td>\n",
       "      <td>0.000058</td>\n",
       "      <td>0.011981</td>\n",
       "      <td>0.000112</td>\n",
       "      <td>0.000004</td>\n",
       "      <td>0.000035</td>\n",
       "      <td>0.000008</td>\n",
       "      <td>0.000007</td>\n",
       "    </tr>\n",
       "    <tr>\n",
       "      <th>3059</th>\n",
       "      <td>-35 27 01.6960</td>\n",
       "      <td>-35.450471</td>\n",
       "      <td>1.295565e-12</td>\n",
       "      <td>NaN</td>\n",
       "      <td>18542.76935</td>\n",
       "      <td>3.148822e+08</td>\n",
       "      <td>3.149007e+08</td>\n",
       "      <td>-0.580887</td>\n",
       "      <td>-0.911930</td>\n",
       "      <td>-0.704560</td>\n",
       "      <td>...</td>\n",
       "      <td>0.123099</td>\n",
       "      <td>0.034982</td>\n",
       "      <td>0.080846</td>\n",
       "      <td>0.003615</td>\n",
       "      <td>0.008296</td>\n",
       "      <td>0.002591</td>\n",
       "      <td>0.000694</td>\n",
       "      <td>0.000088</td>\n",
       "      <td>0.000051</td>\n",
       "      <td>0.000346</td>\n",
       "    </tr>\n",
       "    <tr>\n",
       "      <th>3061</th>\n",
       "      <td>-35 27 01.6960</td>\n",
       "      <td>-35.450471</td>\n",
       "      <td>2.635883e-13</td>\n",
       "      <td>NaN</td>\n",
       "      <td>28162.49702</td>\n",
       "      <td>4.890969e+08</td>\n",
       "      <td>4.891250e+08</td>\n",
       "      <td>-0.517177</td>\n",
       "      <td>-0.865709</td>\n",
       "      <td>-0.629606</td>\n",
       "      <td>...</td>\n",
       "      <td>0.182616</td>\n",
       "      <td>0.042836</td>\n",
       "      <td>0.043698</td>\n",
       "      <td>0.000452</td>\n",
       "      <td>0.019569</td>\n",
       "      <td>0.000851</td>\n",
       "      <td>0.000029</td>\n",
       "      <td>0.000066</td>\n",
       "      <td>0.000017</td>\n",
       "      <td>0.000039</td>\n",
       "    </tr>\n",
       "  </tbody>\n",
       "</table>\n",
       "<p>6 rows × 75 columns</p>\n",
       "</div>"
      ],
      "text/plain": [
       "            dec_sexa  dec_simbad   flux_aper_b   g   gti_elapse     gti_start  \\\n",
       "3060  -35 27 01.6960  -35.450471  1.394594e-12 NaN  21569.80016  3.151066e+08   \n",
       "3056  -35 27 01.6960  -35.450471  1.903958e-12 NaN  29619.19989  1.614829e+08   \n",
       "3057  -35 27 01.6960  -35.450471  9.695439e-13 NaN  46279.89991  1.705486e+08   \n",
       "3058  -35 27 01.6960  -35.450471  2.451785e-13 NaN  60108.79978  3.293245e+08   \n",
       "3059  -35 27 01.6960  -35.450471  1.295565e-12 NaN  18542.76935  3.148822e+08   \n",
       "3061  -35 27 01.6960  -35.450471  2.635883e-13 NaN  28162.49702  4.890969e+08   \n",
       "\n",
       "          gti_stop   hard_hm   hard_hs   hard_ms  ...  var_prob_h  var_prob_m  \\\n",
       "3060  3.151281e+08 -0.563398 -0.899438 -0.682074  ...    0.187061    0.300533   \n",
       "3056  1.615125e+08 -0.555903 -0.888195 -0.657089  ...    0.122812    0.026117   \n",
       "3057  1.705949e+08 -0.619613 -0.911930 -0.669582  ...    0.126087    0.018908   \n",
       "3058  3.293846e+08 -0.568395 -0.893192 -0.659588  ...    0.145909    0.043529   \n",
       "3059  3.149007e+08 -0.580887 -0.911930 -0.704560  ...    0.123099    0.034982   \n",
       "3061  4.891250e+08 -0.517177 -0.865709 -0.629606  ...    0.182616    0.042836   \n",
       "\n",
       "      var_prob_s  var_ratio_b  var_ratio_h  var_ratio_s  var_sigma_b  \\\n",
       "3060    0.054615     0.000098     0.088607     0.001371     0.000020   \n",
       "3056    0.025330     0.000072     0.011217     0.000318     0.000021   \n",
       "3057    0.039496     0.000282     0.020732     0.000722     0.000046   \n",
       "3058    0.022539     0.000058     0.011981     0.000112     0.000004   \n",
       "3059    0.080846     0.003615     0.008296     0.002591     0.000694   \n",
       "3061    0.043698     0.000452     0.019569     0.000851     0.000029   \n",
       "\n",
       "      var_sigma_h  var_sigma_m  var_sigma_s  \n",
       "3060     0.001070     0.001061     0.000187  \n",
       "3056     0.000191     0.000006     0.000061  \n",
       "3057     0.000157     0.000008     0.000082  \n",
       "3058     0.000035     0.000008     0.000007  \n",
       "3059     0.000088     0.000051     0.000346  \n",
       "3061     0.000066     0.000017     0.000039  \n",
       "\n",
       "[6 rows x 75 columns]"
      ]
     },
     "execution_count": 54,
     "metadata": {},
     "output_type": "execute_result"
    }
   ],
   "source": [
    "df_classified_cscs[df_classified_cscs.name == '2CXO J033829.0-352701'].iloc[:,30:-1]"
   ]
  },
  {
   "cell_type": "code",
   "execution_count": 46,
   "id": "0d7ed7fb",
   "metadata": {},
   "outputs": [
    {
     "data": {
      "text/plain": [
       "0.0"
      ]
     },
     "execution_count": 46,
     "metadata": {},
     "output_type": "execute_result"
    }
   ],
   "source": [
    "round(df_classified_cscs[df_classified_cscs.name == '2CXO J053615.0-051530'].YSO, 3).std(ddof=0)"
   ]
  },
  {
   "cell_type": "code",
   "execution_count": 38,
   "id": "67f3d192",
   "metadata": {},
   "outputs": [
    {
     "data": {
      "text/html": [
       "<div>\n",
       "<style scoped>\n",
       "    .dataframe tbody tr th:only-of-type {\n",
       "        vertical-align: middle;\n",
       "    }\n",
       "\n",
       "    .dataframe tbody tr th {\n",
       "        vertical-align: top;\n",
       "    }\n",
       "\n",
       "    .dataframe thead th {\n",
       "        text-align: right;\n",
       "    }\n",
       "</style>\n",
       "<table border=\"1\" class=\"dataframe\">\n",
       "  <thead>\n",
       "    <tr style=\"text-align: right;\">\n",
       "      <th></th>\n",
       "      <th>name</th>\n",
       "      <th>agg_master_class</th>\n",
       "      <th>master_class</th>\n",
       "      <th>detection_count</th>\n",
       "      <th>Orion_V*</th>\n",
       "      <th>QSO</th>\n",
       "      <th>AGN</th>\n",
       "      <th>Seyfert_1</th>\n",
       "      <th>Seyfert_2</th>\n",
       "      <th>HMXB</th>\n",
       "      <th>LMXB</th>\n",
       "      <th>XB</th>\n",
       "      <th>YSO</th>\n",
       "      <th>TTau*</th>\n",
       "    </tr>\n",
       "  </thead>\n",
       "  <tbody>\n",
       "    <tr>\n",
       "      <th>48</th>\n",
       "      <td>2CXO J013324.4+304402</td>\n",
       "      <td>XB</td>\n",
       "      <td>HMXB</td>\n",
       "      <td>11</td>\n",
       "      <td>0.277±0.172</td>\n",
       "      <td>0.007±0.005</td>\n",
       "      <td>0.024±0.02</td>\n",
       "      <td>0.004±0.002</td>\n",
       "      <td>0.343±0.208</td>\n",
       "      <td>0.376±0.429</td>\n",
       "      <td>0.105±0.057</td>\n",
       "      <td>0.013±0.009</td>\n",
       "      <td>0.135±0.094</td>\n",
       "      <td>0.01±0.004</td>\n",
       "    </tr>\n",
       "  </tbody>\n",
       "</table>\n",
       "</div>"
      ],
      "text/plain": [
       "                     name agg_master_class master_class  detection_count  \\\n",
       "48  2CXO J013324.4+304402               XB         HMXB               11   \n",
       "\n",
       "       Orion_V*          QSO         AGN    Seyfert_1    Seyfert_2  \\\n",
       "48  0.277±0.172  0.007±0.005  0.024±0.02  0.004±0.002  0.343±0.208   \n",
       "\n",
       "           HMXB         LMXB           XB          YSO       TTau*  \n",
       "48  0.376±0.429  0.105±0.057  0.013±0.009  0.135±0.094  0.01±0.004  "
      ]
     },
     "execution_count": 38,
     "metadata": {},
     "output_type": "execute_result"
    }
   ],
   "source": [
    "df_class_confident[df_class_confident.name == '2CXO J013324.4+304402']"
   ]
  },
  {
   "cell_type": "code",
   "execution_count": null,
   "id": "95110098",
   "metadata": {},
   "outputs": [],
   "source": []
  }
 ],
 "metadata": {
  "kernelspec": {
   "display_name": "Python 3",
   "language": "python",
   "name": "python3"
  },
  "language_info": {
   "codemirror_mode": {
    "name": "ipython",
    "version": 3
   },
   "file_extension": ".py",
   "mimetype": "text/x-python",
   "name": "python",
   "nbconvert_exporter": "python",
   "pygments_lexer": "ipython3",
   "version": "3.9.4"
  }
 },
 "nbformat": 4,
 "nbformat_minor": 5
}
