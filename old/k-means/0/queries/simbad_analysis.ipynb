{
 "cells": [
  {
   "cell_type": "markdown",
   "id": "molecular-stylus",
   "metadata": {},
   "source": [
    "### UNSUPERVISED MACHINE LEARNING FOR THE CLASSIFICATION OF ASTROPHYSICAL X-RAY SOURCES"
   ]
  },
  {
   "cell_type": "code",
   "execution_count": 1,
   "id": "intimate-shift",
   "metadata": {},
   "outputs": [],
   "source": [
    "import numpy as np\n",
    "import pandas as pd"
   ]
  },
  {
   "cell_type": "code",
   "execution_count": 2,
   "id": "controlled-begin",
   "metadata": {},
   "outputs": [],
   "source": [
    "data = pd.read_csv(\"../k-means/astrox_km6_allvar_0.csv\", index_col=0)\n",
    "sim_data = pd.read_csv('../k-means/1618472409092A.csv')"
   ]
  },
  {
   "cell_type": "code",
   "execution_count": 3,
   "metadata": {},
   "outputs": [
    {
     "output_type": "execute_result",
     "data": {
      "text/plain": [
       "        angDist                   main_id          ra        dec  coo_err_maj  \\\n",
       "0      0.387334            QSO B2357-3520    0.012187 -35.059058        0.000   \n",
       "1      1.612879     2XMM J000025.4-245421    0.106387 -24.905729        0.000   \n",
       "2      1.225589                 ESO 193-8    0.129400 -50.154242          NaN   \n",
       "3      1.579684     2XMM J000031.8-245501    0.132875 -24.916639          NaN   \n",
       "4      2.046651          UCAC4 326-000009    0.132975 -24.915672        0.000   \n",
       "...         ...                       ...         ...        ...          ...   \n",
       "47455  2.439415                [RP99] P12  359.660833 -32.619444          NaN   \n",
       "47456  0.014753                 NGC  7796  359.749208 -55.458367          NaN   \n",
       "47457  0.554088   2MASX J23590436-6054594  359.768188 -60.916503          NaN   \n",
       "47458  1.068195  SDSS J235910.69+175846.8  359.794585  17.979705        0.003   \n",
       "47459  0.403303  SDSS J235922.65+181129.7  359.844382  18.191603          NaN   \n",
       "\n",
       "       coo_err_min  coo_err_angle  nbref         ra_sexa        dec_sexa  ...  \\\n",
       "0            0.000             90      9  00 00 02.92483  -35 03 32.6078  ...   \n",
       "1            0.000             90      1  00 00 25.53294  -24 54 20.6242  ...   \n",
       "2              NaN            172     12  00 00 31.056    -50 09 15.27    ...   \n",
       "3              NaN            172      1  00 00 31.89     -24 54 59.9     ...   \n",
       "4            0.000             90     16  00 00 31.91408  -24 54 56.4184  ...   \n",
       "...            ...            ...    ...             ...             ...  ...   \n",
       "47455          NaN            172      1  23 58 38.6      -32 37 10       ...   \n",
       "47456          NaN            172    107  23 58 59.810    -55 27 30.12    ...   \n",
       "47457          NaN            172    119  23 59 04.365    -60 54 59.41    ...   \n",
       "47458        0.001             90      4  23 59 10.70045  +17 58 46.9384  ...   \n",
       "47459          NaN            172      1  23 59 22.652    +18 11 29.77    ...   \n",
       "\n",
       "            i       z   col1        ra.1      dec.1  obsid  \\\n",
       "0         NaN     NaN      0    0.012318 -35.059068  15712   \n",
       "1         NaN     NaN      3    0.106246 -24.905300  13394   \n",
       "2         NaN     NaN      8    0.129721 -50.153970  11997   \n",
       "3         NaN     NaN      9    0.132773 -24.916210  13394   \n",
       "4         NaN     NaN      9    0.132773 -24.916210  13394   \n",
       "...       ...     ...    ...         ...        ...    ...   \n",
       "47455     NaN     NaN  37843  359.661507 -32.619814  14231   \n",
       "47456     NaN     NaN  37854  359.749203 -55.458364   7061   \n",
       "47457     NaN     NaN  37857  359.767910 -60.916429  11507   \n",
       "47458  20.466  20.099  37859  359.794289  17.979611  14894   \n",
       "47459  19.448  19.665  37863  359.844351  18.191711  14894   \n",
       "\n",
       "                        name  cluster  silhouette_prob  silhouette  \n",
       "0      2CXO J000002.9-350332        2         0.512519    0.025038  \n",
       "1      2CXO J000025.4-245419        3         0.547099    0.094198  \n",
       "2      2CXO J000031.1-500914        5         0.542684    0.085368  \n",
       "3      2CXO J000031.8-245458        2         0.548895    0.097789  \n",
       "4      2CXO J000031.8-245458        2         0.548895    0.097789  \n",
       "...                      ...      ...              ...         ...  \n",
       "47455  2CXO J235838.7-323711        2         0.540412    0.080824  \n",
       "47456  2CXO J235859.8-552730        3         0.543181    0.086361  \n",
       "47457  2CXO J235904.2-605459        0         0.521610    0.043221  \n",
       "47458  2CXO J235910.6+175846        3         0.557748    0.115496  \n",
       "47459  2CXO J235922.6+181130        2         0.543303    0.086605  \n",
       "\n",
       "[52460 rows x 41 columns]"
      ],
      "text/html": "<div>\n<style scoped>\n    .dataframe tbody tr th:only-of-type {\n        vertical-align: middle;\n    }\n\n    .dataframe tbody tr th {\n        vertical-align: top;\n    }\n\n    .dataframe thead th {\n        text-align: right;\n    }\n</style>\n<table border=\"1\" class=\"dataframe\">\n  <thead>\n    <tr style=\"text-align: right;\">\n      <th></th>\n      <th>angDist</th>\n      <th>main_id</th>\n      <th>ra</th>\n      <th>dec</th>\n      <th>coo_err_maj</th>\n      <th>coo_err_min</th>\n      <th>coo_err_angle</th>\n      <th>nbref</th>\n      <th>ra_sexa</th>\n      <th>dec_sexa</th>\n      <th>...</th>\n      <th>i</th>\n      <th>z</th>\n      <th>col1</th>\n      <th>ra.1</th>\n      <th>dec.1</th>\n      <th>obsid</th>\n      <th>name</th>\n      <th>cluster</th>\n      <th>silhouette_prob</th>\n      <th>silhouette</th>\n    </tr>\n  </thead>\n  <tbody>\n    <tr>\n      <th>0</th>\n      <td>0.387334</td>\n      <td>QSO B2357-3520</td>\n      <td>0.012187</td>\n      <td>-35.059058</td>\n      <td>0.000</td>\n      <td>0.000</td>\n      <td>90</td>\n      <td>9</td>\n      <td>00 00 02.92483</td>\n      <td>-35 03 32.6078</td>\n      <td>...</td>\n      <td>NaN</td>\n      <td>NaN</td>\n      <td>0</td>\n      <td>0.012318</td>\n      <td>-35.059068</td>\n      <td>15712</td>\n      <td>2CXO J000002.9-350332</td>\n      <td>2</td>\n      <td>0.512519</td>\n      <td>0.025038</td>\n    </tr>\n    <tr>\n      <th>1</th>\n      <td>1.612879</td>\n      <td>2XMM J000025.4-245421</td>\n      <td>0.106387</td>\n      <td>-24.905729</td>\n      <td>0.000</td>\n      <td>0.000</td>\n      <td>90</td>\n      <td>1</td>\n      <td>00 00 25.53294</td>\n      <td>-24 54 20.6242</td>\n      <td>...</td>\n      <td>NaN</td>\n      <td>NaN</td>\n      <td>3</td>\n      <td>0.106246</td>\n      <td>-24.905300</td>\n      <td>13394</td>\n      <td>2CXO J000025.4-245419</td>\n      <td>3</td>\n      <td>0.547099</td>\n      <td>0.094198</td>\n    </tr>\n    <tr>\n      <th>2</th>\n      <td>1.225589</td>\n      <td>ESO 193-8</td>\n      <td>0.129400</td>\n      <td>-50.154242</td>\n      <td>NaN</td>\n      <td>NaN</td>\n      <td>172</td>\n      <td>12</td>\n      <td>00 00 31.056</td>\n      <td>-50 09 15.27</td>\n      <td>...</td>\n      <td>NaN</td>\n      <td>NaN</td>\n      <td>8</td>\n      <td>0.129721</td>\n      <td>-50.153970</td>\n      <td>11997</td>\n      <td>2CXO J000031.1-500914</td>\n      <td>5</td>\n      <td>0.542684</td>\n      <td>0.085368</td>\n    </tr>\n    <tr>\n      <th>3</th>\n      <td>1.579684</td>\n      <td>2XMM J000031.8-245501</td>\n      <td>0.132875</td>\n      <td>-24.916639</td>\n      <td>NaN</td>\n      <td>NaN</td>\n      <td>172</td>\n      <td>1</td>\n      <td>00 00 31.89</td>\n      <td>-24 54 59.9</td>\n      <td>...</td>\n      <td>NaN</td>\n      <td>NaN</td>\n      <td>9</td>\n      <td>0.132773</td>\n      <td>-24.916210</td>\n      <td>13394</td>\n      <td>2CXO J000031.8-245458</td>\n      <td>2</td>\n      <td>0.548895</td>\n      <td>0.097789</td>\n    </tr>\n    <tr>\n      <th>4</th>\n      <td>2.046651</td>\n      <td>UCAC4 326-000009</td>\n      <td>0.132975</td>\n      <td>-24.915672</td>\n      <td>0.000</td>\n      <td>0.000</td>\n      <td>90</td>\n      <td>16</td>\n      <td>00 00 31.91408</td>\n      <td>-24 54 56.4184</td>\n      <td>...</td>\n      <td>NaN</td>\n      <td>NaN</td>\n      <td>9</td>\n      <td>0.132773</td>\n      <td>-24.916210</td>\n      <td>13394</td>\n      <td>2CXO J000031.8-245458</td>\n      <td>2</td>\n      <td>0.548895</td>\n      <td>0.097789</td>\n    </tr>\n    <tr>\n      <th>...</th>\n      <td>...</td>\n      <td>...</td>\n      <td>...</td>\n      <td>...</td>\n      <td>...</td>\n      <td>...</td>\n      <td>...</td>\n      <td>...</td>\n      <td>...</td>\n      <td>...</td>\n      <td>...</td>\n      <td>...</td>\n      <td>...</td>\n      <td>...</td>\n      <td>...</td>\n      <td>...</td>\n      <td>...</td>\n      <td>...</td>\n      <td>...</td>\n      <td>...</td>\n      <td>...</td>\n    </tr>\n    <tr>\n      <th>47455</th>\n      <td>2.439415</td>\n      <td>[RP99] P12</td>\n      <td>359.660833</td>\n      <td>-32.619444</td>\n      <td>NaN</td>\n      <td>NaN</td>\n      <td>172</td>\n      <td>1</td>\n      <td>23 58 38.6</td>\n      <td>-32 37 10</td>\n      <td>...</td>\n      <td>NaN</td>\n      <td>NaN</td>\n      <td>37843</td>\n      <td>359.661507</td>\n      <td>-32.619814</td>\n      <td>14231</td>\n      <td>2CXO J235838.7-323711</td>\n      <td>2</td>\n      <td>0.540412</td>\n      <td>0.080824</td>\n    </tr>\n    <tr>\n      <th>47456</th>\n      <td>0.014753</td>\n      <td>NGC  7796</td>\n      <td>359.749208</td>\n      <td>-55.458367</td>\n      <td>NaN</td>\n      <td>NaN</td>\n      <td>172</td>\n      <td>107</td>\n      <td>23 58 59.810</td>\n      <td>-55 27 30.12</td>\n      <td>...</td>\n      <td>NaN</td>\n      <td>NaN</td>\n      <td>37854</td>\n      <td>359.749203</td>\n      <td>-55.458364</td>\n      <td>7061</td>\n      <td>2CXO J235859.8-552730</td>\n      <td>3</td>\n      <td>0.543181</td>\n      <td>0.086361</td>\n    </tr>\n    <tr>\n      <th>47457</th>\n      <td>0.554088</td>\n      <td>2MASX J23590436-6054594</td>\n      <td>359.768188</td>\n      <td>-60.916503</td>\n      <td>NaN</td>\n      <td>NaN</td>\n      <td>172</td>\n      <td>119</td>\n      <td>23 59 04.365</td>\n      <td>-60 54 59.41</td>\n      <td>...</td>\n      <td>NaN</td>\n      <td>NaN</td>\n      <td>37857</td>\n      <td>359.767910</td>\n      <td>-60.916429</td>\n      <td>11507</td>\n      <td>2CXO J235904.2-605459</td>\n      <td>0</td>\n      <td>0.521610</td>\n      <td>0.043221</td>\n    </tr>\n    <tr>\n      <th>47458</th>\n      <td>1.068195</td>\n      <td>SDSS J235910.69+175846.8</td>\n      <td>359.794585</td>\n      <td>17.979705</td>\n      <td>0.003</td>\n      <td>0.001</td>\n      <td>90</td>\n      <td>4</td>\n      <td>23 59 10.70045</td>\n      <td>+17 58 46.9384</td>\n      <td>...</td>\n      <td>20.466</td>\n      <td>20.099</td>\n      <td>37859</td>\n      <td>359.794289</td>\n      <td>17.979611</td>\n      <td>14894</td>\n      <td>2CXO J235910.6+175846</td>\n      <td>3</td>\n      <td>0.557748</td>\n      <td>0.115496</td>\n    </tr>\n    <tr>\n      <th>47459</th>\n      <td>0.403303</td>\n      <td>SDSS J235922.65+181129.7</td>\n      <td>359.844382</td>\n      <td>18.191603</td>\n      <td>NaN</td>\n      <td>NaN</td>\n      <td>172</td>\n      <td>1</td>\n      <td>23 59 22.652</td>\n      <td>+18 11 29.77</td>\n      <td>...</td>\n      <td>19.448</td>\n      <td>19.665</td>\n      <td>37863</td>\n      <td>359.844351</td>\n      <td>18.191711</td>\n      <td>14894</td>\n      <td>2CXO J235922.6+181130</td>\n      <td>2</td>\n      <td>0.543303</td>\n      <td>0.086605</td>\n    </tr>\n  </tbody>\n</table>\n<p>52460 rows × 41 columns</p>\n</div>"
     },
     "metadata": {},
     "execution_count": 3
    }
   ],
   "source": [
    "sim_data.sort_values(by='col1')"
   ]
  },
  {
   "cell_type": "code",
   "execution_count": 4,
   "metadata": {},
   "outputs": [],
   "source": [
    "sim_df = sim_data[['angDist', 'main_type', 'col1', 'ra.1', 'dec.1', 'obsid', 'name', 'cluster', 'silhouette_prob', 'silhouette']]"
   ]
  },
  {
   "cell_type": "code",
   "execution_count": 5,
   "metadata": {
    "tags": []
   },
   "outputs": [],
   "source": [
    "sim_df_clean = pd.DataFrame(columns=sim_df.columns)\n",
    "for i in np.unique(sim_df['col1']):\n",
    "    df_col = sim_df[sim_df.col1 == i]\n",
    "    if ~df_col.empty:\n",
    "        dist_argmin = df_col['angDist'].idxmin()\n",
    "        sim_df_clean.loc[dist_argmin] = df_col.loc[dist_argmin]"
   ]
  },
  {
   "cell_type": "code",
   "execution_count": 31,
   "metadata": {},
   "outputs": [
    {
     "output_type": "execute_result",
     "data": {
      "text/plain": [
       "        angDist  main_type   col1        ra.1      dec.1  obsid  \\\n",
       "0      0.387334        QSO      0    0.012318 -35.059068  15712   \n",
       "1      1.612879        AGN      3    0.106246 -24.905300  13394   \n",
       "2      1.225589         IG      8    0.129721 -50.153970  11997   \n",
       "3      1.579684        EmG      9    0.132773 -24.916210  13394   \n",
       "5      0.575115     Galaxy     15    0.249874 -57.809243   9335   \n",
       "...         ...        ...    ...         ...        ...    ...   \n",
       "47455  2.439415     Galaxy  37843  359.661507 -32.619814  14231   \n",
       "47456  0.014753     Galaxy  37854  359.749203 -55.458364   7061   \n",
       "47457  0.554088  Seyfert_2  37857  359.767910 -60.916429  11507   \n",
       "47458  1.068195        QSO  37859  359.794289  17.979611  14894   \n",
       "47459  0.403303        QSO  37863  359.844351  18.191711  14894   \n",
       "\n",
       "                        name cluster  silhouette_prob  silhouette  \n",
       "0      2CXO J000002.9-350332       2         0.512519    0.025038  \n",
       "1      2CXO J000025.4-245419       3         0.547099    0.094198  \n",
       "2      2CXO J000031.1-500914       5         0.542684    0.085368  \n",
       "3      2CXO J000031.8-245458       2         0.548895    0.097789  \n",
       "5      2CXO J000059.9-574833       5         0.582698    0.165396  \n",
       "...                      ...     ...              ...         ...  \n",
       "47455  2CXO J235838.7-323711       2         0.540412    0.080824  \n",
       "47456  2CXO J235859.8-552730       3         0.543181    0.086361  \n",
       "47457  2CXO J235904.2-605459       0         0.521610    0.043221  \n",
       "47458  2CXO J235910.6+175846       3         0.557748    0.115496  \n",
       "47459  2CXO J235922.6+181130       2         0.543303    0.086605  \n",
       "\n",
       "[17083 rows x 10 columns]"
      ],
      "text/html": "<div>\n<style scoped>\n    .dataframe tbody tr th:only-of-type {\n        vertical-align: middle;\n    }\n\n    .dataframe tbody tr th {\n        vertical-align: top;\n    }\n\n    .dataframe thead th {\n        text-align: right;\n    }\n</style>\n<table border=\"1\" class=\"dataframe\">\n  <thead>\n    <tr style=\"text-align: right;\">\n      <th></th>\n      <th>angDist</th>\n      <th>main_type</th>\n      <th>col1</th>\n      <th>ra.1</th>\n      <th>dec.1</th>\n      <th>obsid</th>\n      <th>name</th>\n      <th>cluster</th>\n      <th>silhouette_prob</th>\n      <th>silhouette</th>\n    </tr>\n  </thead>\n  <tbody>\n    <tr>\n      <th>0</th>\n      <td>0.387334</td>\n      <td>QSO</td>\n      <td>0</td>\n      <td>0.012318</td>\n      <td>-35.059068</td>\n      <td>15712</td>\n      <td>2CXO J000002.9-350332</td>\n      <td>2</td>\n      <td>0.512519</td>\n      <td>0.025038</td>\n    </tr>\n    <tr>\n      <th>1</th>\n      <td>1.612879</td>\n      <td>AGN</td>\n      <td>3</td>\n      <td>0.106246</td>\n      <td>-24.905300</td>\n      <td>13394</td>\n      <td>2CXO J000025.4-245419</td>\n      <td>3</td>\n      <td>0.547099</td>\n      <td>0.094198</td>\n    </tr>\n    <tr>\n      <th>2</th>\n      <td>1.225589</td>\n      <td>IG</td>\n      <td>8</td>\n      <td>0.129721</td>\n      <td>-50.153970</td>\n      <td>11997</td>\n      <td>2CXO J000031.1-500914</td>\n      <td>5</td>\n      <td>0.542684</td>\n      <td>0.085368</td>\n    </tr>\n    <tr>\n      <th>3</th>\n      <td>1.579684</td>\n      <td>EmG</td>\n      <td>9</td>\n      <td>0.132773</td>\n      <td>-24.916210</td>\n      <td>13394</td>\n      <td>2CXO J000031.8-245458</td>\n      <td>2</td>\n      <td>0.548895</td>\n      <td>0.097789</td>\n    </tr>\n    <tr>\n      <th>5</th>\n      <td>0.575115</td>\n      <td>Galaxy</td>\n      <td>15</td>\n      <td>0.249874</td>\n      <td>-57.809243</td>\n      <td>9335</td>\n      <td>2CXO J000059.9-574833</td>\n      <td>5</td>\n      <td>0.582698</td>\n      <td>0.165396</td>\n    </tr>\n    <tr>\n      <th>...</th>\n      <td>...</td>\n      <td>...</td>\n      <td>...</td>\n      <td>...</td>\n      <td>...</td>\n      <td>...</td>\n      <td>...</td>\n      <td>...</td>\n      <td>...</td>\n      <td>...</td>\n    </tr>\n    <tr>\n      <th>47455</th>\n      <td>2.439415</td>\n      <td>Galaxy</td>\n      <td>37843</td>\n      <td>359.661507</td>\n      <td>-32.619814</td>\n      <td>14231</td>\n      <td>2CXO J235838.7-323711</td>\n      <td>2</td>\n      <td>0.540412</td>\n      <td>0.080824</td>\n    </tr>\n    <tr>\n      <th>47456</th>\n      <td>0.014753</td>\n      <td>Galaxy</td>\n      <td>37854</td>\n      <td>359.749203</td>\n      <td>-55.458364</td>\n      <td>7061</td>\n      <td>2CXO J235859.8-552730</td>\n      <td>3</td>\n      <td>0.543181</td>\n      <td>0.086361</td>\n    </tr>\n    <tr>\n      <th>47457</th>\n      <td>0.554088</td>\n      <td>Seyfert_2</td>\n      <td>37857</td>\n      <td>359.767910</td>\n      <td>-60.916429</td>\n      <td>11507</td>\n      <td>2CXO J235904.2-605459</td>\n      <td>0</td>\n      <td>0.521610</td>\n      <td>0.043221</td>\n    </tr>\n    <tr>\n      <th>47458</th>\n      <td>1.068195</td>\n      <td>QSO</td>\n      <td>37859</td>\n      <td>359.794289</td>\n      <td>17.979611</td>\n      <td>14894</td>\n      <td>2CXO J235910.6+175846</td>\n      <td>3</td>\n      <td>0.557748</td>\n      <td>0.115496</td>\n    </tr>\n    <tr>\n      <th>47459</th>\n      <td>0.403303</td>\n      <td>QSO</td>\n      <td>37863</td>\n      <td>359.844351</td>\n      <td>18.191711</td>\n      <td>14894</td>\n      <td>2CXO J235922.6+181130</td>\n      <td>2</td>\n      <td>0.543303</td>\n      <td>0.086605</td>\n    </tr>\n  </tbody>\n</table>\n<p>17083 rows × 10 columns</p>\n</div>"
     },
     "metadata": {},
     "execution_count": 31
    }
   ],
   "source": [
    "sim_df_clean"
   ]
  },
  {
   "cell_type": "code",
   "execution_count": 110,
   "metadata": {},
   "outputs": [],
   "source": [
    "data_0 = sim_df_clean[sim_df_clean.cluster == 0]\n",
    "data_1 = sim_df_clean[sim_df_clean.cluster == 1]\n",
    "data_2 = sim_df_clean[sim_df_clean.cluster == 2]\n",
    "data_3 = sim_df_clean[sim_df_clean.cluster == 3]\n",
    "data_4 = sim_df_clean[sim_df_clean.cluster == 4]\n",
    "data_5 = sim_df_clean[sim_df_clean.cluster == 5]"
   ]
  },
  {
   "cell_type": "code",
   "execution_count": 111,
   "metadata": {},
   "outputs": [],
   "source": [
    "sil_mean_std_0 = data_0.groupby(['main_type'])[['silhouette_prob','silhouette']].agg(['mean', 'std'])\n",
    "count_obj_0 = data_0.groupby(data_0.main_type).size()\n",
    "df_0 = pd.concat([sil_mean_std_0, count_obj_0],axis=1)\n",
    "df_0 = df_0.rename(columns={0:'size'})"
   ]
  },
  {
   "cell_type": "code",
   "execution_count": 112,
   "metadata": {},
   "outputs": [],
   "source": [
    "sil_mean_std_1 = data_1.groupby(['main_type'])[['silhouette_prob','silhouette']].agg(['mean', 'std'])\n",
    "count_obj_1 = data_1.groupby(data_1.main_type).size()\n",
    "df_1 = pd.concat([sil_mean_std_1, count_obj_1],axis=1)\n",
    "df_1 = df_1.rename(columns={0:'size'})"
   ]
  },
  {
   "cell_type": "code",
   "execution_count": 113,
   "metadata": {},
   "outputs": [],
   "source": [
    "sil_mean_std_2 = data_2.groupby(['main_type'])[['silhouette_prob','silhouette']].agg(['mean', 'std'])\n",
    "count_obj_2 = data_2.groupby(data_2.main_type).size()\n",
    "df_2 = pd.concat([sil_mean_std_2, count_obj_2],axis=1)\n",
    "df_2 = df_2.rename(columns={0:'size'})"
   ]
  },
  {
   "cell_type": "code",
   "execution_count": 114,
   "metadata": {},
   "outputs": [],
   "source": [
    "sil_mean_std_3 = data_3.groupby(['main_type'])[['silhouette_prob','silhouette']].agg(['mean', 'std'])\n",
    "count_obj_3 = data_3.groupby(data_3.main_type).size()\n",
    "df_3 = pd.concat([sil_mean_std_3, count_obj_3],axis=1)\n",
    "df_3 = df_3.rename(columns={0:'size'})"
   ]
  },
  {
   "cell_type": "code",
   "execution_count": 115,
   "metadata": {},
   "outputs": [],
   "source": [
    "sil_mean_std_4 = data_4.groupby(['main_type'])[['silhouette_prob','silhouette']].agg(['mean', 'std'])\n",
    "count_obj_4 = data_4.groupby(data_4.main_type).size()\n",
    "df_4 = pd.concat([sil_mean_std_4, count_obj_4],axis=1)\n",
    "df_4 = df_4.rename(columns={0:'size'})"
   ]
  },
  {
   "cell_type": "code",
   "execution_count": 116,
   "metadata": {},
   "outputs": [],
   "source": [
    "sil_mean_std_5 = data_5.groupby(['main_type'])[['silhouette_prob','silhouette']].agg(['mean', 'std'])\n",
    "count_obj_5 = data_5.groupby(data_5.main_type).size()\n",
    "df_5 = pd.concat([sil_mean_std_5, count_obj_5],axis=1)\n",
    "df_5 = df_5.rename(columns={0:'size'})"
   ]
  }
 ],
 "metadata": {
  "kernelspec": {
   "name": "python391jvsc74a57bd011d41d6631468f14d705776df5667f6bffd4ae088cf4427f5dbcbac068467dc6",
   "display_name": "Python 3.9.1 64-bit ('astrox': conda)"
  },
  "language_info": {
   "codemirror_mode": {
    "name": "ipython",
    "version": 3
   },
   "file_extension": ".py",
   "mimetype": "text/x-python",
   "name": "python",
   "nbconvert_exporter": "python",
   "pygments_lexer": "ipython3",
   "version": "3.9.1"
  }
 },
 "nbformat": 4,
 "nbformat_minor": 5
}